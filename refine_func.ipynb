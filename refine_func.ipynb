{
 "cells": [
  {
   "cell_type": "markdown",
   "metadata": {},
   "source": [
    "#  refine all update functions which will be used in apis-emulator/inputData.py"
   ]
  },
  {
   "cell_type": "markdown",
   "metadata": {},
   "source": [
    "## sample data func"
   ]
  },
  {
   "cell_type": "code",
   "execution_count": 8,
   "metadata": {},
   "outputs": [],
   "source": [
    "import os\n",
    "import pandas as pd\n",
    "import numpy as np\n",
    "\n",
    "import logging.config, datetime\n",
    "logger = logging.getLogger(__name__)\n",
    "\n",
    "import matplotlib.pyplot as plt\n",
    "%matplotlib inline"
   ]
  },
  {
   "cell_type": "code",
   "execution_count": 12,
   "metadata": {},
   "outputs": [],
   "source": [
    "def old_loadDemand_Sample():\n",
    "    global demand\n",
    "\n",
    "    demand = {}\n",
    "    # demand_data = np.genfromtxt('data/input/Sample/sample_load_data.csv', delimiter=',', names=True, dtype=None, encoding='utf-8')\n",
    "    cols = list(range(6, 52+1, 2))\n",
    "    cols.insert(0, 1)\n",
    "    print(cols)\n",
    "    # read column 2, col 7~53 for every 2 cols (1 hour per data point) from input data\n",
    "    # replace our own data files to the /Sample/ folder\n",
    "    demand_data = np.loadtxt('/Users/Huang/Documents/APIS/apis-emulator/data/input/Sample/sample_load_data.csv', delimiter=',', skiprows=1, usecols=cols, encoding='utf8')\n",
    "    print(demand_data)\n",
    "    \n",
    "    \n",
    "    for row in demand_data:\n",
    "#         print(int(row[0]), row)\n",
    "        cus_id = \"E{0:03d}\".format(int(row[0]))\n",
    "#         print(\"cus_id\", cus_id)\n",
    "        if not demand.get(cus_id):\n",
    "            demand[cus_id] = []\n",
    "        demand[cus_id].append(row[1:])\n",
    "#         print(demand[cus_id])\n",
    "        \n",
    "#     print(\"all id\", demand)\n",
    "    \n",
    "    for cus_id in demand:\n",
    "        demand[cus_id] = np.array(demand[cus_id])\n",
    "        displayNames[cus_id] = \"Sample_\"+cus_id\n",
    "\n",
    "    return demand"
   ]
  },
  {
   "cell_type": "code",
   "execution_count": 14,
   "metadata": {},
   "outputs": [
    {
     "name": "stdout",
     "output_type": "stream",
     "text": [
      "[1, 6, 8, 10, 12, 14, 16, 18, 20, 22, 24, 26, 28, 30, 32, 34, 36, 38, 40, 42, 44, 46, 48, 50, 52]\n",
      "[[  1.     0.13   0.13 ...   0.13   0.11   0.11]\n",
      " [  1.     0.13   0.13 ...   0.13   0.13   0.13]\n",
      " [  1.     0.14   0.14 ...   0.15   0.16   0.13]\n",
      " ...\n",
      " [100.     0.13   0.13 ...   0.49   0.5    0.91]\n",
      " [100.     0.13   0.13 ...   0.43   0.39   1.31]\n",
      " [100.     0.15   0.11 ...   0.55   1.25   0.61]]\n"
     ]
    },
    {
     "data": {
      "text/plain": [
       "array([[0.13, 0.13, 0.13, ..., 0.13, 0.11, 0.11],\n",
       "       [0.13, 0.13, 0.13, ..., 0.13, 0.13, 0.13],\n",
       "       [0.14, 0.14, 0.13, ..., 0.15, 0.16, 0.13],\n",
       "       ...,\n",
       "       [0.25, 0.23, 0.22, ..., 0.24, 0.24, 0.22],\n",
       "       [0.2 , 0.2 , 0.18, ..., 0.23, 0.23, 0.26],\n",
       "       [0.17, 0.17, 0.21, ..., 0.26, 0.25, 0.27]])"
      ]
     },
     "metadata": {},
     "output_type": "display_data"
    }
   ],
   "source": [
    "displayNames = {}\n",
    "sample_load = old_loadDemand_Sample()\n",
    "display(sample_load[\"E001\"])\n",
    "# print(len(sample_load[\"E001\"]))"
   ]
  },
  {
   "cell_type": "code",
   "execution_count": null,
   "metadata": {},
   "outputs": [],
   "source": []
  }
 ],
 "metadata": {
  "interpreter": {
   "hash": "28f998abb3742933ebb5625715c7c7d7486a23d31ed97bd4ad4c899f148db130"
  },
  "kernelspec": {
   "display_name": "Python 3.6.13 64-bit ('tensorflow': conda)",
   "language": "python",
   "name": "python3"
  },
  "language_info": {
   "codemirror_mode": {
    "name": "ipython",
    "version": 3
   },
   "file_extension": ".py",
   "mimetype": "text/x-python",
   "name": "python",
   "nbconvert_exporter": "python",
   "pygments_lexer": "ipython3",
   "version": "3.6.13"
  },
  "orig_nbformat": 4
 },
 "nbformat": 4,
 "nbformat_minor": 2
}
