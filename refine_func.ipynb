{
 "cells": [
  {
   "cell_type": "markdown",
   "metadata": {},
   "source": [
    "#  refine all update functions which will be used in apis-emulator/inputData.py"
   ]
  },
  {
   "cell_type": "markdown",
   "metadata": {},
   "source": [
    "## sample data func"
   ]
  },
  {
   "cell_type": "code",
   "execution_count": 3,
   "metadata": {},
   "outputs": [],
   "source": [
    "import os\n",
    "import pandas as pd\n",
    "import numpy as np\n",
    "\n",
    "import logging.config, datetime\n",
    "logger = logging.getLogger(__name__)\n",
    "\n",
    "import matplotlib.pyplot as plt\n",
    "%matplotlib inline"
   ]
  },
  {
   "cell_type": "code",
   "execution_count": 4,
   "metadata": {},
   "outputs": [],
   "source": [
    "cols = list(range(6, 52+1, 2))\n",
    "cols.insert(0, 1)\n",
    "demand_data = np.loadtxt('/Users/Huang/Documents/APIS/apis-emulator/data/input/Sample/sample_load_data.csv', delimiter=',', skiprows=1, usecols=cols, encoding='utf8')"
   ]
  },
  {
   "cell_type": "code",
   "execution_count": 14,
   "metadata": {},
   "outputs": [],
   "source": [
    "def old_loadDemand_Sample():\n",
    "    global demand\n",
    "\n",
    "    demand = {}\n",
    "    # demand_data = np.genfromtxt('data/input/Sample/sample_load_data.csv', delimiter=',', names=True, dtype=None, encoding='utf-8')\n",
    "    cols = list(range(6, 52+1, 2))\n",
    "    cols.insert(0, 1)\n",
    "    # print(cols)\n",
    "    # read column 2, col 7~53 for every 2 cols (1 hour per data point) from input data\n",
    "    # replace our own data files to the /Sample/ folder\n",
    "    demand_data = np.loadtxt('/Users/Huang/Documents/APIS/apis-emulator/data/input/Sample/sample_load_data.csv', delimiter=',', skiprows=1, usecols=cols, encoding='utf8')\n",
    "    # print(demand_data)\n",
    "    \n",
    "    \n",
    "    for row in demand_data:\n",
    "#         print(int(row[0]), row)\n",
    "        cus_id = \"E{0:03d}\".format(int(row[0]))\n",
    "#         print(\"cus_id\", cus_id)\n",
    "        # print(demand.get(cus_id))\n",
    "        # print(type(demand))\n",
    "        if not demand.get(cus_id):\n",
    "            demand[cus_id] = []\n",
    "        demand[cus_id].append(row[1:])\n",
    "#         print(demand[cus_id])\n",
    "        \n",
    "#     print(\"all id\", demand)\n",
    "    \n",
    "    for cus_id in demand:\n",
    "        demand[cus_id] = np.array(demand[cus_id])\n",
    "        displayNames[cus_id] = \"Sample_\"+cus_id\n",
    "\n",
    "    return demand"
   ]
  },
  {
   "cell_type": "code",
   "execution_count": 15,
   "metadata": {},
   "outputs": [
    {
     "name": "stdout",
     "output_type": "stream",
     "text": [
      "[[0.33 0.24 0.23 ... 0.26 0.66 0.25]\n",
      " [0.23 0.29 0.25 ... 0.69 0.61 0.29]\n",
      " [0.27 0.22 0.22 ... 1.3  1.19 1.11]\n",
      " ...\n",
      " [0.35 0.25 0.25 ... 1.26 1.23 0.62]\n",
      " [0.46 0.42 0.41 ... 1.01 1.06 0.77]\n",
      " [0.43 0.38 0.42 ... 0.92 0.63 0.35]] \n",
      " <class 'dict'> \n",
      " 365\n"
     ]
    }
   ],
   "source": [
    "displayNames = {}\n",
    "sample_load = old_loadDemand_Sample()\n",
    "print(sample_load[\"E004\"], '\\n', type(sample_load), '\\n', len(sample_load['E001']))\n",
    "# print(len(sample_load[\"E001\"]))"
   ]
  },
  {
   "cell_type": "markdown",
   "metadata": {},
   "source": [
    "## our data update function"
   ]
  },
  {
   "cell_type": "code",
   "execution_count": 2,
   "metadata": {},
   "outputs": [],
   "source": [
    "inputdata = pd.read_csv('/Users/Huang/Documents/APIS/apis-emulator/data/input/Oist/fourhouses_2019_apis_load_reform.csv')\n",
    "# print(inputdata.iloc[0, 1568])\n",
    "\n",
    "# inputdata = inputdata.fillna(method=\"ffill\", axis=1, inplace=False)\n",
    "# inputdata.iloc[0, 1568]\n",
    "# print(len(inputdata.columns))\n",
    "# print(inputdata.iloc[0, 2881])\n"
   ]
  },
  {
   "cell_type": "code",
   "execution_count": 10,
   "metadata": {},
   "outputs": [],
   "source": [
    "# forward fill all NaN values and output new csv files\n",
    "inputdata = pd.read_csv('/Users/Huang/Documents/APIS/apis-emulator/data/input/Oist/fourhouses_2019_apis_load_reform.csv')\n",
    "inputdata = inputdata.fillna(method=\"ffill\", axis=1, inplace=False)\n",
    "inputdata.insert(0, \"LoadData\", \"LoadData\")\n",
    "inputdata.to_csv('/Users/Huang/Documents/APIS/apis-emulator/data/input/Oist/fourhouses_2019_apis_load_reform.csv', index=False)\n",
    "# print(inputdata)"
   ]
  },
  {
   "cell_type": "code",
   "execution_count": 24,
   "metadata": {},
   "outputs": [],
   "source": [
    "# cols = list(range(3, 2880+3, 1))\n",
    "cols = list(range(2, 2880+2, 1))\n",
    "cols.insert(0, 0)\n",
    "# print(cols)\n",
    "# read column 1, col 3~2882(end) for each cols (30s per data point) from input data\n",
    "pv_data = np.loadtxt(\n",
    "'/Users/Huang/Documents/APIS/apis-emulator/data/input/Oist/fourhouses_2019_apis_load_reform.csv', delimiter=',', skiprows=1, usecols=cols, encoding='utf8')"
   ]
  },
  {
   "cell_type": "code",
   "execution_count": 26,
   "metadata": {},
   "outputs": [
    {
     "name": "stdout",
     "output_type": "stream",
     "text": [
      "[212. 124. 121. ... 126. 126. 387.] 2881\n"
     ]
    }
   ],
   "source": [
    "print(pv_data[1], len(pv_data[1]))\n",
    "oneday = pv_data[1]"
   ]
  },
  {
   "cell_type": "code",
   "execution_count": 25,
   "metadata": {},
   "outputs": [],
   "source": [
    "def PV_data():  # load house's PV production data\n",
    "    global pv\n",
    "    pv = {}\n",
    "\n",
    "    cols = list(range(2, 2880+2, 1))\n",
    "    cols.insert(0, 0)\n",
    "    # print(cols)\n",
    "    # read column 0, col 2~2881(end) for each cols (30s per data point) from input data\n",
    "    pv_data = np.loadtxt(\n",
    "        '/Users/Huang/Documents/APIS/apis-emulator/data/input/Oist/fourhouses_2019_apis_sol_reform.csv', delimiter=',', skiprows=1, usecols=cols, encoding='utf8')\n",
    "    # our_data_all = our_data_all.fillna(method=\"ffill\", inplace=False)\n",
    "    # our_data = our_data_all['pvc_charge_power'].values\n",
    "    # print(pv_data) \n",
    "\n",
    "    for row in pv_data:\n",
    "#         print(int(row[0]), row)\n",
    "        cus_id = \"E{0:03d}\".format(int(row[0]))\n",
    "        # print(\"cus_id\", cus_id)\n",
    "        # print(type(pv))\n",
    "        if not pv.get(cus_id):\n",
    "            pv[cus_id] = []\n",
    "        pv[cus_id].append(row[1:])\n",
    "        # print(pv[cus_id])\n",
    "        \n",
    "#     print(\"all id\", demand)\n",
    "    \n",
    "    for cus_id in pv:\n",
    "        pv[cus_id] = np.array(pv[cus_id])\n",
    "        displayNames[cus_id] = \"Oist_\"+cus_id\n",
    "\n",
    "    return pv\n",
    "        "
   ]
  },
  {
   "cell_type": "code",
   "execution_count": 26,
   "metadata": {},
   "outputs": [
    {
     "name": "stdout",
     "output_type": "stream",
     "text": [
      "[[212.   0.   0. ...   0.   0.   0.]\n",
      " [212.   0.   0. ...   0.   0.   0.]\n",
      " [212.   0.   0. ...   0.   0.   0.]\n",
      " ...\n",
      " [215.   0.   0. ...   0.   0.   0.]\n",
      " [215.   0.   0. ...   0.   0.   0.]\n",
      " [215.   0.   0. ...   0.   0.   0.]]\n"
     ]
    }
   ],
   "source": [
    "displayNames = {}\n",
    "pv_oist = PV_data()\n",
    "# print(pv_oist[\"E212\"])\n"
   ]
  },
  {
   "cell_type": "code",
   "execution_count": 6,
   "metadata": {},
   "outputs": [],
   "source": [
    "def Load_data():  # load house's PV production data\n",
    "    global load\n",
    "    load = {}\n",
    "\n",
    "    cols = list(range(2, 2880+2, 1))\n",
    "    cols.insert(0, 0)\n",
    "    # read column 0, col 2~2881(end) for each cols (30s per data point) from input data\n",
    "    load_data = np.loadtxt(\n",
    "        '/Users/Huang/Documents/APIS/apis-emulator/data/input/Oist/fourhouses_2019_apis_load_reform.csv', delimiter=',', skiprows=1, usecols=cols, encoding='utf8')\n",
    "\n",
    "    for row in load_data:\n",
    "        cus_id = \"E{0:03d}\".format(int(row[0]))\n",
    "        if not load.get(cus_id):\n",
    "            load[cus_id] = []\n",
    "        load[cus_id].append(row[1:])\n",
    "        \n",
    "    for cus_id in load:\n",
    "        load[cus_id] = np.array(load[cus_id])\n",
    "        displayNames[cus_id] = \"Oist_\"+cus_id\n",
    "\n",
    "    return load"
   ]
  },
  {
   "cell_type": "code",
   "execution_count": 7,
   "metadata": {},
   "outputs": [],
   "source": [
    "displayNames = {}\n",
    "load_oist = Load_data()"
   ]
  },
  {
   "cell_type": "markdown",
   "metadata": {},
   "source": [
    "# Update functions"
   ]
  },
  {
   "cell_type": "code",
   "execution_count": 36,
   "metadata": {},
   "outputs": [],
   "source": [
    "def old_demandUpdate_Sample():\n",
    "    count_h = float(count_s)/3600\n",
    "    weight = count_h-int(count_h)\n",
    "    step_now = int((count_h) / 24), int((count_h) % 24)\n",
    "    step_next = (int((count_h+1) / 24), int((count_h+1) % 24))\n",
    "    print(step_now, step_next)\n",
    "\n",
    "    # if int(count_h+1) >= demand[next(iter(oesunits))].size:\n",
    "    #     logger.debug(\"no more demand data\")\n",
    "    #     return False\n",
    "    for oesid in oesunits:\n",
    "        oesunits[oesid][\"emu\"][\"ups_output_power\"] = \\\n",
    "            round(((1-weight)*demand[oesid][step_now] + weight*demand[oesid][step_next])*1000, 2)  # demand[W]\n",
    "\n",
    "    print(\"load[step_now]\", demand[oesid][step_now], \"\\n\", \"load[step_next]\", demand[oesid][step_next])\n",
    "    print(\"pvc power\", round((1-weight)*demand[oesid][step_now] + weight*demand[oesid][step_next], 2))\n",
    "    print((1-weight)*demand[oesid][step_now] + weight*demand[oesid][step_next])\n",
    "    return True"
   ]
  },
  {
   "cell_type": "code",
   "execution_count": 38,
   "metadata": {},
   "outputs": [
    {
     "name": "stdout",
     "output_type": "stream",
     "text": [
      "count_h = 8750.5000 hours\n",
      "(364, 14) (364, 15)\n"
     ]
    },
    {
     "ename": "TypeError",
     "evalue": "'set' object is not subscriptable",
     "output_type": "error",
     "traceback": [
      "\u001b[0;31m---------------------------------------------------------------------------\u001b[0m",
      "\u001b[0;31mTypeError\u001b[0m                                 Traceback (most recent call last)",
      "\u001b[0;32m<ipython-input-38-6a9bf1e60206>\u001b[0m in \u001b[0;36m<module>\u001b[0;34m\u001b[0m\n\u001b[1;32m     13\u001b[0m \u001b[0;31m# print(\"demand_data.size: \", demand_data.size, \"\\n\", \"data size is {:.0f} days\".format(int(sol.size/24)))\u001b[0m\u001b[0;34m\u001b[0m\u001b[0;34m\u001b[0m\u001b[0;34m\u001b[0m\u001b[0m\n\u001b[1;32m     14\u001b[0m \u001b[0;34m\u001b[0m\u001b[0m\n\u001b[0;32m---> 15\u001b[0;31m \u001b[0mload\u001b[0m \u001b[0;34m=\u001b[0m \u001b[0mold_demandUpdate_Sample\u001b[0m\u001b[0;34m(\u001b[0m\u001b[0;34m)\u001b[0m\u001b[0;34m\u001b[0m\u001b[0;34m\u001b[0m\u001b[0m\n\u001b[0m\u001b[1;32m     16\u001b[0m \u001b[0mprint\u001b[0m\u001b[0;34m(\u001b[0m\u001b[0mload\u001b[0m\u001b[0;34m)\u001b[0m\u001b[0;34m\u001b[0m\u001b[0;34m\u001b[0m\u001b[0m\n",
      "\u001b[0;32m<ipython-input-36-d4411fe0e80f>\u001b[0m in \u001b[0;36mold_demandUpdate_Sample\u001b[0;34m()\u001b[0m\n\u001b[1;32m     11\u001b[0m     \u001b[0;32mfor\u001b[0m \u001b[0moesid\u001b[0m \u001b[0;32min\u001b[0m \u001b[0moesunits\u001b[0m\u001b[0;34m:\u001b[0m\u001b[0;34m\u001b[0m\u001b[0;34m\u001b[0m\u001b[0m\n\u001b[1;32m     12\u001b[0m         \u001b[0moesunits\u001b[0m\u001b[0;34m[\u001b[0m\u001b[0moesid\u001b[0m\u001b[0;34m]\u001b[0m\u001b[0;34m[\u001b[0m\u001b[0;34m\"emu\"\u001b[0m\u001b[0;34m]\u001b[0m\u001b[0;34m[\u001b[0m\u001b[0;34m\"ups_output_power\"\u001b[0m\u001b[0;34m]\u001b[0m \u001b[0;34m=\u001b[0m\u001b[0;31m \u001b[0m\u001b[0;31m\\\u001b[0m\u001b[0;34m\u001b[0m\u001b[0;34m\u001b[0m\u001b[0m\n\u001b[0;32m---> 13\u001b[0;31m             \u001b[0mround\u001b[0m\u001b[0;34m(\u001b[0m\u001b[0;34m(\u001b[0m\u001b[0;34m(\u001b[0m\u001b[0;36m1\u001b[0m\u001b[0;34m-\u001b[0m\u001b[0mweight\u001b[0m\u001b[0;34m)\u001b[0m\u001b[0;34m*\u001b[0m\u001b[0mdemand\u001b[0m\u001b[0;34m[\u001b[0m\u001b[0moesid\u001b[0m\u001b[0;34m]\u001b[0m\u001b[0;34m[\u001b[0m\u001b[0mstep_now\u001b[0m\u001b[0;34m]\u001b[0m \u001b[0;34m+\u001b[0m \u001b[0mweight\u001b[0m\u001b[0;34m*\u001b[0m\u001b[0mdemand\u001b[0m\u001b[0;34m[\u001b[0m\u001b[0moesid\u001b[0m\u001b[0;34m]\u001b[0m\u001b[0;34m[\u001b[0m\u001b[0mstep_next\u001b[0m\u001b[0;34m]\u001b[0m\u001b[0;34m)\u001b[0m\u001b[0;34m*\u001b[0m\u001b[0;36m1000\u001b[0m\u001b[0;34m,\u001b[0m \u001b[0;36m2\u001b[0m\u001b[0;34m)\u001b[0m  \u001b[0;31m# demand[W]\u001b[0m\u001b[0;34m\u001b[0m\u001b[0;34m\u001b[0m\u001b[0m\n\u001b[0m\u001b[1;32m     14\u001b[0m \u001b[0;34m\u001b[0m\u001b[0m\n\u001b[1;32m     15\u001b[0m     \u001b[0mprint\u001b[0m\u001b[0;34m(\u001b[0m\u001b[0;34m\"load[step_now]\"\u001b[0m\u001b[0;34m,\u001b[0m \u001b[0mdemand\u001b[0m\u001b[0;34m[\u001b[0m\u001b[0moesid\u001b[0m\u001b[0;34m]\u001b[0m\u001b[0;34m[\u001b[0m\u001b[0mstep_now\u001b[0m\u001b[0;34m]\u001b[0m\u001b[0;34m,\u001b[0m \u001b[0;34m\"\\n\"\u001b[0m\u001b[0;34m,\u001b[0m \u001b[0;34m\"load[step_next]\"\u001b[0m\u001b[0;34m,\u001b[0m \u001b[0mdemand\u001b[0m\u001b[0;34m[\u001b[0m\u001b[0moesid\u001b[0m\u001b[0;34m]\u001b[0m\u001b[0;34m[\u001b[0m\u001b[0mstep_next\u001b[0m\u001b[0;34m]\u001b[0m\u001b[0;34m)\u001b[0m\u001b[0;34m\u001b[0m\u001b[0;34m\u001b[0m\u001b[0m\n",
      "\u001b[0;31mTypeError\u001b[0m: 'set' object is not subscriptable"
     ]
    }
   ],
   "source": [
    "count_s = 525600 * 60 - 3600*9.5   # how many seconds have passed\n",
    "count_h = float(count_s) / 3600\n",
    "print(\"count_h = {:.4f} hours\".format(count_h))\n",
    "oesunits = {}\n",
    "\n",
    "cols = list(range(6, 52+1, 2))\n",
    "cols.insert(0, 1)\n",
    "# read column 2, col 7~53 for every 2 cols (1 hour per data point) from input data\n",
    "# replace our own data files to the /Sample/ folder\n",
    "demand_data = np.loadtxt('/Users/Huang/Documents/APIS/apis-emulator/data/input/Sample/sample_load_data.csv', delimiter=',', skiprows=1, usecols=cols, encoding='utf8')\n",
    "    \n",
    "# sol = np.loadtxt('/Users/Huang/Documents/APIS/apis-emulator/data/input/Sample/sample_solar_data.csv', delimiter=',')\n",
    "# print(\"demand_data.size: \", demand_data.size, \"\\n\", \"data size is {:.0f} days\".format(int(sol.size/24)))\n",
    "\n",
    "load = old_demandUpdate_Sample()\n",
    "print(load)"
   ]
  },
  {
   "cell_type": "code",
   "execution_count": 34,
   "metadata": {},
   "outputs": [],
   "source": [
    "def PVUpdate():\n",
    "    # count_s = 3600*12 # how many seconds have passed\n",
    "    count_t = float(count_s) / 30  # set counter for data which is collected every 30s\n",
    "    weight = count_t - int(count_t)\n",
    "\n",
    "    step_now = int((count_t) / 2880), int((count_t) % 2880)\n",
    "    step_next = (int((count_t+1) / 2880), int((count_t+1) % 2880))\n",
    "\n",
    "    # step_now = (int((count_t) / 2880) ) * int((count_t) % 2880)\n",
    "    # step_next = (int((count_t + 1) / 2880) ) * int((count_t + 1) % 2880)\n",
    "    print(step_now, step_next)\n",
    "\n",
    "    # if int(count_t + 1) >= pv[next(iter(oesunits))].size:\n",
    "    #     logger.debug(\"no more our_data radiation data\")\n",
    "    #     return False\n",
    "    # for oesid in oesunits:\n",
    "    #     oesunits[oesid][\"emu\"][\"pvc_charge_power\"] = round(\n",
    "    #         (1 - weight) * pv[oesid][step_now] + weight * pv[oesid][step_next], 2)  # our_data[W]\n",
    "\n",
    "    print(\"our_data[step_now]\", our_data[step_now], \"\\n\", \"our_data[step_next]\", our_data[step_next])\n",
    "    print(\"pvc power\", round((1 - weight) * our_data[step_now] + weight * our_data[step_next], 2))\n",
    "    print((1 - weight) * our_data[step_now] + weight * our_data[step_next])\n",
    "\n",
    "    return True"
   ]
  },
  {
   "cell_type": "code",
   "execution_count": 35,
   "metadata": {},
   "outputs": [
    {
     "name": "stdout",
     "output_type": "stream",
     "text": [
      "(0, 1879) (0, 1880)\n"
     ]
    }
   ],
   "source": [
    "# our_data_all = pd.read_csv('/Users/Huang/Documents/DQNBattery/data/house212_2019_apis_all.csv')\n",
    "# our_data_all = our_data_all.fillna(method=\"ffill\", inplace=False)\n",
    "# our_data = our_data_all['ups_output_power'].values\n",
    "\n",
    "# # data_h212 = np.loadtxt(\"/Users/Huang/Documents/DQNBattery/data/house212_2019_sift/house212_20190101.csv\")\n",
    "# print(our_data, \"data size is\", our_data.size, type(our_data))  # 0~2879\n",
    "# print(our_data[1566])\n",
    "# # pvc_212 = data_h212[\"\"]\n",
    "# # plt.plot(our_data)\n",
    "# # plt.show()\n",
    "\n",
    "count_s = 3600*24 - 30*1000.5 # how many seconds have passed\n",
    "# count_t = float(count_s)/30  # set counter for data which is collected every 30s\n",
    "# print(count_t)\n",
    "# weight = count_t-int(count_t)\n",
    "# print(\"weight: \", weight)\n",
    "\n",
    "oesunits = {}\n",
    "\n",
    "solar = PVUpdate()\n",
    "# print(solar)"
   ]
  }
 ],
 "metadata": {
  "interpreter": {
   "hash": "28f998abb3742933ebb5625715c7c7d7486a23d31ed97bd4ad4c899f148db130"
  },
  "kernelspec": {
   "display_name": "Python 3.6.13 64-bit ('tensorflow': conda)",
   "language": "python",
   "name": "python3"
  },
  "language_info": {
   "codemirror_mode": {
    "name": "ipython",
    "version": 3
   },
   "file_extension": ".py",
   "mimetype": "text/x-python",
   "name": "python",
   "nbconvert_exporter": "python",
   "pygments_lexer": "ipython3",
   "version": "3.6.13"
  },
  "orig_nbformat": 4
 },
 "nbformat": 4,
 "nbformat_minor": 2
}
