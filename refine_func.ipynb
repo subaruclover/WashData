{
 "cells": [
  {
   "cell_type": "markdown",
   "metadata": {},
   "source": [
    "#  refine all update functions which will be used in apis-emulator/inputData.py"
   ]
  },
  {
   "cell_type": "markdown",
   "metadata": {},
   "source": [
    "## sample data func"
   ]
  },
  {
   "cell_type": "code",
   "execution_count": 2,
   "metadata": {},
   "outputs": [],
   "source": [
    "import os\n",
    "import pandas as pd\n",
    "import numpy as np\n",
    "\n",
    "import logging.config, datetime\n",
    "logger = logging.getLogger(__name__)\n",
    "\n",
    "import matplotlib.pyplot as plt\n",
    "%matplotlib inline"
   ]
  },
  {
   "cell_type": "code",
   "execution_count": 4,
   "metadata": {},
   "outputs": [],
   "source": [
    "cols = list(range(6, 52+1, 2))\n",
    "cols.insert(0, 1)\n",
    "demand_data = np.loadtxt('/Users/Huang/Documents/APIS/apis-emulator/data/input/Sample/sample_load_data.csv', delimiter=',', skiprows=1, usecols=cols, encoding='utf8')"
   ]
  },
  {
   "cell_type": "code",
   "execution_count": 14,
   "metadata": {},
   "outputs": [],
   "source": [
    "def old_loadDemand_Sample():\n",
    "    global demand\n",
    "\n",
    "    demand = {}\n",
    "    # demand_data = np.genfromtxt('data/input/Sample/sample_load_data.csv', delimiter=',', names=True, dtype=None, encoding='utf-8')\n",
    "    cols = list(range(6, 52+1, 2))\n",
    "    cols.insert(0, 1)\n",
    "    # print(cols)\n",
    "    # read column 2, col 7~53 for every 2 cols (1 hour per data point) from input data\n",
    "    # replace our own data files to the /Sample/ folder\n",
    "    demand_data = np.loadtxt('/Users/Huang/Documents/APIS/apis-emulator/data/input/Sample/sample_load_data.csv', delimiter=',', skiprows=1, usecols=cols, encoding='utf8')\n",
    "    # print(demand_data)\n",
    "    \n",
    "    \n",
    "    for row in demand_data:\n",
    "#         print(int(row[0]), row)\n",
    "        cus_id = \"E{0:03d}\".format(int(row[0]))\n",
    "#         print(\"cus_id\", cus_id)\n",
    "        # print(demand.get(cus_id))\n",
    "        # print(type(demand))\n",
    "        if not demand.get(cus_id):\n",
    "            demand[cus_id] = []\n",
    "        demand[cus_id].append(row[1:])\n",
    "#         print(demand[cus_id])\n",
    "        \n",
    "#     print(\"all id\", demand)\n",
    "    \n",
    "    for cus_id in demand:\n",
    "        demand[cus_id] = np.array(demand[cus_id])\n",
    "        displayNames[cus_id] = \"Sample_\"+cus_id\n",
    "\n",
    "    return demand"
   ]
  },
  {
   "cell_type": "code",
   "execution_count": 15,
   "metadata": {},
   "outputs": [
    {
     "name": "stdout",
     "output_type": "stream",
     "text": [
      "[[0.33 0.24 0.23 ... 0.26 0.66 0.25]\n",
      " [0.23 0.29 0.25 ... 0.69 0.61 0.29]\n",
      " [0.27 0.22 0.22 ... 1.3  1.19 1.11]\n",
      " ...\n",
      " [0.35 0.25 0.25 ... 1.26 1.23 0.62]\n",
      " [0.46 0.42 0.41 ... 1.01 1.06 0.77]\n",
      " [0.43 0.38 0.42 ... 0.92 0.63 0.35]] \n",
      " <class 'dict'> \n",
      " 365\n"
     ]
    }
   ],
   "source": [
    "displayNames = {}\n",
    "sample_load = old_loadDemand_Sample()\n",
    "print(sample_load[\"E004\"], '\\n', type(sample_load), '\\n', len(sample_load['E001']))\n",
    "# print(len(sample_load[\"E001\"]))"
   ]
  },
  {
   "cell_type": "markdown",
   "metadata": {},
   "source": [
    "## our data update function"
   ]
  },
  {
   "cell_type": "code",
   "execution_count": 2,
   "metadata": {},
   "outputs": [],
   "source": [
    "inputdata = pd.read_csv('/Users/Huang/Documents/APIS/apis-emulator/data/input/Oist/fourhouses_2019_apis_load_reform.csv')\n",
    "# print(inputdata.iloc[0, 1568])\n",
    "\n",
    "# inputdata = inputdata.fillna(method=\"ffill\", axis=1, inplace=False)\n",
    "# inputdata.iloc[0, 1568]\n",
    "# print(len(inputdata.columns))\n",
    "# print(inputdata.iloc[0, 2881])\n"
   ]
  },
  {
   "cell_type": "code",
   "execution_count": 10,
   "metadata": {},
   "outputs": [],
   "source": [
    "# forward fill all NaN values and output new csv files\n",
    "inputdata = pd.read_csv('/Users/Huang/Documents/APIS/apis-emulator/data/input/Oist/fourhouses_2019_apis_load_reform.csv')\n",
    "inputdata = inputdata.fillna(method=\"ffill\", axis=1, inplace=False)\n",
    "inputdata.insert(0, \"LoadData\", \"LoadData\")\n",
    "inputdata.to_csv('/Users/Huang/Documents/APIS/apis-emulator/data/input/Oist/fourhouses_2019_apis_load_reform.csv', index=False)\n",
    "# print(inputdata)"
   ]
  },
  {
   "cell_type": "code",
   "execution_count": 24,
   "metadata": {},
   "outputs": [],
   "source": [
    "# cols = list(range(3, 2880+3, 1))\n",
    "cols = list(range(2, 2880+2, 1))\n",
    "cols.insert(0, 0)\n",
    "# print(cols)\n",
    "# read column 1, col 3~2882(end) for each cols (30s per data point) from input data\n",
    "pv_data = np.loadtxt(\n",
    "'/Users/Huang/Documents/APIS/apis-emulator/data/input/Oist/fourhouses_2019_apis_load_reform.csv', delimiter=',', skiprows=1, usecols=cols, encoding='utf8')"
   ]
  },
  {
   "cell_type": "code",
   "execution_count": 26,
   "metadata": {},
   "outputs": [
    {
     "name": "stdout",
     "output_type": "stream",
     "text": [
      "[212. 124. 121. ... 126. 126. 387.] 2881\n"
     ]
    }
   ],
   "source": [
    "print(pv_data[1], len(pv_data[1]))\n",
    "oneday = pv_data[1]"
   ]
  },
  {
   "cell_type": "code",
   "execution_count": 25,
   "metadata": {},
   "outputs": [],
   "source": [
    "def PV_data():  # load house's PV production data\n",
    "    global pv\n",
    "    pv = {}\n",
    "\n",
    "    cols = list(range(2, 2880+2, 1))\n",
    "    cols.insert(0, 0)\n",
    "    # print(cols)\n",
    "    # read column 0, col 2~2881(end) for each cols (30s per data point) from input data\n",
    "    pv_data = np.loadtxt(\n",
    "        '/Users/Huang/Documents/APIS/apis-emulator/data/input/Oist/fourhouses_2019_apis_sol_reform.csv', delimiter=',', skiprows=1, usecols=cols, encoding='utf8')\n",
    "    # our_data_all = our_data_all.fillna(method=\"ffill\", inplace=False)\n",
    "    # our_data = our_data_all['pvc_charge_power'].values\n",
    "    # print(pv_data) \n",
    "\n",
    "    for row in pv_data:\n",
    "#         print(int(row[0]), row)\n",
    "        cus_id = \"E{0:03d}\".format(int(row[0]))\n",
    "        # print(\"cus_id\", cus_id)\n",
    "        # print(type(pv))\n",
    "        if not pv.get(cus_id):\n",
    "            pv[cus_id] = []\n",
    "        pv[cus_id].append(row[1:])\n",
    "        # print(pv[cus_id])\n",
    "        \n",
    "#     print(\"all id\", demand)\n",
    "    \n",
    "    for cus_id in pv:\n",
    "        pv[cus_id] = np.array(pv[cus_id])\n",
    "        displayNames[cus_id] = \"Oist_\"+cus_id\n",
    "\n",
    "    return pv\n",
    "        "
   ]
  },
  {
   "cell_type": "code",
   "execution_count": 26,
   "metadata": {},
   "outputs": [
    {
     "name": "stdout",
     "output_type": "stream",
     "text": [
      "[[212.   0.   0. ...   0.   0.   0.]\n",
      " [212.   0.   0. ...   0.   0.   0.]\n",
      " [212.   0.   0. ...   0.   0.   0.]\n",
      " ...\n",
      " [215.   0.   0. ...   0.   0.   0.]\n",
      " [215.   0.   0. ...   0.   0.   0.]\n",
      " [215.   0.   0. ...   0.   0.   0.]]\n"
     ]
    }
   ],
   "source": [
    "displayNames = {}\n",
    "pv_oist = PV_data()\n",
    "# print(pv_oist[\"E212\"])\n"
   ]
  },
  {
   "cell_type": "code",
   "execution_count": 6,
   "metadata": {},
   "outputs": [],
   "source": [
    "def Load_data():  # load house's PV production data\n",
    "    global load\n",
    "    load = {}\n",
    "\n",
    "    cols = list(range(2, 2880+2, 1))\n",
    "    cols.insert(0, 0)\n",
    "    # read column 0, col 2~2881(end) for each cols (30s per data point) from input data\n",
    "    load_data = np.loadtxt(\n",
    "        '/Users/Huang/Documents/APIS/apis-emulator/data/input/Oist/fourhouses_2019_apis_load_reform.csv', delimiter=',', skiprows=1, usecols=cols, encoding='utf8')\n",
    "\n",
    "    for row in load_data:\n",
    "        cus_id = \"E{0:03d}\".format(int(row[0]))\n",
    "        if not load.get(cus_id):\n",
    "            load[cus_id] = []\n",
    "        load[cus_id].append(row[1:])\n",
    "        \n",
    "    for cus_id in load:\n",
    "        load[cus_id] = np.array(load[cus_id])\n",
    "        displayNames[cus_id] = \"Oist_\"+cus_id\n",
    "\n",
    "    return load"
   ]
  },
  {
   "cell_type": "code",
   "execution_count": 7,
   "metadata": {},
   "outputs": [],
   "source": [
    "displayNames = {}\n",
    "load_oist = Load_data()"
   ]
  },
  {
   "cell_type": "markdown",
   "metadata": {},
   "source": [
    "# Update functions"
   ]
  },
  {
   "cell_type": "code",
   "execution_count": 43,
   "metadata": {},
   "outputs": [],
   "source": [
    "def old_demandUpdate_Sample():\n",
    "    count_h = float(count_s)/3600\n",
    "    weight = count_h-int(count_h)\n",
    "    step_now = int((count_h) / 24), int((count_h) % 24)\n",
    "    step_next = (int((count_h+1) / 24), int((count_h+1) % 24))\n",
    "    print(step_now, step_next)\n",
    "\n",
    "    if int(count_h+1) >= demand[next(iter(oesunits))].size:\n",
    "        logger.debug(\"no more demand data\")\n",
    "        return False\n",
    "    # for oesid in oesunits:\n",
    "    #     oesunits[oesid][\"emu\"][\"ups_output_power\"] = \\\n",
    "    #         round(((1-weight)*demand[oesid][step_now] + weight*demand[oesid][step_next])*1000, 2)  # demand[W]\n",
    "    \n",
    "    oesid = 'E001'\n",
    "    print(\"load[step_now]\", demand[oesid][step_now], \"\\n\", \"load[step_next]\", demand[oesid][step_next])\n",
    "    print(\"pvc power\", round((1-weight)*demand[oesid][step_now] + weight*demand[oesid][step_next], 2))\n",
    "    print((1-weight)*demand[oesid][step_now] + weight*demand[oesid][step_next])\n",
    "    return True"
   ]
  },
  {
   "cell_type": "code",
   "execution_count": 45,
   "metadata": {},
   "outputs": [
    {
     "data": {
      "text/plain": [
       "<dict_keyiterator at 0x7fdd85a05598>"
      ]
     },
     "execution_count": 45,
     "metadata": {},
     "output_type": "execute_result"
    }
   ],
   "source": [
    "oesunits = {}\n",
    "iter(oesunits)"
   ]
  },
  {
   "cell_type": "code",
   "execution_count": 44,
   "metadata": {},
   "outputs": [
    {
     "name": "stdout",
     "output_type": "stream",
     "text": [
      "count_h = 8750.5000 hours\n",
      "(364, 14) (364, 15)\n"
     ]
    },
    {
     "ename": "StopIteration",
     "evalue": "",
     "output_type": "error",
     "traceback": [
      "\u001b[0;31m---------------------------------------------------------------------------\u001b[0m",
      "\u001b[0;31mStopIteration\u001b[0m                             Traceback (most recent call last)",
      "\u001b[0;32m<ipython-input-44-5b7599505ad0>\u001b[0m in \u001b[0;36m<module>\u001b[0;34m\u001b[0m\n\u001b[1;32m     13\u001b[0m \u001b[0;31m# print(\"demand_data.size: \", demand_data.size, \"\\n\", \"data size is {:.0f} days\".format(int(sol.size/24)))\u001b[0m\u001b[0;34m\u001b[0m\u001b[0;34m\u001b[0m\u001b[0;34m\u001b[0m\u001b[0m\n\u001b[1;32m     14\u001b[0m \u001b[0;34m\u001b[0m\u001b[0m\n\u001b[0;32m---> 15\u001b[0;31m \u001b[0mload\u001b[0m \u001b[0;34m=\u001b[0m \u001b[0mold_demandUpdate_Sample\u001b[0m\u001b[0;34m(\u001b[0m\u001b[0;34m)\u001b[0m\u001b[0;34m\u001b[0m\u001b[0;34m\u001b[0m\u001b[0m\n\u001b[0m\u001b[1;32m     16\u001b[0m \u001b[0mprint\u001b[0m\u001b[0;34m(\u001b[0m\u001b[0mload\u001b[0m\u001b[0;34m)\u001b[0m\u001b[0;34m\u001b[0m\u001b[0;34m\u001b[0m\u001b[0m\n",
      "\u001b[0;32m<ipython-input-43-9ba64262e87f>\u001b[0m in \u001b[0;36mold_demandUpdate_Sample\u001b[0;34m()\u001b[0m\n\u001b[1;32m      6\u001b[0m     \u001b[0mprint\u001b[0m\u001b[0;34m(\u001b[0m\u001b[0mstep_now\u001b[0m\u001b[0;34m,\u001b[0m \u001b[0mstep_next\u001b[0m\u001b[0;34m)\u001b[0m\u001b[0;34m\u001b[0m\u001b[0;34m\u001b[0m\u001b[0m\n\u001b[1;32m      7\u001b[0m \u001b[0;34m\u001b[0m\u001b[0m\n\u001b[0;32m----> 8\u001b[0;31m     \u001b[0;32mif\u001b[0m \u001b[0mint\u001b[0m\u001b[0;34m(\u001b[0m\u001b[0mcount_h\u001b[0m\u001b[0;34m+\u001b[0m\u001b[0;36m1\u001b[0m\u001b[0;34m)\u001b[0m \u001b[0;34m>=\u001b[0m \u001b[0mdemand\u001b[0m\u001b[0;34m[\u001b[0m\u001b[0mnext\u001b[0m\u001b[0;34m(\u001b[0m\u001b[0miter\u001b[0m\u001b[0;34m(\u001b[0m\u001b[0moesunits\u001b[0m\u001b[0;34m)\u001b[0m\u001b[0;34m)\u001b[0m\u001b[0;34m]\u001b[0m\u001b[0;34m.\u001b[0m\u001b[0msize\u001b[0m\u001b[0;34m:\u001b[0m\u001b[0;34m\u001b[0m\u001b[0;34m\u001b[0m\u001b[0m\n\u001b[0m\u001b[1;32m      9\u001b[0m         \u001b[0mlogger\u001b[0m\u001b[0;34m.\u001b[0m\u001b[0mdebug\u001b[0m\u001b[0;34m(\u001b[0m\u001b[0;34m\"no more demand data\"\u001b[0m\u001b[0;34m)\u001b[0m\u001b[0;34m\u001b[0m\u001b[0;34m\u001b[0m\u001b[0m\n\u001b[1;32m     10\u001b[0m         \u001b[0;32mreturn\u001b[0m \u001b[0;32mFalse\u001b[0m\u001b[0;34m\u001b[0m\u001b[0;34m\u001b[0m\u001b[0m\n",
      "\u001b[0;31mStopIteration\u001b[0m: "
     ]
    }
   ],
   "source": [
    "count_s = 525600 * 60 - 3600*9.5   # how many seconds have passed\n",
    "count_h = float(count_s) / 3600\n",
    "print(\"count_h = {:.4f} hours\".format(count_h))\n",
    "oesunits = {}\n",
    "\n",
    "cols = list(range(6, 52+1, 2))\n",
    "cols.insert(0, 1)\n",
    "# read column 2, col 7~53 for every 2 cols (1 hour per data point) from input data\n",
    "# replace our own data files to the /Sample/ folder\n",
    "demand_data = np.loadtxt('/Users/Huang/Documents/APIS/apis-emulator/data/input/Sample/sample_load_data.csv', delimiter=',', skiprows=1, usecols=cols, encoding='utf8')\n",
    "    \n",
    "# sol = np.loadtxt('/Users/Huang/Documents/APIS/apis-emulator/data/input/Sample/sample_solar_data.csv', delimiter=',')\n",
    "# print(\"demand_data.size: \", demand_data.size, \"\\n\", \"data size is {:.0f} days\".format(int(sol.size/24)))\n",
    "\n",
    "load = old_demandUpdate_Sample()\n",
    "print(load)"
   ]
  },
  {
   "cell_type": "code",
   "execution_count": 34,
   "metadata": {},
   "outputs": [],
   "source": [
    "def PVUpdate():\n",
    "    # count_s = 3600*12 # how many seconds have passed\n",
    "    count_t = float(count_s) / 30  # set counter for data which is collected every 30s\n",
    "    weight = count_t - int(count_t)\n",
    "\n",
    "    step_now = int((count_t) / 2880), int((count_t) % 2880)\n",
    "    step_next = (int((count_t+1) / 2880), int((count_t+1) % 2880))\n",
    "\n",
    "    # step_now = (int((count_t) / 2880) ) * int((count_t) % 2880)\n",
    "    # step_next = (int((count_t + 1) / 2880) ) * int((count_t + 1) % 2880)\n",
    "    print(step_now, step_next)\n",
    "\n",
    "    # if int(count_t + 1) >= pv[next(iter(oesunits))].size:\n",
    "    #     logger.debug(\"no more our_data radiation data\")\n",
    "    #     return False\n",
    "    # for oesid in oesunits:\n",
    "    #     oesunits[oesid][\"emu\"][\"pvc_charge_power\"] = round(\n",
    "    #         (1 - weight) * pv[oesid][step_now] + weight * pv[oesid][step_next], 2)  # our_data[W]\n",
    "\n",
    "    print(\"our_data[step_now]\", our_data[step_now], \"\\n\", \"our_data[step_next]\", our_data[step_next])\n",
    "    print(\"pvc power\", round((1 - weight) * our_data[step_now] + weight * our_data[step_next], 2))\n",
    "    print((1 - weight) * our_data[step_now] + weight * our_data[step_next])\n",
    "\n",
    "    return True"
   ]
  },
  {
   "cell_type": "code",
   "execution_count": 35,
   "metadata": {},
   "outputs": [
    {
     "name": "stdout",
     "output_type": "stream",
     "text": [
      "(0, 1879) (0, 1880)\n"
     ]
    }
   ],
   "source": [
    "# our_data_all = pd.read_csv('/Users/Huang/Documents/DQNBattery/data/house212_2019_apis_all.csv')\n",
    "# our_data_all = our_data_all.fillna(method=\"ffill\", inplace=False)\n",
    "# our_data = our_data_all['ups_output_power'].values\n",
    "\n",
    "# # data_h212 = np.loadtxt(\"/Users/Huang/Documents/DQNBattery/data/house212_2019_sift/house212_20190101.csv\")\n",
    "# print(our_data, \"data size is\", our_data.size, type(our_data))  # 0~2879\n",
    "# print(our_data[1566])\n",
    "# # pvc_212 = data_h212[\"\"]\n",
    "# # plt.plot(our_data)\n",
    "# # plt.show()\n",
    "\n",
    "count_s = 3600*24 - 30*1000.5 # how many seconds have passed\n",
    "# count_t = float(count_s)/30  # set counter for data which is collected every 30s\n",
    "# print(count_t)\n",
    "# weight = count_t-int(count_t)\n",
    "# print(\"weight: \", weight)\n",
    "\n",
    "oesunits = {}\n",
    "\n",
    "solar = PVUpdate()\n",
    "# print(solar)"
   ]
  },
  {
   "cell_type": "markdown",
   "metadata": {},
   "source": [
    "# output details "
   ]
  },
  {
   "cell_type": "code",
   "execution_count": 7,
   "metadata": {},
   "outputs": [],
   "source": [
    "cols = list(range(3, 7, 1))\n",
    "indivLog_dir = '/Users/Huang/Documents/APIS/apis-emulator/data/output'\n",
    "indiv_data = np.loadtxt(indivLog_dir+'/indivLog.csv', delimiter=',', skiprows=1, usecols=cols, encoding='utf8')\n"
   ]
  },
  {
   "cell_type": "code",
   "execution_count": 8,
   "metadata": {},
   "outputs": [
    {
     "name": "stdout",
     "output_type": "stream",
     "text": [
      "1912328\n"
     ]
    }
   ],
   "source": [
    "# print(indiv_data.size())\n",
    "print(len(indiv_data))"
   ]
  },
  {
   "cell_type": "code",
   "execution_count": 12,
   "metadata": {},
   "outputs": [
    {
     "data": {
      "text/plain": [
       "5.533356481481482"
      ]
     },
     "execution_count": 12,
     "metadata": {},
     "output_type": "execute_result"
    }
   ],
   "source": [
    "len(indiv_data)/(4*24*3600)"
   ]
  },
  {
   "cell_type": "code",
   "execution_count": 13,
   "metadata": {},
   "outputs": [],
   "source": [
    "cols = list(range(1, 14, 1))\n",
    "summary_dir = '/Users/Huang/Documents/APIS/apis-emulator/data/output'\n",
    "summary_data = np.loadtxt(summary_dir+'/summary.csv', delimiter=',', skiprows=1, usecols=cols, encoding='utf8')"
   ]
  },
  {
   "cell_type": "code",
   "execution_count": 14,
   "metadata": {},
   "outputs": [
    {
     "name": "stdout",
     "output_type": "stream",
     "text": [
      "334\n"
     ]
    }
   ],
   "source": [
    "print(len(summary_data))"
   ]
  },
  {
   "cell_type": "code",
   "execution_count": 15,
   "metadata": {},
   "outputs": [
    {
     "name": "stdout",
     "output_type": "stream",
     "text": [
      "[[ 2.33470000e+04  4.91120000e+04  4.33220000e+04 ...  3.19000000e-02\n",
      "   3.89400000e-01  8.99300000e-01]\n",
      " [ 7.36000000e+03  5.48300000e+04  6.59130000e+04 ... -2.07700000e-01\n",
      "   1.28700000e-01  1.00000000e+00]\n",
      " [ 1.12190000e+04  5.26630000e+04  6.07640000e+04 ... -1.49300000e-01\n",
      "   2.17600000e-01  1.00000000e+00]\n",
      " ...\n",
      " [ 5.38000000e+03  5.49080000e+04  6.87690000e+04 ... -2.43700000e-01\n",
      "   1.06700000e-01  1.00000000e+00]\n",
      " [ 7.56837900e+06  2.11266130e+07  2.07002000e+07 ...  5.00540000e+00\n",
      "   1.26895600e+02  3.07410500e+02]\n",
      " [ 2.27963223e+04  6.36343765e+04  6.23500000e+04 ...  1.50765060e-02\n",
      "   3.82215663e-01  9.25935241e-01]]\n"
     ]
    }
   ],
   "source": [
    "print(summary_data)"
   ]
  },
  {
   "cell_type": "code",
   "execution_count": 24,
   "metadata": {},
   "outputs": [
    {
     "data": {
      "text/html": [
       "<div>\n",
       "<style scoped>\n",
       "    .dataframe tbody tr th:only-of-type {\n",
       "        vertical-align: middle;\n",
       "    }\n",
       "\n",
       "    .dataframe tbody tr th {\n",
       "        vertical-align: top;\n",
       "    }\n",
       "\n",
       "    .dataframe thead th {\n",
       "        text-align: right;\n",
       "    }\n",
       "</style>\n",
       "<table border=\"1\" class=\"dataframe\">\n",
       "  <thead>\n",
       "    <tr style=\"text-align: right;\">\n",
       "      <th></th>\n",
       "      <th>timestamp</th>\n",
       "      <th>charge_discharge_power</th>\n",
       "      <th>rsoc</th>\n",
       "      <th>battery_rsoc</th>\n",
       "      <th>pvc_charge_power</th>\n",
       "      <th>pvc_charge_current</th>\n",
       "      <th>battery_current</th>\n",
       "      <th>ups_output_power</th>\n",
       "      <th>ups_output_current</th>\n",
       "      <th>dcdc_grid_power</th>\n",
       "      <th>p1</th>\n",
       "      <th>p2</th>\n",
       "    </tr>\n",
       "  </thead>\n",
       "  <tbody>\n",
       "    <tr>\n",
       "      <th>0</th>\n",
       "      <td>2019/1/1 00:00</td>\n",
       "      <td>26.0</td>\n",
       "      <td>29.0</td>\n",
       "      <td>34.0</td>\n",
       "      <td>0.0</td>\n",
       "      <td>0.0</td>\n",
       "      <td>-0.52</td>\n",
       "      <td>158.0</td>\n",
       "      <td>1.5</td>\n",
       "      <td>0.0</td>\n",
       "      <td>-12.1</td>\n",
       "      <td>268.2</td>\n",
       "    </tr>\n",
       "    <tr>\n",
       "      <th>1</th>\n",
       "      <td>2019/1/1 00:00</td>\n",
       "      <td>26.0</td>\n",
       "      <td>29.0</td>\n",
       "      <td>34.0</td>\n",
       "      <td>0.0</td>\n",
       "      <td>0.0</td>\n",
       "      <td>-0.52</td>\n",
       "      <td>152.0</td>\n",
       "      <td>1.4</td>\n",
       "      <td>0.0</td>\n",
       "      <td>-11.7</td>\n",
       "      <td>269.7</td>\n",
       "    </tr>\n",
       "    <tr>\n",
       "      <th>2</th>\n",
       "      <td>2019/1/1 00:01</td>\n",
       "      <td>26.0</td>\n",
       "      <td>29.0</td>\n",
       "      <td>34.0</td>\n",
       "      <td>0.0</td>\n",
       "      <td>0.0</td>\n",
       "      <td>-0.52</td>\n",
       "      <td>155.0</td>\n",
       "      <td>1.4</td>\n",
       "      <td>0.0</td>\n",
       "      <td>-12.2</td>\n",
       "      <td>268.8</td>\n",
       "    </tr>\n",
       "    <tr>\n",
       "      <th>3</th>\n",
       "      <td>2019/1/1 00:01</td>\n",
       "      <td>26.0</td>\n",
       "      <td>29.0</td>\n",
       "      <td>34.0</td>\n",
       "      <td>0.0</td>\n",
       "      <td>0.0</td>\n",
       "      <td>-0.52</td>\n",
       "      <td>152.0</td>\n",
       "      <td>1.4</td>\n",
       "      <td>0.0</td>\n",
       "      <td>-12.1</td>\n",
       "      <td>269.3</td>\n",
       "    </tr>\n",
       "    <tr>\n",
       "      <th>4</th>\n",
       "      <td>2019/1/1 00:02</td>\n",
       "      <td>26.0</td>\n",
       "      <td>29.0</td>\n",
       "      <td>34.0</td>\n",
       "      <td>0.0</td>\n",
       "      <td>0.0</td>\n",
       "      <td>-0.51</td>\n",
       "      <td>154.0</td>\n",
       "      <td>1.4</td>\n",
       "      <td>0.0</td>\n",
       "      <td>-12.2</td>\n",
       "      <td>268.7</td>\n",
       "    </tr>\n",
       "  </tbody>\n",
       "</table>\n",
       "</div>"
      ],
      "text/plain": [
       "        timestamp  charge_discharge_power  rsoc  battery_rsoc  \\\n",
       "0  2019/1/1 00:00                    26.0  29.0          34.0   \n",
       "1  2019/1/1 00:00                    26.0  29.0          34.0   \n",
       "2  2019/1/1 00:01                    26.0  29.0          34.0   \n",
       "3  2019/1/1 00:01                    26.0  29.0          34.0   \n",
       "4  2019/1/1 00:02                    26.0  29.0          34.0   \n",
       "\n",
       "   pvc_charge_power  pvc_charge_current  battery_current  ups_output_power  \\\n",
       "0               0.0                 0.0            -0.52             158.0   \n",
       "1               0.0                 0.0            -0.52             152.0   \n",
       "2               0.0                 0.0            -0.52             155.0   \n",
       "3               0.0                 0.0            -0.52             152.0   \n",
       "4               0.0                 0.0            -0.51             154.0   \n",
       "\n",
       "   ups_output_current  dcdc_grid_power    p1     p2  \n",
       "0                 1.5              0.0 -12.1  268.2  \n",
       "1                 1.4              0.0 -11.7  269.7  \n",
       "2                 1.4              0.0 -12.2  268.8  \n",
       "3                 1.4              0.0 -12.1  269.3  \n",
       "4                 1.4              0.0 -12.2  268.7  "
      ]
     },
     "execution_count": 24,
     "metadata": {},
     "output_type": "execute_result"
    }
   ],
   "source": [
    "data = pd.read_csv('/Users/Huang/Documents/DQNBattery/data/house212_2019_apis_all.csv')\n",
    "# np.mean(data['rsoc'])\n",
    "data.head()"
   ]
  },
  {
   "cell_type": "code",
   "execution_count": null,
   "metadata": {},
   "outputs": [],
   "source": []
  }
 ],
 "metadata": {
  "interpreter": {
   "hash": "28f998abb3742933ebb5625715c7c7d7486a23d31ed97bd4ad4c899f148db130"
  },
  "kernelspec": {
   "display_name": "Python 3.6.13 64-bit ('tensorflow': conda)",
   "language": "python",
   "name": "python3"
  },
  "language_info": {
   "codemirror_mode": {
    "name": "ipython",
    "version": 3
   },
   "file_extension": ".py",
   "mimetype": "text/x-python",
   "name": "python",
   "nbconvert_exporter": "python",
   "pygments_lexer": "ipython3",
   "version": "3.6.13"
  },
  "orig_nbformat": 4
 },
 "nbformat": 4,
 "nbformat_minor": 2
}
