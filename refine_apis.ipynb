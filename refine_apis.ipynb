{
 "cells": [
  {
   "cell_type": "markdown",
   "id": "39000d31",
   "metadata": {},
   "source": [
    "# Houses info\n",
    "<!-- ![landscape of faculty houses](landscape.png) -->\n",
    "<img src=\"landscape.png\" alt=\"landscape\" width=\"600\"/>\n",
    "load data and solar data, same data in a year/month (2019),\n",
    "house 212, 213, 214, 215 (205, 206, 208) pick these 4 houses to replace the sample data,\n",
    "only load data is needed (w.r.t the form of sample data, house ID needed)"
   ]
  },
  {
   "cell_type": "code",
   "execution_count": 28,
   "id": "1ad823d6",
   "metadata": {
    "ExecuteTime": {
     "end_time": "2022-01-24T21:09:35.672909Z",
     "start_time": "2022-01-24T21:09:35.669777Z"
    }
   },
   "outputs": [],
   "source": [
    "import os\n",
    "import pandas as pd\n",
    "import numpy as np"
   ]
  },
  {
   "cell_type": "code",
   "execution_count": 2,
   "id": "28321282",
   "metadata": {
    "ExecuteTime": {
     "end_time": "2022-01-24T20:31:37.791924Z",
     "start_time": "2022-01-24T20:31:37.786671Z"
    }
   },
   "outputs": [],
   "source": [
    "house212_2019 = '/Users/Huang/Documents/DQNBattery/data/house212_2019_sift'\n",
    "house213_2019 = '/Users/Huang/Documents/DQNBattery/data/house213_2019_sift'\n",
    "house214_2019 = '/Users/Huang/Documents/DQNBattery/data/house214_2019_sift'\n",
    "house215_2019 = '/Users/Huang/Documents/DQNBattery/data/house215_2019_sift'\n",
    "\n",
    "house205_2019 = '/Users/Huang/Documents/DQNBattery/data/house205_2019_sift'\n",
    "house206_2019 = '/Users/Huang/Documents/DQNBattery/data/house206_2019_sift'\n",
    "house208_2019 = '/Users/Huang/Documents/DQNBattery/data/house208_2019_sift'\n",
    "\n",
    "# weather \n",
    "weather_2019 = '/Users/Huang/Documents/DQNBattery/data/2019_hillside_weather'"
   ]
  },
  {
   "cell_type": "code",
   "execution_count": 3,
   "id": "ae02836b",
   "metadata": {
    "ExecuteTime": {
     "end_time": "2022-01-24T20:31:39.211082Z",
     "start_time": "2022-01-24T20:31:39.205725Z"
    }
   },
   "outputs": [],
   "source": [
    "def get_file_house(foldername, houseID):\n",
    "    \n",
    "    file_list = []  # file name stored in file_list\n",
    "   \n",
    "    for root, dirs, files in os.walk(foldername):\n",
    "        for file in files:\n",
    "            dirname, filename = os.path.split(file)\n",
    "\n",
    "#             print(filename.split('2019', 1)[0])\n",
    "            if filename.split('_', 1)[0] == houseID:\n",
    "                filename = filename.split('_', 1)[1]        \n",
    "                file_list.append(filename.split('.', 1)[0])\n",
    "\n",
    "    file_list.sort()\n",
    "    \n",
    "    return file_list"
   ]
  },
  {
   "cell_type": "code",
   "execution_count": 4,
   "id": "27d3d802",
   "metadata": {
    "ExecuteTime": {
     "end_time": "2022-01-24T20:31:40.573464Z",
     "start_time": "2022-01-24T20:31:40.566635Z"
    }
   },
   "outputs": [],
   "source": [
    "def get_file_weather(foldername, houseID):\n",
    "    \n",
    "    file_list = []  # file name stored in file_list\n",
    "   \n",
    "    for root, dirs, files in os.walk(foldername):\n",
    "        for file in files:\n",
    "            dirname, filename = os.path.split(file)\n",
    "            \n",
    "#             print(filename)\n",
    "#             print(filename.split('2019', 1)[0])      \n",
    "\n",
    "            if filename.split('2019', 1)[0] == houseID:\n",
    "                filename = filename.split('weather', 1)[1]        \n",
    "                file_list.append(filename.split('.', 1)[0])\n",
    "\n",
    "    file_list.sort()\n",
    "    \n",
    "    return file_list"
   ]
  },
  {
   "cell_type": "code",
   "execution_count": 5,
   "id": "28e89416",
   "metadata": {
    "ExecuteTime": {
     "end_time": "2022-01-24T20:31:41.594701Z",
     "start_time": "2022-01-24T20:31:41.568981Z"
    }
   },
   "outputs": [
    {
     "name": "stdout",
     "output_type": "stream",
     "text": [
      "weather: 334 \n",
      " house212 344 \n",
      " house213 346 \n",
      " house214 334 \n",
      " house215 345\n"
     ]
    }
   ],
   "source": [
    "house212_files = get_file_house(house212_2019, \"house212\")\n",
    "house213_files = get_file_house(house213_2019, \"house213\")\n",
    "house214_files = get_file_house(house214_2019, \"house214\")\n",
    "house215_files = get_file_house(house215_2019, \"house215\")\n",
    "\n",
    "weather_files = get_file_weather(weather_2019, \"weather\")\n",
    "\n",
    "print(\"weather:\", len(weather_files), \"\\n\",\n",
    "      \"house212\", len(house212_files), \"\\n\",\n",
    "      \"house213\", len(house213_files), \"\\n\",\n",
    "      \"house214\", len(house214_files), \"\\n\",\n",
    "      \"house215\", len(house215_files))"
   ]
  },
  {
   "cell_type": "markdown",
   "id": "c19833ee",
   "metadata": {},
   "source": [
    "# Get the common date files"
   ]
  },
  {
   "cell_type": "code",
   "execution_count": 6,
   "id": "63628964",
   "metadata": {
    "ExecuteTime": {
     "end_time": "2022-01-24T20:31:46.140088Z",
     "start_time": "2022-01-24T20:31:46.134652Z"
    }
   },
   "outputs": [
    {
     "name": "stdout",
     "output_type": "stream",
     "text": [
      "332\n"
     ]
    }
   ],
   "source": [
    "common = list(set(weather_files)&set(house212_files)&set(house213_files)&set(house214_files)&set(house215_files))\n",
    "print(len(common))"
   ]
  },
  {
   "cell_type": "code",
   "execution_count": 16,
   "id": "add93143",
   "metadata": {
    "ExecuteTime": {
     "end_time": "2022-01-24T20:46:22.762974Z",
     "start_time": "2022-01-24T20:46:22.758724Z"
    }
   },
   "outputs": [
    {
     "name": "stdout",
     "output_type": "stream",
     "text": [
      "['20190101', '20190102', '20190103', '20190104', '20190105', '20190106', '20190107', '20190108', '20190109', '20190110', '20190111', '20190112', '20190113', '20190114', '20190115', '20190116', '20190117', '20190118', '20190119', '20190120', '20190121', '20190122', '20190123', '20190124', '20190126', '20190127', '20190128', '20190129', '20190130', '20190131', '20190201', '20190202', '20190205', '20190206', '20190208', '20190209', '20190210', '20190211', '20190212', '20190213', '20190214', '20190215', '20190216', '20190217', '20190218', '20190219', '20190220', '20190221', '20190222', '20190223', '20190224', '20190225', '20190226', '20190227', '20190228', '20190301', '20190302', '20190303', '20190304', '20190305', '20190306', '20190313', '20190314', '20190315', '20190316', '20190317', '20190318', '20190319', '20190320', '20190321', '20190322', '20190323', '20190324', '20190325', '20190326', '20190327', '20190328', '20190329', '20190402', '20190403', '20190404', '20190405', '20190406', '20190407', '20190408', '20190409', '20190410', '20190411', '20190412', '20190413', '20190414', '20190415', '20190416', '20190417', '20190418', '20190419', '20190421', '20190422', '20190423', '20190424', '20190425', '20190426', '20190427', '20190428', '20190429', '20190430', '20190501', '20190502', '20190503', '20190504', '20190505', '20190506', '20190508', '20190509', '20190510', '20190511', '20190512', '20190513', '20190514', '20190515', '20190516', '20190517', '20190518', '20190519', '20190520', '20190521', '20190522', '20190523', '20190524', '20190525', '20190526', '20190527', '20190528', '20190529', '20190530', '20190531', '20190601', '20190602', '20190603', '20190604', '20190605', '20190606', '20190607', '20190608', '20190609', '20190610', '20190611', '20190614', '20190615', '20190616', '20190617', '20190618', '20190619', '20190620', '20190621', '20190622', '20190623', '20190624', '20190625', '20190626', '20190627', '20190628', '20190629', '20190630', '20190701', '20190702', '20190703', '20190704', '20190705', '20190706', '20190707', '20190708', '20190709', '20190710', '20190712', '20190713', '20190714', '20190715', '20190717', '20190718', '20190719', '20190720', '20190721', '20190722', '20190723', '20190724', '20190725', '20190726', '20190727', '20190728', '20190729', '20190730', '20190731', '20190801', '20190802', '20190803', '20190804', '20190805', '20190806', '20190807', '20190808', '20190809', '20190810', '20190811', '20190812', '20190813', '20190814', '20190815', '20190816', '20190817', '20190818', '20190819', '20190820', '20190822', '20190823', '20190824', '20190825', '20190826', '20190827', '20190828', '20190829', '20190830', '20190831', '20190901', '20190903', '20190904', '20190905', '20190906', '20190907', '20190908', '20190909', '20190910', '20190911', '20190912', '20190913', '20190915', '20190916', '20190917', '20190918', '20190919', '20190920', '20190921', '20190922', '20190923', '20190924', '20190925', '20190926', '20190928', '20190929', '20191001', '20191002', '20191003', '20191004', '20191005', '20191006', '20191007', '20191008', '20191009', '20191010', '20191011', '20191012', '20191013', '20191014', '20191015', '20191016', '20191017', '20191018', '20191019', '20191020', '20191021', '20191022', '20191023', '20191024', '20191025', '20191026', '20191027', '20191028', '20191029', '20191030', '20191031', '20191101', '20191102', '20191103', '20191104', '20191105', '20191106', '20191107', '20191108', '20191109', '20191110', '20191112', '20191113', '20191114', '20191115', '20191119', '20191122', '20191123', '20191124', '20191125', '20191126', '20191127', '20191128', '20191129', '20191130', '20191201', '20191202', '20191205', '20191206', '20191207', '20191208', '20191209', '20191210', '20191212', '20191213', '20191214', '20191215', '20191216', '20191217', '20191218', '20191219', '20191220', '20191221', '20191222', '20191223', '20191224', '20191225', '20191226', '20191227', '20191228', '20191229', '20191230', '20191231']\n"
     ]
    }
   ],
   "source": [
    "common.sort()\n",
    "print(common)"
   ]
  },
  {
   "cell_type": "markdown",
   "id": "bed531ae",
   "metadata": {},
   "source": [
    "# generate APIS data"
   ]
  },
  {
   "cell_type": "code",
   "execution_count": 17,
   "id": "123addaf",
   "metadata": {
    "ExecuteTime": {
     "end_time": "2022-01-24T20:46:47.255863Z",
     "start_time": "2022-01-24T20:46:47.247863Z"
    }
   },
   "outputs": [],
   "source": [
    "def gener_apis(houseID, common_list, inputfile_dir, outputfile_dir, outputfile_name):\n",
    "    # join all common dates data into one single file for each node\n",
    "    \n",
    "    df = pd.read_csv(inputfile_dir + '/' + houseID + common_list[0] + \".csv\")\n",
    "\n",
    "    df.to_csv(outputfile_dir + '/' + outputfile_name, index=False)\n",
    "\n",
    "    for i in range(1, len(common_list)):\n",
    "        df = pd.read_csv(inputfile_dir + '/' + houseID + common_list[i] + \".csv\", error_bad_lines=False)\n",
    "        df.to_csv(outputfile_dir + '/' + outputfile_name, index=False, header=False, mode='a+')\n"
   ]
  },
  {
   "cell_type": "code",
   "execution_count": 18,
   "id": "f0d44419",
   "metadata": {
    "ExecuteTime": {
     "end_time": "2022-01-24T20:47:07.199878Z",
     "start_time": "2022-01-24T20:46:50.849427Z"
    }
   },
   "outputs": [],
   "source": [
    "common_list = common\n",
    "\n",
    "house212_inputfile_dir = '/Users/Huang/Documents/DQNBattery/data/house212_2019_sift'\n",
    "house212_outputfile_dir = '/Users/Huang/Documents/DQNBattery/data'\n",
    "house212_outputfile_name = 'house212_2019_apis_all.csv'\n",
    "\n",
    "house212_apis = gener_apis(\"house212_\", common, house212_inputfile_dir, house212_outputfile_dir, house212_outputfile_name)\n"
   ]
  },
  {
   "cell_type": "code",
   "execution_count": 19,
   "id": "5cfce6a1",
   "metadata": {
    "ExecuteTime": {
     "end_time": "2022-01-24T20:47:25.465729Z",
     "start_time": "2022-01-24T20:47:07.209443Z"
    }
   },
   "outputs": [],
   "source": [
    "house213_inputfile_dir = '/Users/Huang/Documents/DQNBattery/data/house213_2019_sift'\n",
    "house213_outputfile_dir = '/Users/Huang/Documents/DQNBattery/data'\n",
    "house213_outputfile_name = 'house213_2019_apis_all.csv'\n",
    "\n",
    "house213_apis = gener_apis(\"house213_\", common, house213_inputfile_dir, house213_outputfile_dir, house213_outputfile_name)\n"
   ]
  },
  {
   "cell_type": "code",
   "execution_count": 20,
   "id": "c2081945",
   "metadata": {
    "ExecuteTime": {
     "end_time": "2022-01-24T20:47:41.168985Z",
     "start_time": "2022-01-24T20:47:25.628000Z"
    }
   },
   "outputs": [],
   "source": [
    "house214_inputfile_dir = '/Users/Huang/Documents/DQNBattery/data/house214_2019_sift'\n",
    "house214_outputfile_dir = '/Users/Huang/Documents/DQNBattery/data'\n",
    "house214_outputfile_name = 'house214_2019_apis_all.csv'\n",
    "\n",
    "house214_apis = gener_apis(\"house214_\", common, house214_inputfile_dir, house214_outputfile_dir, house214_outputfile_name)\n"
   ]
  },
  {
   "cell_type": "code",
   "execution_count": 21,
   "id": "23b0a987",
   "metadata": {
    "ExecuteTime": {
     "end_time": "2022-01-24T20:47:56.858415Z",
     "start_time": "2022-01-24T20:47:41.172155Z"
    }
   },
   "outputs": [],
   "source": [
    "house215_inputfile_dir = '/Users/Huang/Documents/DQNBattery/data/house215_2019_sift'\n",
    "house215_outputfile_dir = '/Users/Huang/Documents/DQNBattery/data'\n",
    "house215_outputfile_name = 'house215_2019_apis_all.csv'\n",
    "\n",
    "house215_apis = gener_apis(\"house215_\", common, house215_inputfile_dir, house215_outputfile_dir, house215_outputfile_name)\n"
   ]
  },
  {
   "cell_type": "code",
   "execution_count": 22,
   "id": "d6d23996",
   "metadata": {
    "ExecuteTime": {
     "end_time": "2022-01-24T20:48:04.442838Z",
     "start_time": "2022-01-24T20:47:56.868097Z"
    }
   },
   "outputs": [],
   "source": [
    "weather_inputfile_dir = '/Users/Huang/Documents/DQNBattery/data/2019_hillside_weather'\n",
    "weather_outputfile_dir = '/Users/Huang/Documents/DQNBattery/data'\n",
    "weather_outputfile_name = 'weather_2019_apis_all.csv'\n",
    "\n",
    "weather_apis = gener_apis(\"weather\", common, weather_inputfile_dir, weather_outputfile_dir, weather_outputfile_name)\n"
   ]
  },
  {
   "cell_type": "markdown",
   "id": "cba443f3",
   "metadata": {},
   "source": [
    "# take average value for every 30 mins"
   ]
  },
  {
   "cell_type": "code",
   "execution_count": 29,
   "id": "a7789559",
   "metadata": {
    "ExecuteTime": {
     "end_time": "2022-01-24T21:09:43.127461Z",
     "start_time": "2022-01-24T21:09:43.121517Z"
    }
   },
   "outputs": [],
   "source": [
    "def timeframe(timestep, inputdata):\n",
    "    # select the timestamp with every timestep mins\n",
    "    # slice data for every 15 minutes\n",
    "    # raw data recorded for each 30s, ~ slice data for every timestep*2 rows\n",
    "    step = np.arange(0, len(inputdata), timestep * 2)\n",
    "    outputdata = inputdata.loc[step, :]\n",
    "    outputdata.index = range(len(outputdata))  # do not keep original index\n",
    "    return outputdata"
   ]
  },
  {
   "cell_type": "code",
   "execution_count": 30,
   "id": "83429972",
   "metadata": {
    "ExecuteTime": {
     "end_time": "2022-01-24T21:09:44.940649Z",
     "start_time": "2022-01-24T21:09:44.934754Z"
    }
   },
   "outputs": [],
   "source": [
    "def timeframe_avg(timestep, inputdata):\n",
    "    inputdata = inputdata.fillna(method='ffill', inplace=False)\n",
    "    avg = inputdata.groupby(inputdata.index // (timestep * 2)).mean()\n",
    "    timestamp = timeframe(timestep, inputdata)\n",
    "    time = timestamp[['timestamp']]\n",
    "    outputdata = pd.concat((time, avg), axis=1)\n",
    "    return outputdata"
   ]
  },
  {
   "cell_type": "code",
   "execution_count": 31,
   "id": "17abecbf",
   "metadata": {
    "ExecuteTime": {
     "end_time": "2022-01-24T21:09:51.463658Z",
     "start_time": "2022-01-24T21:09:49.594989Z"
    }
   },
   "outputs": [],
   "source": [
    "timestep = 30\n",
    "\n",
    "house212_ess_dir = '/Users/Huang/Documents/DQNBattery/data/house212_2019_apis_all.csv'\n",
    "house212_inputdata = pd.read_csv(house212_ess_dir)\n",
    "house212_outputdata = timeframe_avg(timestep, house212_inputdata)\n",
    "house212_outputdata.to_csv('/Users/Huang/Documents/APIS/apis-emulator/data/input/Sample/house212_2019_avg.csv', index=False)\n"
   ]
  },
  {
   "cell_type": "code",
   "execution_count": 32,
   "id": "3b08c0aa",
   "metadata": {
    "ExecuteTime": {
     "end_time": "2022-01-24T21:11:11.878972Z",
     "start_time": "2022-01-24T21:11:10.502956Z"
    }
   },
   "outputs": [],
   "source": [
    "house213_ess_dir = '/Users/Huang/Documents/DQNBattery/data/house213_2019_apis_all.csv'\n",
    "house213_inputdata = pd.read_csv(house213_ess_dir)\n",
    "house213_outputdata = timeframe_avg(timestep, house213_inputdata)\n",
    "house213_outputdata.to_csv('/Users/Huang/Documents/APIS/apis-emulator/data/input/Sample/house213_2019_avg.csv', index=False)\n"
   ]
  },
  {
   "cell_type": "code",
   "execution_count": 33,
   "id": "70c6490d",
   "metadata": {
    "ExecuteTime": {
     "end_time": "2022-01-24T21:11:19.091683Z",
     "start_time": "2022-01-24T21:11:17.681988Z"
    }
   },
   "outputs": [],
   "source": [
    "house214_ess_dir = '/Users/Huang/Documents/DQNBattery/data/house214_2019_apis_all.csv'\n",
    "house214_inputdata = pd.read_csv(house214_ess_dir)\n",
    "house214_outputdata = timeframe_avg(timestep, house214_inputdata)\n",
    "house214_outputdata.to_csv('/Users/Huang/Documents/APIS/apis-emulator/data/input/Sample/house214_2019_avg.csv', index=False)\n"
   ]
  },
  {
   "cell_type": "code",
   "execution_count": 34,
   "id": "eed197eb",
   "metadata": {
    "ExecuteTime": {
     "end_time": "2022-01-24T21:11:22.948367Z",
     "start_time": "2022-01-24T21:11:21.379776Z"
    }
   },
   "outputs": [],
   "source": [
    "house215_ess_dir = '/Users/Huang/Documents/DQNBattery/data/house215_2019_apis_all.csv'\n",
    "house215_inputdata = pd.read_csv(house215_ess_dir)\n",
    "house215_outputdata = timeframe_avg(timestep, house215_inputdata)\n",
    "house215_outputdata.to_csv('/Users/Huang/Documents/APIS/apis-emulator/data/input/Sample/house215_2019_avg.csv', index=False)\n"
   ]
  },
  {
   "cell_type": "code",
   "execution_count": 35,
   "id": "7a052600",
   "metadata": {
    "ExecuteTime": {
     "end_time": "2022-01-24T21:11:26.282964Z",
     "start_time": "2022-01-24T21:11:25.224203Z"
    }
   },
   "outputs": [],
   "source": [
    "weather_ess_dir = '/Users/Huang/Documents/DQNBattery/data/weather_2019_apis_all.csv'\n",
    "weather_inputdata = pd.read_csv(weather_ess_dir)\n",
    "weather_outputdata = timeframe_avg(timestep, weather_inputdata)\n",
    "weather_outputdata.to_csv('/Users/Huang/Documents/APIS/apis-emulator/data/input/Sample/weather_2019_avg.csv', index=False)\n"
   ]
  },
  {
   "cell_type": "code",
   "execution_count": null,
   "id": "b7afccc8",
   "metadata": {},
   "outputs": [],
   "source": []
  }
 ],
 "metadata": {
  "kernelspec": {
   "display_name": "Python 3.7 (tensorflow)",
   "language": "python",
   "name": "tensorflow"
  },
  "language_info": {
   "codemirror_mode": {
    "name": "ipython",
    "version": 3
   },
   "file_extension": ".py",
   "mimetype": "text/x-python",
   "name": "python",
   "nbconvert_exporter": "python",
   "pygments_lexer": "ipython3",
   "version": "3.6.13"
  },
  "toc": {
   "base_numbering": 1,
   "nav_menu": {},
   "number_sections": true,
   "sideBar": true,
   "skip_h1_title": false,
   "title_cell": "Table of Contents",
   "title_sidebar": "Contents",
   "toc_cell": false,
   "toc_position": {
    "height": "calc(100% - 180px)",
    "left": "10px",
    "top": "150px",
    "width": "207.188px"
   },
   "toc_section_display": true,
   "toc_window_display": true
  }
 },
 "nbformat": 4,
 "nbformat_minor": 5
}
