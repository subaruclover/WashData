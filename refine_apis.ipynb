{
 "cells": [
  {
   "cell_type": "markdown",
   "id": "6293df08",
   "metadata": {},
   "source": [
    "# Houses info\n",
    "<!-- ![landscape of faculty houses](landscape.png) -->\n",
    "<img src=\"landscape.png\" alt=\"landscape\" width=\"600\"/>\n",
    "\n",
    "load data and solar data, same data in a year/month (2019),\n",
    "house 212, 213, 214, 215 (205, 206, 208) pick these 4 houses to replace the sample data,\n",
    "only load data is needed (w.r.t the form of sample data, house ID needed)"
   ]
  },
  {
   "cell_type": "code",
   "execution_count": 1,
   "id": "0f8d561c",
   "metadata": {
    "ExecuteTime": {
     "end_time": "2022-01-26T21:41:23.091996Z",
     "start_time": "2022-01-26T21:41:21.302361Z"
    }
   },
   "outputs": [],
   "source": [
    "import os\n",
    "import pandas as pd\n",
    "import numpy as np\n",
    "\n",
    "import logging.config, datetime\n",
    "logger = logging.getLogger(__name__)\n",
    "\n",
    "import matplotlib.pyplot as plt\n",
    "%matplotlib inline"
   ]
  },
  {
   "cell_type": "code",
   "execution_count": 90,
   "id": "28aed75a",
   "metadata": {
    "ExecuteTime": {
     "end_time": "2022-01-27T00:31:30.864316Z",
     "start_time": "2022-01-27T00:31:30.855900Z"
    }
   },
   "outputs": [],
   "source": [
    "house212_2019 = '/Users/Huang/Documents/DQNBattery/data/house212_2019_sift'\n",
    "house213_2019 = '/Users/Huang/Documents/DQNBattery/data/house213_2019_sift'\n",
    "house214_2019 = '/Users/Huang/Documents/DQNBattery/data/house214_2019_sift'\n",
    "house215_2019 = '/Users/Huang/Documents/DQNBattery/data/house215_2019_sift'\n",
    "\n",
    "house205_2019 = '/Users/Huang/Documents/DQNBattery/data/house205_2019_sift'\n",
    "house206_2019 = '/Users/Huang/Documents/DQNBattery/data/house206_2019_sift'\n",
    "house208_2019 = '/Users/Huang/Documents/DQNBattery/data/house208_2019_sift'\n",
    "\n",
    "# weather \n",
    "weather_2019 = '/Users/Huang/Documents/DQNBattery/data/2019_hillside_weather'"
   ]
  },
  {
   "cell_type": "code",
   "execution_count": 3,
   "id": "516f1d90",
   "metadata": {
    "ExecuteTime": {
     "end_time": "2022-01-26T18:56:38.541910Z",
     "start_time": "2022-01-26T18:56:33.754543Z"
    }
   },
   "outputs": [],
   "source": [
    "os.chdir(house215_2019)  # path of original csv data files\n",
    "# name = os.path.splitext(raw_data_dir)[0]  # get file name\n",
    "raw_data_dir = os.getcwd()  # read current file path\n",
    "\n",
    "file_list = os.listdir(raw_data_dir)\n",
    "\n",
    "for path in file_list:\n",
    "    data = pd.read_csv(path)\n",
    "    if len(data) != 2880:\n",
    "        print(path)\n",
    "    "
   ]
  },
  {
   "cell_type": "code",
   "execution_count": 4,
   "id": "72dec969",
   "metadata": {
    "ExecuteTime": {
     "end_time": "2022-01-26T18:56:39.617093Z",
     "start_time": "2022-01-26T18:56:39.597373Z"
    }
   },
   "outputs": [],
   "source": [
    "odd_data = pd.read_csv('/Users/Huang/Documents/DQNBattery/data/house215_2019_sift/house215_20190605.csv')\n",
    "time = odd_data[\"timestamp\"]\n"
   ]
  },
  {
   "cell_type": "code",
   "execution_count": 17,
   "id": "69e2a4d6",
   "metadata": {
    "ExecuteTime": {
     "end_time": "2022-01-26T21:57:45.647183Z",
     "start_time": "2022-01-26T21:57:45.547227Z"
    }
   },
   "outputs": [],
   "source": [
    "timestamp2 = pd.date_range(\"2019-06-05 00:00:00\",\"2019-06-05 23:59:59\",freq='30S')\n",
    "timestamp2 = pd.DataFrame(timestamp2)\n",
    "# ['txt'].str.len()\n",
    "\n",
    "# time2 = timestamp2.values\n",
    "# print(timestamp2)\n",
    "\n",
    "timestamp = pd.date_range(\"00:00:00\", \"23:59:59\", freq=\"30S\").strftime('%H:%M:%S')\n",
    "timestamp = pd.DataFrame(timestamp)\n",
    "# display(timestamp)\n",
    "\n",
    "timestamp.to_csv('/Users/Huang/Desktop/test.csv')"
   ]
  },
  {
   "cell_type": "code",
   "execution_count": 91,
   "id": "715ca022",
   "metadata": {
    "ExecuteTime": {
     "end_time": "2022-01-27T00:31:39.908486Z",
     "start_time": "2022-01-27T00:31:39.900662Z"
    }
   },
   "outputs": [],
   "source": [
    "def get_file_house(foldername, houseID):\n",
    "    \n",
    "    file_list = []  # file name stored in file_list\n",
    "   \n",
    "    for root, dirs, files in os.walk(foldername):\n",
    "        for file in files:\n",
    "            dirname, filename = os.path.split(file)\n",
    "\n",
    "#             print(filename.split('2019', 1)[0])\n",
    "            if filename.split('_', 1)[0] == houseID:\n",
    "                filename = filename.split('_', 1)[1]        \n",
    "                file_list.append(filename.split('.', 1)[0])\n",
    "\n",
    "    file_list.sort()\n",
    "    \n",
    "    return file_list"
   ]
  },
  {
   "cell_type": "code",
   "execution_count": 92,
   "id": "06d81923",
   "metadata": {
    "ExecuteTime": {
     "end_time": "2022-01-27T00:31:43.171360Z",
     "start_time": "2022-01-27T00:31:43.152093Z"
    }
   },
   "outputs": [],
   "source": [
    "def get_file_weather(foldername, houseID):\n",
    "    \n",
    "    file_list = []  # file name stored in file_list\n",
    "   \n",
    "    for root, dirs, files in os.walk(foldername):\n",
    "        for file in files:\n",
    "            dirname, filename = os.path.split(file)\n",
    "            \n",
    "#             print(filename)\n",
    "#             print(filename.split('2019', 1)[0])      \n",
    "\n",
    "            if filename.split('2019', 1)[0] == houseID:\n",
    "                filename = filename.split('weather', 1)[1]        \n",
    "                file_list.append(filename.split('.', 1)[0])\n",
    "\n",
    "    file_list.sort()\n",
    "    \n",
    "    return file_list"
   ]
  },
  {
   "cell_type": "code",
   "execution_count": 93,
   "id": "aff11a3b",
   "metadata": {
    "ExecuteTime": {
     "end_time": "2022-01-27T00:31:44.679599Z",
     "start_time": "2022-01-27T00:31:44.631004Z"
    }
   },
   "outputs": [
    {
     "name": "stdout",
     "output_type": "stream",
     "text": [
      "weather: 334 \n",
      " house212 344 \n",
      " house213 346 \n",
      " house214 334 \n",
      " house215 345\n"
     ]
    }
   ],
   "source": [
    "house212_files = get_file_house(house212_2019, \"house212\")\n",
    "house213_files = get_file_house(house213_2019, \"house213\")\n",
    "house214_files = get_file_house(house214_2019, \"house214\")\n",
    "house215_files = get_file_house(house215_2019, \"house215\")\n",
    "\n",
    "weather_files = get_file_weather(weather_2019, \"weather\")\n",
    "\n",
    "print(\"weather:\", len(weather_files), \"\\n\",\n",
    "      \"house212\", len(house212_files), \"\\n\",\n",
    "      \"house213\", len(house213_files), \"\\n\",\n",
    "      \"house214\", len(house214_files), \"\\n\",\n",
    "      \"house215\", len(house215_files))"
   ]
  },
  {
   "cell_type": "markdown",
   "id": "2817120d",
   "metadata": {},
   "source": [
    "# Get the common date files"
   ]
  },
  {
   "cell_type": "code",
   "execution_count": 94,
   "id": "99ba6e5f",
   "metadata": {
    "ExecuteTime": {
     "end_time": "2022-01-27T00:31:48.597878Z",
     "start_time": "2022-01-27T00:31:48.590415Z"
    }
   },
   "outputs": [
    {
     "name": "stdout",
     "output_type": "stream",
     "text": [
      "332\n"
     ]
    }
   ],
   "source": [
    "common = list(set(weather_files)&set(house212_files)&set(house213_files)&set(house214_files)&set(house215_files))\n",
    "print(len(common))"
   ]
  },
  {
   "cell_type": "code",
   "execution_count": 95,
   "id": "2e36b615",
   "metadata": {
    "ExecuteTime": {
     "end_time": "2022-01-27T00:31:51.629277Z",
     "start_time": "2022-01-27T00:31:51.623640Z"
    }
   },
   "outputs": [],
   "source": [
    "common.sort()\n",
    "# print(common)"
   ]
  },
  {
   "cell_type": "markdown",
   "id": "57f01980",
   "metadata": {},
   "source": [
    "# generate APIS data"
   ]
  },
  {
   "cell_type": "code",
   "execution_count": 10,
   "id": "00078097",
   "metadata": {
    "ExecuteTime": {
     "end_time": "2022-01-25T12:30:26.770219Z",
     "start_time": "2022-01-25T12:30:26.763773Z"
    }
   },
   "outputs": [],
   "source": [
    "def gener_apis(houseID, common_list, inputfile_dir, outputfile_dir, outputfile_name):\n",
    "    # join all common dates data into one single file for each node\n",
    "    \n",
    "    df = pd.read_csv(inputfile_dir + '/' + houseID + common_list[0] + \".csv\")\n",
    "\n",
    "    df.to_csv(outputfile_dir + '/' + outputfile_name, index=False)\n",
    "\n",
    "    for i in range(1, len(common_list)):\n",
    "        df = pd.read_csv(inputfile_dir + '/' + houseID + common_list[i] + \".csv\", error_bad_lines=False)\n",
    "        df.to_csv(outputfile_dir + '/' + outputfile_name, index=False, header=False, mode='a+')\n"
   ]
  },
  {
   "cell_type": "code",
   "execution_count": 11,
   "id": "857feab6",
   "metadata": {
    "ExecuteTime": {
     "end_time": "2022-01-25T12:30:48.461455Z",
     "start_time": "2022-01-25T12:30:38.876702Z"
    }
   },
   "outputs": [],
   "source": [
    "common_list = common\n",
    "\n",
    "house212_inputfile_dir = '/Users/Huang/Documents/DQNBattery/data/house212_2019_sift'\n",
    "house212_outputfile_dir = '/Users/Huang/Documents/DQNBattery/data'\n",
    "house212_outputfile_name = 'house212_2019_apis_all.csv'\n",
    "\n",
    "house212_apis = gener_apis(\"house212_\", common, house212_inputfile_dir, house212_outputfile_dir, house212_outputfile_name)\n"
   ]
  },
  {
   "cell_type": "code",
   "execution_count": 11,
   "id": "7fe90e5a",
   "metadata": {
    "ExecuteTime": {
     "end_time": "2022-01-25T11:53:05.907786Z",
     "start_time": "2022-01-25T11:52:57.034637Z"
    }
   },
   "outputs": [],
   "source": [
    "house213_inputfile_dir = '/Users/Huang/Documents/DQNBattery/data/house213_2019_sift'\n",
    "house213_outputfile_dir = '/Users/Huang/Documents/DQNBattery/data'\n",
    "house213_outputfile_name = 'house213_2019_apis_all.csv'\n",
    "\n",
    "house213_apis = gener_apis(\"house213_\", common, house213_inputfile_dir, house213_outputfile_dir, house213_outputfile_name)\n"
   ]
  },
  {
   "cell_type": "code",
   "execution_count": 12,
   "id": "eab71521",
   "metadata": {
    "ExecuteTime": {
     "end_time": "2022-01-25T11:53:14.452539Z",
     "start_time": "2022-01-25T11:53:05.945391Z"
    }
   },
   "outputs": [],
   "source": [
    "house214_inputfile_dir = '/Users/Huang/Documents/DQNBattery/data/house214_2019_sift'\n",
    "house214_outputfile_dir = '/Users/Huang/Documents/DQNBattery/data'\n",
    "house214_outputfile_name = 'house214_2019_apis_all.csv'\n",
    "\n",
    "house214_apis = gener_apis(\"house214_\", common, house214_inputfile_dir, house214_outputfile_dir, house214_outputfile_name)\n"
   ]
  },
  {
   "cell_type": "code",
   "execution_count": 12,
   "id": "cd2dbfc2",
   "metadata": {
    "ExecuteTime": {
     "end_time": "2022-01-25T12:30:57.573691Z",
     "start_time": "2022-01-25T12:30:48.463855Z"
    }
   },
   "outputs": [],
   "source": [
    "house215_inputfile_dir = '/Users/Huang/Documents/DQNBattery/data/house215_2019_sift'\n",
    "house215_outputfile_dir = '/Users/Huang/Documents/DQNBattery/data'\n",
    "house215_outputfile_name = 'house215_2019_apis_all.csv'\n",
    "\n",
    "house215_apis = gener_apis(\"house215_\", common, house215_inputfile_dir, house215_outputfile_dir, house215_outputfile_name)\n"
   ]
  },
  {
   "cell_type": "code",
   "execution_count": 14,
   "id": "eda65248",
   "metadata": {
    "ExecuteTime": {
     "end_time": "2022-01-25T11:53:29.065543Z",
     "start_time": "2022-01-25T11:53:23.187959Z"
    }
   },
   "outputs": [],
   "source": [
    "weather_inputfile_dir = '/Users/Huang/Documents/DQNBattery/data/2019_hillside_weather'\n",
    "weather_outputfile_dir = '/Users/Huang/Documents/DQNBattery/data'\n",
    "weather_outputfile_name = 'weather_2019_apis_all.csv'\n",
    "\n",
    "weather_apis = gener_apis(\"weather\", common, weather_inputfile_dir, weather_outputfile_dir, weather_outputfile_name)\n"
   ]
  },
  {
   "cell_type": "markdown",
   "id": "b12d4de1",
   "metadata": {},
   "source": [
    "# take average value for every 30 mins"
   ]
  },
  {
   "cell_type": "code",
   "execution_count": 13,
   "id": "373ab79a",
   "metadata": {
    "ExecuteTime": {
     "end_time": "2022-01-25T12:33:44.000631Z",
     "start_time": "2022-01-25T12:33:43.971314Z"
    }
   },
   "outputs": [],
   "source": [
    "def timeframe(timestep, inputdata):\n",
    "    # select the timestamp with every timestep mins\n",
    "    # slice data for every 15 minutes\n",
    "    # raw data recorded for each 30s, ~ slice data for every timestep*2 rows\n",
    "    step = np.arange(0, len(inputdata), timestep * 2)\n",
    "    outputdata = inputdata.loc[step, :]\n",
    "    outputdata.index = range(len(outputdata))  # do not keep original index\n",
    "    return outputdata"
   ]
  },
  {
   "cell_type": "code",
   "execution_count": 14,
   "id": "612d93fd",
   "metadata": {
    "ExecuteTime": {
     "end_time": "2022-01-25T12:33:44.975528Z",
     "start_time": "2022-01-25T12:33:44.965128Z"
    }
   },
   "outputs": [],
   "source": [
    "def timeframe_avg(timestep, inputdata):\n",
    "    inputdata = inputdata.fillna(method='ffill', inplace=False)\n",
    "    avg = inputdata.groupby(inputdata.index // (timestep * 2)).mean()\n",
    "    timestamp = timeframe(timestep, inputdata)\n",
    "    time = timestamp[['timestamp']]\n",
    "    outputdata = pd.concat((time, avg), axis=1)\n",
    "    return outputdata"
   ]
  },
  {
   "cell_type": "code",
   "execution_count": 15,
   "id": "7cf19d1e",
   "metadata": {
    "ExecuteTime": {
     "end_time": "2022-01-25T12:33:47.526664Z",
     "start_time": "2022-01-25T12:33:45.993661Z"
    }
   },
   "outputs": [],
   "source": [
    "timestep = 30\n",
    "\n",
    "house212_ess_dir = '/Users/Huang/Documents/DQNBattery/data/house212_2019_apis_all.csv'\n",
    "house212_inputdata = pd.read_csv(house212_ess_dir)\n",
    "house212_outputdata = timeframe_avg(timestep, house212_inputdata)\n",
    "house212_outputdata.to_csv('/Users/Huang/Documents/APIS/apis-emulator/data/input/Sample/house212_2019_avg.csv', index=False)\n"
   ]
  },
  {
   "cell_type": "code",
   "execution_count": 16,
   "id": "1816fb7d",
   "metadata": {
    "ExecuteTime": {
     "end_time": "2022-01-25T12:33:53.333803Z",
     "start_time": "2022-01-25T12:33:51.866441Z"
    }
   },
   "outputs": [],
   "source": [
    "house213_ess_dir = '/Users/Huang/Documents/DQNBattery/data/house213_2019_apis_all.csv'\n",
    "house213_inputdata = pd.read_csv(house213_ess_dir)\n",
    "house213_outputdata = timeframe_avg(timestep, house213_inputdata)\n",
    "house213_outputdata.to_csv('/Users/Huang/Documents/APIS/apis-emulator/data/input/Sample/house213_2019_avg.csv', index=False)\n"
   ]
  },
  {
   "cell_type": "code",
   "execution_count": 17,
   "id": "24089461",
   "metadata": {
    "ExecuteTime": {
     "end_time": "2022-01-25T12:33:55.732533Z",
     "start_time": "2022-01-25T12:33:54.326839Z"
    }
   },
   "outputs": [],
   "source": [
    "house214_ess_dir = '/Users/Huang/Documents/DQNBattery/data/house214_2019_apis_all.csv'\n",
    "house214_inputdata = pd.read_csv(house214_ess_dir)\n",
    "house214_outputdata = timeframe_avg(timestep, house214_inputdata)\n",
    "house214_outputdata.to_csv('/Users/Huang/Documents/APIS/apis-emulator/data/input/Sample/house214_2019_avg.csv', index=False)\n"
   ]
  },
  {
   "cell_type": "code",
   "execution_count": 18,
   "id": "a1c2668d",
   "metadata": {
    "ExecuteTime": {
     "end_time": "2022-01-25T12:33:58.018367Z",
     "start_time": "2022-01-25T12:33:56.581989Z"
    }
   },
   "outputs": [],
   "source": [
    "house215_ess_dir = '/Users/Huang/Documents/DQNBattery/data/house215_2019_apis_all.csv'\n",
    "house215_inputdata = pd.read_csv(house215_ess_dir)\n",
    "house215_outputdata = timeframe_avg(timestep, house215_inputdata)\n",
    "house215_outputdata.to_csv('/Users/Huang/Documents/APIS/apis-emulator/data/input/Sample/house215_2019_avg.csv', index=False)\n"
   ]
  },
  {
   "cell_type": "code",
   "execution_count": 19,
   "id": "a27063ce",
   "metadata": {
    "ExecuteTime": {
     "end_time": "2022-01-25T12:33:59.837260Z",
     "start_time": "2022-01-25T12:33:58.801769Z"
    }
   },
   "outputs": [],
   "source": [
    "weather_ess_dir = '/Users/Huang/Documents/DQNBattery/data/weather_2019_apis_all.csv'\n",
    "weather_inputdata = pd.read_csv(weather_ess_dir)\n",
    "weather_outputdata = timeframe_avg(timestep, weather_inputdata)\n",
    "weather_outputdata.to_csv('/Users/Huang/Documents/APIS/apis-emulator/data/input/Sample/weather_2019_avg.csv', index=False)\n"
   ]
  },
  {
   "cell_type": "markdown",
   "id": "a3ea391e",
   "metadata": {},
   "source": [
    "## change the format the same as Sample data\n",
    "**Basically we need to transpose the data file**\n",
    "\n",
    "**load for each house**"
   ]
  },
  {
   "cell_type": "code",
   "execution_count": 69,
   "id": "6e3a4667",
   "metadata": {
    "ExecuteTime": {
     "end_time": "2022-01-26T23:54:47.456897Z",
     "start_time": "2022-01-26T23:54:47.440141Z"
    }
   },
   "outputs": [],
   "source": [
    "def reformat_oneday_load(input_dir, output_dir):\n",
    "    \n",
    "    os.chdir(input_dir) # e.g. house215_2019_sift\n",
    "    file_list = os.listdir()\n",
    "    file_list.sort()  # sort all data (from 01/01 to 12/31)\n",
    "    \n",
    "    for i in range(len(file_list)):\n",
    "        data = pd.read_csv(input_dir + '/' + file_list[i], error_bad_lines=False)\n",
    "        \n",
    "        df = pd.DataFrame(data, columns=[\"timestamp\", \"ups_output_power\"])\n",
    "        df2 = pd.DataFrame(data, columns=[\"ups_output_power\"])\n",
    "        date = pd.to_datetime(df['timestamp'][0]).date()\n",
    "        \n",
    "        d = date.strftime(\"%Y/%m/%d\")  # change index to str\n",
    "\n",
    "        df_t = pd.DataFrame((df.T).iloc[1])#, columns = column_name)\n",
    "        df_t = df_t.T # transpose the dataframe\n",
    "\n",
    "        df_t.insert(0,'date', d)\n",
    "        \n",
    "        df_t.to_csv(output_dir + '/' + file_list[i])#, header=False)\n",
    "        \n",
    "#         df_t.to_csv('/Users/Huang/Desktop/testoneday2.csv', header=False)"
   ]
  },
  {
   "cell_type": "code",
   "execution_count": 75,
   "id": "bd0c50d2",
   "metadata": {
    "ExecuteTime": {
     "end_time": "2022-01-27T00:05:16.217642Z",
     "start_time": "2022-01-27T00:03:26.044385Z"
    }
   },
   "outputs": [],
   "source": [
    "input_dir = '/Users/Huang/Documents/DQNBattery/data/house213_2019_sift/'\n",
    "output_dir = '/Users/Huang/Documents/DQNBattery/data/house213_2019_apis_load/'\n",
    "\n",
    "reformat_oneday_load(input_dir, output_dir)"
   ]
  },
  {
   "cell_type": "code",
   "execution_count": 76,
   "id": "5453c9a4",
   "metadata": {
    "ExecuteTime": {
     "end_time": "2022-01-27T00:07:01.047784Z",
     "start_time": "2022-01-27T00:05:16.347833Z"
    }
   },
   "outputs": [],
   "source": [
    "input_dir = '/Users/Huang/Documents/DQNBattery/data/house214_2019_sift/'\n",
    "output_dir = '/Users/Huang/Documents/DQNBattery/data/house214_2019_apis_load/'\n",
    "\n",
    "reformat_oneday_load(input_dir, output_dir)"
   ]
  },
  {
   "cell_type": "code",
   "execution_count": 77,
   "id": "9f2b4b00",
   "metadata": {
    "ExecuteTime": {
     "end_time": "2022-01-27T00:08:42.936035Z",
     "start_time": "2022-01-27T00:07:01.056685Z"
    }
   },
   "outputs": [],
   "source": [
    "input_dir = '/Users/Huang/Documents/DQNBattery/data/house215_2019_sift/'\n",
    "output_dir = '/Users/Huang/Documents/DQNBattery/data/house215_2019_apis_load/'\n",
    "\n",
    "reformat_oneday_load(input_dir, output_dir)"
   ]
  },
  {
   "cell_type": "code",
   "execution_count": null,
   "id": "5559ca41",
   "metadata": {},
   "outputs": [],
   "source": [
    "# input_dir = '/Users/Huang/Documents/DQNBattery/data/2019_hillside_weather/'\n",
    "# output_dir = '/Users/Huang/Documents/DQNBattery/data/2019_hillside_weather_sift_apis/'\n",
    "\n",
    "# reformat_oneday(input_dir, output_dir)"
   ]
  },
  {
   "cell_type": "markdown",
   "id": "9b729855",
   "metadata": {},
   "source": [
    "## solar power data\n",
    "**get from pvc_charge_power**"
   ]
  },
  {
   "cell_type": "code",
   "execution_count": 78,
   "id": "ee247ef7",
   "metadata": {
    "ExecuteTime": {
     "end_time": "2022-01-27T00:16:51.716042Z",
     "start_time": "2022-01-27T00:16:51.610197Z"
    }
   },
   "outputs": [],
   "source": [
    "def reformat_oneday_sol(input_dir, output_dir):\n",
    "    \n",
    "    os.chdir(input_dir) # e.g. house215_2019_sift\n",
    "    file_list = os.listdir()\n",
    "    file_list.sort()  # sort all data (from 01/01 to 12/31)\n",
    "    \n",
    "    for i in range(len(file_list)):\n",
    "        data = pd.read_csv(input_dir + '/' + file_list[i], error_bad_lines=False)\n",
    "        \n",
    "        df = pd.DataFrame(data, columns=[\"timestamp\", \"pvc_charge_power\"])\n",
    "#         df2 = pd.DataFrame(data, columns=[\"pvc_charge_power\"])\n",
    "        date = pd.to_datetime(df['timestamp'][0]).date()\n",
    "        \n",
    "        d = date.strftime(\"%Y/%m/%d\")  # change index to str\n",
    "\n",
    "        df_t = pd.DataFrame((df.T).iloc[1])#, columns = column_name)\n",
    "        df_t = df_t.T # transpose the dataframe\n",
    "\n",
    "        df_t.insert(0,'date', d)\n",
    "        \n",
    "        df_t.to_csv(output_dir + '/' + file_list[i])#, header=False)"
   ]
  },
  {
   "cell_type": "code",
   "execution_count": 80,
   "id": "f0f9e6ae",
   "metadata": {
    "ExecuteTime": {
     "end_time": "2022-01-27T00:21:28.850581Z",
     "start_time": "2022-01-27T00:19:43.521352Z"
    }
   },
   "outputs": [],
   "source": [
    "input_dir = '/Users/Huang/Documents/DQNBattery/data/house212_2019_sift/'\n",
    "output_dir = '/Users/Huang/Documents/DQNBattery/data/house212_2019_apis_sol/'\n",
    "\n",
    "reformat_oneday_sol(input_dir, output_dir)"
   ]
  },
  {
   "cell_type": "code",
   "execution_count": 81,
   "id": "37dd157c",
   "metadata": {
    "ExecuteTime": {
     "end_time": "2022-01-27T00:23:28.552796Z",
     "start_time": "2022-01-27T00:21:28.854490Z"
    }
   },
   "outputs": [],
   "source": [
    "input_dir = '/Users/Huang/Documents/DQNBattery/data/house213_2019_sift/'\n",
    "output_dir = '/Users/Huang/Documents/DQNBattery/data/house213_2019_apis_sol/'\n",
    "\n",
    "reformat_oneday_sol(input_dir, output_dir)"
   ]
  },
  {
   "cell_type": "code",
   "execution_count": 82,
   "id": "34d5b94f",
   "metadata": {
    "ExecuteTime": {
     "end_time": "2022-01-27T00:24:58.053293Z",
     "start_time": "2022-01-27T00:23:28.556183Z"
    }
   },
   "outputs": [],
   "source": [
    "input_dir = '/Users/Huang/Documents/DQNBattery/data/house214_2019_sift/'\n",
    "output_dir = '/Users/Huang/Documents/DQNBattery/data/house214_2019_apis_sol/'\n",
    "\n",
    "reformat_oneday_sol(input_dir, output_dir)"
   ]
  },
  {
   "cell_type": "code",
   "execution_count": 83,
   "id": "08d345c7",
   "metadata": {
    "ExecuteTime": {
     "end_time": "2022-01-27T00:26:27.762549Z",
     "start_time": "2022-01-27T00:24:58.056672Z"
    }
   },
   "outputs": [],
   "source": [
    "input_dir = '/Users/Huang/Documents/DQNBattery/data/house215_2019_sift/'\n",
    "output_dir = '/Users/Huang/Documents/DQNBattery/data/house215_2019_apis_sol/'\n",
    "\n",
    "reformat_oneday_sol(input_dir, output_dir)"
   ]
  },
  {
   "cell_type": "markdown",
   "id": "8360fa2b",
   "metadata": {},
   "source": [
    "## reform to one file"
   ]
  },
  {
   "cell_type": "code",
   "execution_count": 122,
   "id": "b8892ceb",
   "metadata": {
    "ExecuteTime": {
     "end_time": "2022-01-27T01:05:21.347227Z",
     "start_time": "2022-01-27T01:05:21.329831Z"
    }
   },
   "outputs": [],
   "source": [
    "def onehouse(input_file):\n",
    "    \n",
    "    data = pd.read_csv(input_file)\n",
    "    \n",
    "    return data"
   ]
  },
  {
   "cell_type": "code",
   "execution_count": 123,
   "id": "ff729d38",
   "metadata": {
    "ExecuteTime": {
     "end_time": "2022-01-27T01:05:24.342920Z",
     "start_time": "2022-01-27T01:05:24.332069Z"
    }
   },
   "outputs": [],
   "source": [
    "input_212 = '/Users/Huang/Documents/DQNBattery/data/house212_2019_apis_sol_reform.csv'\n",
    "input_213 = '/Users/Huang/Documents/DQNBattery/data/house213_2019_apis_sol_reform.csv'\n",
    "input_214 = '/Users/Huang/Documents/DQNBattery/data/house214_2019_apis_sol_reform.csv'\n",
    "input_215 = '/Users/Huang/Documents/DQNBattery/data/house215_2019_apis_sol_reform.csv'"
   ]
  },
  {
   "cell_type": "code",
   "execution_count": 124,
   "id": "bd160b29",
   "metadata": {
    "ExecuteTime": {
     "end_time": "2022-01-27T01:05:32.761131Z",
     "start_time": "2022-01-27T01:05:30.638988Z"
    }
   },
   "outputs": [
    {
     "name": "stderr",
     "output_type": "stream",
     "text": [
      "/Users/Huang/opt/miniconda3/envs/tensorflow/lib/python3.6/site-packages/IPython/core/interactiveshell.py:3263: DtypeWarning: Columns (915,978,997,1000,1001,1019,1054,1062,1063,1088,1092,1094,1097,1101,1102,1137,1140,1151,1152,1153,1154,1171,1188,1206,1208,1210,1212,1215,1226,1247,1257,1264,1268,1277,1291,1292,1297,1299,1303,1304,1305,1306,1313,1316,1319,1323,1328,1334,1336,1337,1338,1341,1344,1347,1351,1356,1362,1366,1367,1371,1376,1377,1382,1384,1387,1388,1391,1393,1397,1399,1401,1403,1404,1405,1407,1408,1410,1411,1412,1413,1414,1416,1418,1419,1422,1423,1428,1435,1438,1441,1443,1444,1448,1449,1450,1452,1453,1456,1458,1460,1461,1462,1463,1464,1465,1467,1472,1473,1477,1483,1485,1488,1489,1493,1496,1498,1499,1502,1503,1504,1506,1507,1511,1512,1515,1518,1520,1522,1523,1524,1526,1528,1529,1530,1536,1537,1538,1541,1544,1547,1549,1554,1555,1560,1561,1563,1564,1567,1569,1570,1575,1577,1579,1581,1584,1585,1587,1588,1592,1593,1598,1599,1601,1603,1604,1609,1613,1614,1615,1616,1620,1621,1622,1623,1624,1625,1626,1628,1629,1630,1637,1639,1640,1642,1644,1648,1650,1651,1653,1656,1658,1660,1661,1664,1669,1670,1677,1681,1684,1685,1687,1688,1692,1693,1696,1706,1707,1708,1709,1710,1711,1715,1716,1717,1719,1721,1724,1727,1731,1732,1738,1740,1741,1742,1743,1745,1746,1747,1748,1750,1752,1755,1756,1758,1761,1762,1764,1765,1766,1767,1769,1771,1773,1775,1779,1783,1784,1786,1791,1792,1793,1795,1800,1801,1805,1807,1808,1809,1811,1812,1817,1818,1820,1822,1823,1824,1826,1827,1830,1832,1833,1845,1846,1848,1850,1851,1854,1857,1859,1861,1862,1863,1864,1868,1870,1872,1874,1875,1879,1882,1885,1887,1890,1893,1897,1898,1899,1900,1901,1903,1905,1906,1907,1911,1914,1915,1917,1920,1923,1924,1925,1926,1928,1929,1930,1932,1934,1943,1944,1945,1948,1949,1950,1952,1957,1958,1961,1963,1965,1967,1969,1973,1979,1980,1981,1986,1997,1998,2000,2002,2004,2009,2012,2013,2015,2018,2019,2022,2023,2024,2026,2027,2028,2029,2031,2036,2037,2039,2042,2043,2044,2045,2048,2061,2062,2065,2067,2070,2071,2074,2078,2080,2083,2084,2086,2087,2089,2090,2097,2102,2104,2108,2109,2110,2111,2112,2113,2116,2119,2123,2127,2129,2137,2138,2152,2163,2169,2179,2180,2192,2194,2199,2215,2221,2239,2254,2256,2356) have mixed types.Specify dtype option on import or set low_memory=False.\n",
      "  if (await self.run_code(code, result,  async_=asy)):\n",
      "/Users/Huang/opt/miniconda3/envs/tensorflow/lib/python3.6/site-packages/IPython/core/interactiveshell.py:3263: DtypeWarning: Columns (950,1002,1013,1025,1028,1030,1035,1047,1051,1056,1067,1076,1090,1101,1111,1112,1118,1120,1124,1128,1146,1176,1181,1190,1193,1211,1218,1254,1256,1261,1268,1286,1296,1297,1302,1306,1323,1337,1347,1348,1349,1350,1351,1355,1356,1357,1362,1364,1365,1372,1378,1383,1384,1392,1393,1396,1402,1404,1407,1408,1410,1411,1412,1413,1415,1422,1424,1425,1427,1428,1429,1433,1434,1440,1442,1444,1445,1446,1449,1452,1455,1456,1469,1471,1474,1475,1480,1482,1484,1485,1486,1490,1491,1494,1498,1500,1501,1518,1522,1528,1531,1541,1542,1544,1547,1548,1556,1558,1561,1565,1567,1568,1576,1580,1581,1589,1590,1591,1593,1595,1597,1599,1602,1603,1607,1611,1612,1613,1614,1617,1618,1623,1629,1631,1632,1637,1642,1647,1648,1650,1651,1652,1656,1658,1662,1667,1668,1669,1671,1673,1674,1677,1680,1683,1689,1693,1694,1698,1699,1707,1711,1725,1726,1731,1732,1736,1737,1742,1745,1746,1754,1757,1760,1767,1769,1771,1775,1776,1783,1792,1797,1800,1802,1805,1807,1808,1811,1813,1817,1820,1829,1830,1831,1836,1837,1838,1846,1847,1849,1852,1853,1856,1864,1872,1874,1876,1878,1881,1882,1888,1890,1895,1898,1899,1904,1906,1909,1912,1919,1921,1925,1932,1935,1937,1938,1945,1950,1957,1958,1962,1967,1970,1972,1973,1993,1997,2000,2011,2017,2019,2020,2021,2025,2026,2029,2030,2033,2039,2048,2057,2059,2066,2069,2074,2078,2083,2090,2092,2093,2094,2096,2105,2129,2130,2133,2137,2143,2145,2146,2148,2173,2177,2190,2219,2238,2245,2251,2256,2277,2280,2303) have mixed types.Specify dtype option on import or set low_memory=False.\n",
      "  if (await self.run_code(code, result,  async_=asy)):\n",
      "/Users/Huang/opt/miniconda3/envs/tensorflow/lib/python3.6/site-packages/IPython/core/interactiveshell.py:3263: DtypeWarning: Columns (970,1022,1056,1070,1091,1092,1094,1099,1103,1112,1113,1120,1136,1140,1145,1150,1152,1154,1160,1164,1165,1166,1169,1170,1171,1173,1175,1176,1177,1178,1182,1183,1184,1186,1191,1194,1196,1201,1204,1210,1212,1214,1216,1217,1221,1224,1226,1230,1236,1239,1241,1253,1262,1263,1266,1267,1268,1269,1273,1274,1277,1278,1289,1290,1292,1293,1294,1295,1296,1297,1299,1304,1305,1307,1308,1310,1313,1317,1318,1320,1323,1326,1328,1329,1331,1332,1333,1335,1341,1346,1347,1350,1354,1355,1357,1358,1361,1362,1368,1370,1371,1372,1378,1384,1385,1386,1387,1388,1389,1391,1392,1393,1394,1395,1396,1400,1401,1405,1406,1407,1413,1416,1421,1424,1428,1430,1431,1433,1434,1435,1437,1438,1441,1444,1454,1456,1458,1461,1463,1464,1466,1468,1469,1470,1471,1474,1476,1479,1480,1482,1483,1484,1485,1486,1487,1492,1493,1494,1496,1498,1499,1500,1502,1503,1505,1508,1509,1512,1519,1522,1526,1527,1532,1533,1534,1540,1542,1544,1546,1547,1548,1556,1557,1565,1567,1570,1573,1575,1577,1580,1581,1584,1590,1591,1593,1599,1600,1601,1604,1607,1608,1609,1610,1611,1612,1613,1617,1618,1620,1622,1623,1627,1629,1630,1633,1635,1637,1640,1643,1644,1646,1648,1650,1651,1654,1655,1658,1660,1665,1668,1671,1672,1685,1686,1687,1688,1698,1700,1705,1707,1708,1709,1716,1721,1723,1731,1732,1733,1739,1741,1744,1745,1748,1750,1751,1755,1756,1759,1764,1767,1768,1769,1773,1776,1778,1779,1780,1781,1782,1785,1787,1790,1791,1793,1796,1798,1799,1803,1806,1807,1814,1818,1819,1823,1825,1833,1834,1836,1839,1841,1845,1846,1849,1856,1857,1858,1860,1861,1869,1870,1871,1877,1878,1881,1882,1883,1885,1893,1895,1896,1897,1898,1901,1904,1907,1908,1909,1911,1914,1916,1917,1921,1924,1926,1927,1929,1931,1932,1933,1934,1935,1937,1938,1939,1940,1942,1944,1945,1949,1951,1955,1960,1961,1962,1964,1967,1968,1972,1973,1980,1987,1989,1991,1992,1993,1996,1999,2000,2003,2005,2006,2012,2015,2025,2027,2031,2032,2033,2034,2035,2037,2038,2040,2043,2046,2053,2057,2058,2061,2063,2066,2067,2073,2074,2082,2085,2087,2091,2109,2117,2121,2122,2123,2145,2151,2154,2162,2168,2172,2179,2185,2189,2190,2192,2196,2199,2206,2210,2217,2223,2227,2229,2232,2233,2240,2256,2260,2272,2273,2295,2311,2313,2323,2324,2375) have mixed types.Specify dtype option on import or set low_memory=False.\n",
      "  if (await self.run_code(code, result,  async_=asy)):\n",
      "/Users/Huang/opt/miniconda3/envs/tensorflow/lib/python3.6/site-packages/IPython/core/interactiveshell.py:3263: DtypeWarning: Columns (1013,1022,1044,1049,1060,1063,1078,1086,1093,1112,1114,1122,1131,1134,1136,1140,1143,1149,1154,1165,1177,1179,1182,1184,1186,1187,1191,1197,1210,1219,1260,1262,1266,1272,1278,1279,1283,1288,1289,1290,1294,1298,1299,1302,1303,1305,1309,1310,1314,1317,1319,1320,1329,1333,1336,1340,1342,1347,1349,1354,1356,1357,1360,1362,1364,1365,1366,1367,1368,1370,1371,1375,1378,1385,1387,1392,1393,1394,1395,1396,1398,1399,1400,1403,1406,1408,1411,1412,1413,1415,1416,1417,1418,1420,1422,1423,1424,1425,1426,1429,1431,1433,1435,1436,1440,1441,1442,1443,1444,1445,1447,1449,1450,1451,1452,1453,1454,1456,1459,1461,1462,1463,1465,1469,1475,1476,1478,1480,1481,1482,1483,1486,1487,1488,1490,1492,1493,1495,1499,1503,1504,1505,1506,1507,1508,1509,1510,1513,1519,1521,1522,1523,1524,1525,1528,1530,1531,1535,1537,1540,1541,1543,1545,1546,1547,1548,1549,1551,1552,1554,1556,1557,1558,1560,1561,1564,1565,1566,1569,1570,1571,1573,1575,1577,1578,1581,1583,1585,1588,1589,1590,1592,1593,1595,1596,1600,1603,1605,1607,1611,1612,1614,1616,1617,1618,1619,1620,1625,1628,1629,1631,1632,1634,1636,1641,1643,1647,1649,1650,1652,1653,1654,1655,1658,1659,1660,1661,1663,1664,1665,1666,1668,1669,1671,1672,1675,1678,1679,1680,1681,1682,1683,1685,1691,1692,1693,1694,1695,1696,1697,1699,1700,1701,1702,1704,1708,1709,1710,1712,1713,1715,1717,1719,1720,1723,1725,1727,1730,1732,1733,1734,1736,1737,1738,1739,1741,1742,1743,1745,1746,1747,1748,1749,1750,1751,1753,1754,1755,1758,1759,1760,1763,1766,1767,1770,1771,1772,1773,1774,1776,1777,1778,1779,1781,1783,1786,1787,1792,1793,1795,1798,1799,1801,1802,1804,1805,1806,1807,1809,1810,1811,1812,1813,1814,1816,1818,1819,1820,1821,1823,1824,1827,1828,1830,1831,1832,1835,1837,1838,1839,1840,1842,1843,1844,1845,1846,1847,1848,1850,1852,1854,1855,1856,1861,1862,1865,1869,1870,1871,1875,1883,1884,1888,1889,1890,1892,1893,1897,1898,1899,1900,1901,1902,1904,1905,1906,1909,1913,1914,1915,1916,1917,1918,1920,1921,1922,1924,1931,1933,1936,1940,1942,1943,1944,1946,1947,1949,1951,1952,1953,1954,1956,1957,1958,1959,1960,1961,1962,1963,1967,1968,1969,1970,1971,1972,1973,1974,1975,1977,1978,1979,1980,1981,1985,1986,1987,1991,1992,1993,1996,1999,2001,2005,2007,2008,2009,2010,2012,2015,2020,2021,2023,2025,2026,2027,2028,2030,2033,2034,2035,2037,2039,2043,2044,2046,2047,2048,2050,2052,2054,2055,2056,2057,2058,2059,2060,2062,2064,2066,2069,2070,2071,2073,2074,2076,2077,2080,2081,2082,2084,2085,2086,2088,2089,2092,2094,2095,2097,2098,2099,2100,2101,2102,2103,2107,2109,2111,2113,2114,2115,2119,2120,2121,2122,2123,2125,2126,2127,2128,2133,2134,2135,2137,2138,2140,2141,2142,2144,2145,2147,2148,2152,2156,2157,2158,2160,2161,2164,2167,2169,2170,2171,2173,2174,2178,2181,2182,2183,2184,2185,2190,2192,2193,2194,2196,2198,2199,2200,2204,2205,2208,2209,2210,2215,2216,2217,2218,2220,2222,2224,2229,2230,2232,2239,2242,2244,2245,2246,2247,2249,2255,2256,2260,2262,2265,2269,2272,2280,2283,2285,2287,2297,2300,2302,2317,2318,2322,2323,2324,2333,2344,2361) have mixed types.Specify dtype option on import or set low_memory=False.\n",
      "  if (await self.run_code(code, result,  async_=asy)):\n"
     ]
    }
   ],
   "source": [
    "output_212 = onehouse(input_212)\n",
    "output_213 = onehouse(input_213)\n",
    "output_214 = onehouse(input_214)\n",
    "output_215 = onehouse(input_215)"
   ]
  },
  {
   "cell_type": "code",
   "execution_count": 121,
   "id": "4c5cc5be",
   "metadata": {
    "ExecuteTime": {
     "end_time": "2022-01-27T01:03:24.607595Z",
     "start_time": "2022-01-27T01:03:18.688074Z"
    }
   },
   "outputs": [],
   "source": [
    "output_all = output_212.append(output_213).append(output_214).append(output_215)\n",
    "# display(test[956150:956170])\n",
    "\n",
    "outputfile_name = 'fourhouses_2019_apis_load_reform.csv'\n",
    "output_all.to_csv('/Users/Huang/Documents/DQNBattery/data/' + outputfile_name, index=False)"
   ]
  },
  {
   "cell_type": "code",
   "execution_count": 125,
   "id": "f456556a",
   "metadata": {
    "ExecuteTime": {
     "end_time": "2022-01-27T01:05:44.464538Z",
     "start_time": "2022-01-27T01:05:40.434563Z"
    }
   },
   "outputs": [],
   "source": [
    "output_all = output_212.append(output_213).append(output_214).append(output_215)\n",
    "# display(test[956150:956170])\n",
    "\n",
    "outputfile_name = 'fourhouses_2019_apis_sol_reform.csv'\n",
    "output_all.to_csv('/Users/Huang/Documents/DQNBattery/data/' + outputfile_name, index=False)"
   ]
  },
  {
   "cell_type": "code",
   "execution_count": null,
   "id": "ec71f344",
   "metadata": {},
   "outputs": [],
   "source": []
  },
  {
   "cell_type": "code",
   "execution_count": 112,
   "id": "b39ddc8b",
   "metadata": {
    "ExecuteTime": {
     "end_time": "2022-01-27T00:44:30.658963Z",
     "start_time": "2022-01-27T00:44:30.646051Z"
    }
   },
   "outputs": [],
   "source": [
    "# put apis data into one file for each house\n",
    "# share the same date!!\n",
    "def house_apis_all(houseID, common_list, input_data_dir, output_data_dir, output_name):\n",
    "    os.chdir(input_data_dir) # e.g. house215_2019_sift\n",
    "    file_list = os.listdir()\n",
    "    file_list.sort()  # sort all data (from 01/01 to 12/31)\n",
    "    \n",
    "    df = pd.read_csv(input_data_dir + '/' + houseID + common_list[0] + '.csv')\n",
    "\n",
    "    df.to_csv(output_data_dir + '/' + output_name, index=False)\n",
    "    \n",
    "    for i in range(1, len(common_list)):\n",
    "        df = pd.read_csv(input_data_dir + '/' + houseID + common_list[i] + '.csv', error_bad_lines=False)\n",
    "#         df = pd.DataFrame(data)\n",
    "        \n",
    "        df.to_csv(output_data_dir + '/' + output_name, index=False, header=False, mode='a+')\n",
    "            "
   ]
  },
  {
   "cell_type": "code",
   "execution_count": 113,
   "id": "3388d6bb",
   "metadata": {
    "ExecuteTime": {
     "end_time": "2022-01-27T00:45:43.430392Z",
     "start_time": "2022-01-27T00:44:33.562541Z"
    }
   },
   "outputs": [],
   "source": [
    "input_data_dir = '/Users/Huang/Documents/DQNBattery/data/house212_2019_apis_sol'\n",
    "output_name = 'house212_2019_apis_sol_reform.csv'\n",
    "output_data_dir = '/Users/Huang/Documents/DQNBattery/data'\n",
    "\n",
    "house_apis_all('house212_', common, input_data_dir, output_data_dir, output_name)"
   ]
  },
  {
   "cell_type": "code",
   "execution_count": 114,
   "id": "70cc1093",
   "metadata": {
    "ExecuteTime": {
     "end_time": "2022-01-27T00:47:12.921352Z",
     "start_time": "2022-01-27T00:45:43.434533Z"
    }
   },
   "outputs": [],
   "source": [
    "input_data_dir = '/Users/Huang/Documents/DQNBattery/data/house213_2019_apis_sol'\n",
    "output_name = 'house213_2019_apis_sol_reform.csv'\n",
    "output_data_dir = '/Users/Huang/Documents/DQNBattery/data'\n",
    "\n",
    "house_apis_all('house213_', common, input_data_dir, output_data_dir, output_name)"
   ]
  },
  {
   "cell_type": "code",
   "execution_count": 115,
   "id": "3caf53e9",
   "metadata": {
    "ExecuteTime": {
     "end_time": "2022-01-27T00:48:36.450818Z",
     "start_time": "2022-01-27T00:47:12.926934Z"
    }
   },
   "outputs": [],
   "source": [
    "input_data_dir = '/Users/Huang/Documents/DQNBattery/data/house214_2019_apis_sol'\n",
    "output_name = 'house214_2019_apis_sol_reform.csv'\n",
    "output_data_dir = '/Users/Huang/Documents/DQNBattery/data'\n",
    "\n",
    "house_apis_all('house214_', common, input_data_dir, output_data_dir, output_name)"
   ]
  },
  {
   "cell_type": "code",
   "execution_count": 116,
   "id": "c2d449f7",
   "metadata": {
    "ExecuteTime": {
     "end_time": "2022-01-27T00:49:56.368405Z",
     "start_time": "2022-01-27T00:48:36.454354Z"
    }
   },
   "outputs": [],
   "source": [
    "input_data_dir = '/Users/Huang/Documents/DQNBattery/data/house215_2019_apis_sol'\n",
    "output_name = 'house215_2019_apis_sol_reform.csv'\n",
    "output_data_dir = '/Users/Huang/Documents/DQNBattery/data'\n",
    "\n",
    "house_apis_all('house215_', common, input_data_dir, output_data_dir, output_name)"
   ]
  },
  {
   "cell_type": "code",
   "execution_count": null,
   "id": "1493177c",
   "metadata": {},
   "outputs": [],
   "source": []
  },
  {
   "cell_type": "code",
   "execution_count": 2,
   "id": "3918b058",
   "metadata": {
    "ExecuteTime": {
     "end_time": "2022-01-26T21:41:26.194377Z",
     "start_time": "2022-01-26T21:41:26.158583Z"
    }
   },
   "outputs": [
    {
     "data": {
      "text/plain": [
       "Index(['00:00:00', '00:00:30', '00:01:00', '00:01:30', '00:02:00', '00:02:30',\n",
       "       '00:03:00', '00:03:30', '00:04:00', '00:04:30',\n",
       "       ...\n",
       "       '23:55:00', '23:55:30', '23:56:00', '23:56:30', '23:57:00', '23:57:30',\n",
       "       '23:58:00', '23:58:30', '23:59:00', '23:59:30'],\n",
       "      dtype='object', length=2880)"
      ]
     },
     "metadata": {},
     "output_type": "display_data"
    }
   ],
   "source": [
    "timestamp = pd.date_range(\"00:00:00\", \"23:59:59\", freq=\"30S\").strftime('%H:%M:%S')\n",
    "display(timestamp)\n"
   ]
  },
  {
   "cell_type": "code",
   "execution_count": 68,
   "id": "6268a1e2",
   "metadata": {
    "ExecuteTime": {
     "end_time": "2022-01-26T23:53:50.988722Z",
     "start_time": "2022-01-26T23:53:50.299454Z"
    }
   },
   "outputs": [
    {
     "name": "stdout",
     "output_type": "stream",
     "text": [
      "2019-01-02 <class 'datetime.date'>\n",
      "2019/01/02 <class 'str'>\n",
      "                  0     1     2     3     4     5     6     7     8     9     \\\n",
      "ups_output_power  2842  2821  2812  2820  3015  2944  2997  2986  2970  2983   \n",
      "\n",
      "                  ...  2870 2871 2872 2873 2874  2875  2876 2877 2878 2879  \n",
      "ups_output_power  ...  1217  939  844  836  796  1357  1324  872  863  933  \n",
      "\n",
      "[1 rows x 2880 columns]\n"
     ]
    },
    {
     "data": {
      "text/html": [
       "<div>\n",
       "<style scoped>\n",
       "    .dataframe tbody tr th:only-of-type {\n",
       "        vertical-align: middle;\n",
       "    }\n",
       "\n",
       "    .dataframe tbody tr th {\n",
       "        vertical-align: top;\n",
       "    }\n",
       "\n",
       "    .dataframe thead th {\n",
       "        text-align: right;\n",
       "    }\n",
       "</style>\n",
       "<table border=\"1\" class=\"dataframe\">\n",
       "  <thead>\n",
       "    <tr style=\"text-align: right;\">\n",
       "      <th></th>\n",
       "      <th>date</th>\n",
       "      <th>0</th>\n",
       "      <th>1</th>\n",
       "      <th>2</th>\n",
       "      <th>3</th>\n",
       "      <th>4</th>\n",
       "      <th>5</th>\n",
       "      <th>6</th>\n",
       "      <th>7</th>\n",
       "      <th>8</th>\n",
       "      <th>...</th>\n",
       "      <th>2870</th>\n",
       "      <th>2871</th>\n",
       "      <th>2872</th>\n",
       "      <th>2873</th>\n",
       "      <th>2874</th>\n",
       "      <th>2875</th>\n",
       "      <th>2876</th>\n",
       "      <th>2877</th>\n",
       "      <th>2878</th>\n",
       "      <th>2879</th>\n",
       "    </tr>\n",
       "  </thead>\n",
       "  <tbody>\n",
       "    <tr>\n",
       "      <th>ups_output_power</th>\n",
       "      <td>2019/01/02</td>\n",
       "      <td>2842</td>\n",
       "      <td>2821</td>\n",
       "      <td>2812</td>\n",
       "      <td>2820</td>\n",
       "      <td>3015</td>\n",
       "      <td>2944</td>\n",
       "      <td>2997</td>\n",
       "      <td>2986</td>\n",
       "      <td>2970</td>\n",
       "      <td>...</td>\n",
       "      <td>1217</td>\n",
       "      <td>939</td>\n",
       "      <td>844</td>\n",
       "      <td>836</td>\n",
       "      <td>796</td>\n",
       "      <td>1357</td>\n",
       "      <td>1324</td>\n",
       "      <td>872</td>\n",
       "      <td>863</td>\n",
       "      <td>933</td>\n",
       "    </tr>\n",
       "  </tbody>\n",
       "</table>\n",
       "<p>1 rows × 2881 columns</p>\n",
       "</div>"
      ],
      "text/plain": [
       "                        date     0     1     2     3     4     5     6     7  \\\n",
       "ups_output_power  2019/01/02  2842  2821  2812  2820  3015  2944  2997  2986   \n",
       "\n",
       "                     8  ...  2870 2871 2872 2873 2874  2875  2876 2877 2878  \\\n",
       "ups_output_power  2970  ...  1217  939  844  836  796  1357  1324  872  863   \n",
       "\n",
       "                 2879  \n",
       "ups_output_power  933  \n",
       "\n",
       "[1 rows x 2881 columns]"
      ]
     },
     "metadata": {},
     "output_type": "display_data"
    }
   ],
   "source": [
    "testfile = '/Users/Huang/Documents/DQNBattery/data/house215_2019_sift/house215_20190102.csv'\n",
    "testdata = pd.read_csv(testfile)\n",
    "testdata = testdata.fillna(method=\"ffill\", inplace=False)\n",
    "# display(testdata)\n",
    "\n",
    "# take date\n",
    "df = pd.DataFrame(testdata, columns=[\"timestamp\", \"ups_output_power\"])\n",
    "df2 = pd.DataFrame(testdata, columns=[\"ups_output_power\"])\n",
    "# display(df2.T)\n",
    "\n",
    "date = pd.to_datetime(df['timestamp'][0]).date()\n",
    "print(date, type(date)) # 2019-01-01\n",
    "d = date.strftime(\"%Y/%m/%d\")\n",
    "# now.strftime('%Y-%m-%d')\n",
    "print(d, type(d))\n",
    "                \n",
    "\n",
    "# build new csv file (load)\n",
    "# column_name =  ['houseID', 'Number', \"date\", timestamp]\n",
    "# column_name = {timestamp}\n",
    "# print(column_name)\n",
    "\n",
    "df_t = pd.DataFrame((df.T).iloc[1])#, columns = column_name)\n",
    "df_t = df_t.T\n",
    "# df_t.rename(columns={'ups_output_power': 'house'})\n",
    "print(df_t)\n",
    "df_t.insert(0,'date', d)\n",
    "display(df_t)\n",
    "\n",
    "df_t.to_csv('/Users/Huang/Desktop/testoneday2.csv')#, header=False)\n",
    "\n",
    "# df_t.rename(columns=column_name)\n",
    "# display(df_t)\n",
    "\n"
   ]
  },
  {
   "cell_type": "code",
   "execution_count": 23,
   "id": "37da6b57",
   "metadata": {
    "ExecuteTime": {
     "end_time": "2022-01-26T22:15:50.741337Z",
     "start_time": "2022-01-26T22:15:50.711696Z"
    }
   },
   "outputs": [],
   "source": [
    "# df1 = pd.DataFrame(df2.T, columns = column_name)\n",
    "# display(df1)"
   ]
  },
  {
   "cell_type": "code",
   "execution_count": 33,
   "id": "25f7ae7a",
   "metadata": {
    "ExecuteTime": {
     "end_time": "2022-01-26T22:39:15.125558Z",
     "start_time": "2022-01-26T22:39:14.349527Z"
    }
   },
   "outputs": [],
   "source": [
    "day1 = pd.read_csv('/Users/Huang/Desktop/tests/testoneday.csv')\n",
    "df1 = pd.DataFrame(day1)\n",
    "\n",
    "day2 = pd.read_csv('/Users/Huang/Desktop/tests/testoneday2.csv')\n",
    "df2 = pd.DataFrame(day2)\n",
    "\n",
    "# display(df1, df2)\n",
    "inputfile_dir = '/Users/Huang/Desktop/tests'\n",
    "os.chdir(inputfile_dir)\n",
    "file_list = os.listdir()\n",
    "file_list.sort() \n",
    "# file_list = ['testoneday.csv', 'testoneday2.csv']\n",
    "\n",
    "for i in range(2):    \n",
    "    df = pd.read_csv( inputfile_dir + '/' + file_list[i], error_bad_lines=False)\n",
    "    df.to_csv('/Users/Huang/Desktop/testall.csv', index=False, header=False, mode='a')\n"
   ]
  },
  {
   "cell_type": "code",
   "execution_count": null,
   "id": "e035e883",
   "metadata": {},
   "outputs": [],
   "source": []
  },
  {
   "cell_type": "markdown",
   "id": "ff056812",
   "metadata": {},
   "source": [
    "# put all data into one file"
   ]
  },
  {
   "cell_type": "code",
   "execution_count": null,
   "id": "17d9b96c",
   "metadata": {},
   "outputs": [],
   "source": []
  },
  {
   "cell_type": "markdown",
   "id": "67f17ea7",
   "metadata": {
    "ExecuteTime": {
     "end_time": "2022-01-24T22:38:06.191906Z",
     "start_time": "2022-01-24T22:38:06.186383Z"
    }
   },
   "source": [
    "## leave the data with the same arrangement "
   ]
  },
  {
   "cell_type": "code",
   "execution_count": 10,
   "id": "52d2c73e",
   "metadata": {
    "ExecuteTime": {
     "end_time": "2022-01-26T18:57:53.553670Z",
     "start_time": "2022-01-26T18:57:53.268870Z"
    }
   },
   "outputs": [
    {
     "data": {
      "text/html": [
       "<div>\n",
       "<style scoped>\n",
       "    .dataframe tbody tr th:only-of-type {\n",
       "        vertical-align: middle;\n",
       "    }\n",
       "\n",
       "    .dataframe tbody tr th {\n",
       "        vertical-align: top;\n",
       "    }\n",
       "\n",
       "    .dataframe thead th {\n",
       "        text-align: right;\n",
       "    }\n",
       "</style>\n",
       "<table border=\"1\" class=\"dataframe\">\n",
       "  <thead>\n",
       "    <tr style=\"text-align: right;\">\n",
       "      <th></th>\n",
       "      <th>Date</th>\n",
       "      <th>ups_output_power</th>\n",
       "    </tr>\n",
       "  </thead>\n",
       "  <tbody>\n",
       "    <tr>\n",
       "      <th>0</th>\n",
       "      <td>2019/01/01</td>\n",
       "      <td>144.633333</td>\n",
       "    </tr>\n",
       "    <tr>\n",
       "      <th>1</th>\n",
       "      <td>2019/01/01</td>\n",
       "      <td>124.466667</td>\n",
       "    </tr>\n",
       "    <tr>\n",
       "      <th>2</th>\n",
       "      <td>2019/01/01</td>\n",
       "      <td>154.616667</td>\n",
       "    </tr>\n",
       "    <tr>\n",
       "      <th>3</th>\n",
       "      <td>2019/01/01</td>\n",
       "      <td>153.100000</td>\n",
       "    </tr>\n",
       "    <tr>\n",
       "      <th>4</th>\n",
       "      <td>2019/01/01</td>\n",
       "      <td>125.083333</td>\n",
       "    </tr>\n",
       "    <tr>\n",
       "      <th>...</th>\n",
       "      <td>...</td>\n",
       "      <td>...</td>\n",
       "    </tr>\n",
       "    <tr>\n",
       "      <th>15931</th>\n",
       "      <td>2019/12/31</td>\n",
       "      <td>72.050000</td>\n",
       "    </tr>\n",
       "    <tr>\n",
       "      <th>15932</th>\n",
       "      <td>2019/12/31</td>\n",
       "      <td>69.866667</td>\n",
       "    </tr>\n",
       "    <tr>\n",
       "      <th>15933</th>\n",
       "      <td>2019/12/31</td>\n",
       "      <td>133.783333</td>\n",
       "    </tr>\n",
       "    <tr>\n",
       "      <th>15934</th>\n",
       "      <td>2019/12/31</td>\n",
       "      <td>73.433333</td>\n",
       "    </tr>\n",
       "    <tr>\n",
       "      <th>15935</th>\n",
       "      <td>2019/12/31</td>\n",
       "      <td>15.350000</td>\n",
       "    </tr>\n",
       "  </tbody>\n",
       "</table>\n",
       "<p>15936 rows × 2 columns</p>\n",
       "</div>"
      ],
      "text/plain": [
       "             Date  ups_output_power\n",
       "0      2019/01/01        144.633333\n",
       "1      2019/01/01        124.466667\n",
       "2      2019/01/01        154.616667\n",
       "3      2019/01/01        153.100000\n",
       "4      2019/01/01        125.083333\n",
       "...           ...               ...\n",
       "15931  2019/12/31         72.050000\n",
       "15932  2019/12/31         69.866667\n",
       "15933  2019/12/31        133.783333\n",
       "15934  2019/12/31         73.433333\n",
       "15935  2019/12/31         15.350000\n",
       "\n",
       "[15936 rows x 2 columns]"
      ]
     },
     "metadata": {},
     "output_type": "display_data"
    }
   ],
   "source": [
    "input_data = pd.read_csv(\"/Users/Huang/Documents/APIS/apis-emulator/data/input/Oist/house212_2019_avg.csv\") \n",
    "input_data = input_data.fillna(method=\"ffill\", inplace=False)\n",
    "df = pd.DataFrame(input_data, columns=[\"timestamp\", \"ups_output_power\"])\n",
    "\n",
    "df.rename(columns={\"timestamp\":\"Date\"}, inplace=True)\n",
    "# print(df.Date)\n",
    "df[\"Date\"] = pd.to_datetime(df.Date)\n",
    "\n",
    "# df['Date'] = pd.to_datetime(df['Date'], errors='coerce')\n",
    "# df[\"Date\"] = df[\"Date\"].dt.date\n",
    "\n",
    "# df[\"Time\"] = df[\"Date\"].dt.time\n",
    "df[\"Date\"] = df[\"Date\"].dt.strftime('%Y/%m/%d')\n",
    "\n",
    "display(df)\n",
    "\n",
    "\n",
    "# df3 = df.unstack(0)\n",
    "# print(df3)\n",
    "\n",
    "\n",
    "# new_path = output_data_dir\n",
    "\n",
    "\n",
    "# for path in file_list:\n",
    "#     data = pd.read_csv(path)\n",
    "#     df = pd.DataFrame(data, columns=[\"timestamp\",\n",
    "#                                      \"ups_output_power\",\n",
    "#                                      ])\n",
    "#     # export to csv files\n",
    "#     df.to_csv(os.path.join(new_path, path), index=False)"
   ]
  },
  {
   "cell_type": "code",
   "execution_count": 32,
   "id": "16ff1d81",
   "metadata": {
    "ExecuteTime": {
     "end_time": "2022-01-26T19:50:28.839122Z",
     "start_time": "2022-01-26T19:50:28.822172Z"
    }
   },
   "outputs": [],
   "source": [
    "def old_loadDemand_Sample():\n",
    "    global demand\n",
    "\n",
    "    demand = {}\n",
    "    # demand_data = np.genfromtxt('data/input/Sample/sample_load_data.csv', delimiter=',', names=True, dtype=None, encoding='utf-8')\n",
    "    cols = list(range(6, 52+1, 2))\n",
    "    cols.insert(0, 1)\n",
    "    print(cols)\n",
    "    # read column 2, col 7~53 for every 2 cols (1 hour per data point) from input data\n",
    "    # replace our own data files to the /Sample/ folder\n",
    "    demand_data = np.loadtxt('/Users/Huang/Documents/APIS/apis-emulator/data/input/Sample/sample_load_data.csv', delimiter=',', skiprows=1, usecols=cols)\n",
    "    print(demand_data)\n",
    "    \n",
    "    for row in demand_data:\n",
    "#         print(int(row[0]), row)\n",
    "        cus_id = \"E{0:03d}\".format(int(row[0]))\n",
    "#         print(\"cus_id\", cus_id)\n",
    "        if not demand.get(cus_id):\n",
    "            demand[cus_id] = []\n",
    "        demand[cus_id].append(row[1:])\n",
    "#         print(demand[cus_id])\n",
    "        \n",
    "#     print(\"all id\", demand)\n",
    "    \n",
    "    for cus_id in demand:\n",
    "        demand[cus_id] = np.array(demand[cus_id])\n",
    "        displayNames[cus_id] = \"Sample_\"+cus_id\n",
    "\n",
    "    return demand"
   ]
  },
  {
   "cell_type": "code",
   "execution_count": 33,
   "id": "17133e31",
   "metadata": {
    "ExecuteTime": {
     "end_time": "2022-01-26T19:50:31.745806Z",
     "start_time": "2022-01-26T19:50:30.814543Z"
    }
   },
   "outputs": [
    {
     "name": "stdout",
     "output_type": "stream",
     "text": [
      "[1, 6, 8, 10, 12, 14, 16, 18, 20, 22, 24, 26, 28, 30, 32, 34, 36, 38, 40, 42, 44, 46, 48, 50, 52]\n",
      "[[  1.     0.13   0.13 ...   0.13   0.11   0.11]\n",
      " [  1.     0.13   0.13 ...   0.13   0.13   0.13]\n",
      " [  1.     0.14   0.14 ...   0.15   0.16   0.13]\n",
      " ...\n",
      " [100.     0.13   0.13 ...   0.49   0.5    0.91]\n",
      " [100.     0.13   0.13 ...   0.43   0.39   1.31]\n",
      " [100.     0.15   0.11 ...   0.55   1.25   0.61]]\n"
     ]
    },
    {
     "data": {
      "text/plain": [
       "array([[0.13, 0.13, 0.13, ..., 0.13, 0.11, 0.11],\n",
       "       [0.13, 0.13, 0.13, ..., 0.13, 0.13, 0.13],\n",
       "       [0.14, 0.14, 0.13, ..., 0.15, 0.16, 0.13],\n",
       "       ...,\n",
       "       [0.25, 0.23, 0.22, ..., 0.24, 0.24, 0.22],\n",
       "       [0.2 , 0.2 , 0.18, ..., 0.23, 0.23, 0.26],\n",
       "       [0.17, 0.17, 0.21, ..., 0.26, 0.25, 0.27]])"
      ]
     },
     "metadata": {},
     "output_type": "display_data"
    }
   ],
   "source": [
    "sample_load = old_loadDemand_Sample()\n",
    "display(sample_load[\"E001\"])\n",
    "# print(len(sample_load[\"E001\"]))"
   ]
  },
  {
   "cell_type": "code",
   "execution_count": 27,
   "id": "7923a98e",
   "metadata": {
    "ExecuteTime": {
     "end_time": "2022-01-26T19:41:49.263521Z",
     "start_time": "2022-01-26T19:41:49.188425Z"
    }
   },
   "outputs": [],
   "source": [
    "def PV_data():  # load house's PV production data\n",
    "    global pv\n",
    "    pv = {}\n",
    "\n",
    "    our_data_all = pd.read_csv(\n",
    "        '/Users/Huang/Documents/DQNBattery/data/fourhouses_2019_apis_solar.csv')\n",
    "    our_data_all = our_data_all.fillna(method=\"ffill\", inplace=False)\n",
    "    our_data = our_data_all['pvc_charge_power'].values \n",
    "    print(our_data, len(our_data))\n",
    "  \n",
    "    for pv_col in our_data:\n",
    "        print(int(pv_col[0]), pv_col)\n",
    "        house_id = \"E{0:03d}\".format(int(pv_col[0]))\n",
    "        print(\"houseID\", house_id)\n",
    "        if not pv.get(house_id):\n",
    "            pv[house_id] = []\n",
    "        pv[house_id].append(pv_col[1:])\n",
    "\n",
    "    for house_id in pv:\n",
    "        pv[house_id] = np.array(pv[house_id])\n",
    "        displayNames[house_id] = \"Oist\" + house_id\n",
    "\n",
    "#     pv = pv[house_id]\n",
    "\n",
    "    return pv\n",
    "        "
   ]
  },
  {
   "cell_type": "code",
   "execution_count": 28,
   "id": "90b8d7c9",
   "metadata": {
    "ExecuteTime": {
     "end_time": "2022-01-26T19:41:54.400070Z",
     "start_time": "2022-01-26T19:41:50.696787Z"
    }
   },
   "outputs": [
    {
     "name": "stdout",
     "output_type": "stream",
     "text": [
      "[0. 0. 0. ... 0. 0. 0.] 3824640\n"
     ]
    },
    {
     "ename": "IndexError",
     "evalue": "invalid index to scalar variable.",
     "output_type": "error",
     "traceback": [
      "\u001b[0;31m---------------------------------------------------------------------------\u001b[0m",
      "\u001b[0;31mIndexError\u001b[0m                                Traceback (most recent call last)",
      "\u001b[0;32m<ipython-input-28-7205ccb282c0>\u001b[0m in \u001b[0;36m<module>\u001b[0;34m\u001b[0m\n\u001b[1;32m      1\u001b[0m \u001b[0mdisplayNames\u001b[0m \u001b[0;34m=\u001b[0m \u001b[0;34m{\u001b[0m\u001b[0;34m}\u001b[0m\u001b[0;34m\u001b[0m\u001b[0;34m\u001b[0m\u001b[0m\n\u001b[0;32m----> 2\u001b[0;31m \u001b[0mpv_oist\u001b[0m \u001b[0;34m=\u001b[0m \u001b[0mPV_data\u001b[0m\u001b[0;34m(\u001b[0m\u001b[0;34m)\u001b[0m\u001b[0;34m\u001b[0m\u001b[0;34m\u001b[0m\u001b[0m\n\u001b[0m\u001b[1;32m      3\u001b[0m \u001b[0mdisplay\u001b[0m\u001b[0;34m(\u001b[0m\u001b[0mpv_oist\u001b[0m\u001b[0;34m[\u001b[0m\u001b[0;34m\"E212\"\u001b[0m\u001b[0;34m]\u001b[0m\u001b[0;34m)\u001b[0m\u001b[0;34m\u001b[0m\u001b[0;34m\u001b[0m\u001b[0m\n",
      "\u001b[0;32m<ipython-input-27-b6babdcc1334>\u001b[0m in \u001b[0;36mPV_data\u001b[0;34m()\u001b[0m\n\u001b[1;32m     10\u001b[0m \u001b[0;34m\u001b[0m\u001b[0m\n\u001b[1;32m     11\u001b[0m     \u001b[0;32mfor\u001b[0m \u001b[0mpv_col\u001b[0m \u001b[0;32min\u001b[0m \u001b[0mour_data\u001b[0m\u001b[0;34m:\u001b[0m\u001b[0;34m\u001b[0m\u001b[0;34m\u001b[0m\u001b[0m\n\u001b[0;32m---> 12\u001b[0;31m         \u001b[0mprint\u001b[0m\u001b[0;34m(\u001b[0m\u001b[0mint\u001b[0m\u001b[0;34m(\u001b[0m\u001b[0mpv_col\u001b[0m\u001b[0;34m[\u001b[0m\u001b[0;36m0\u001b[0m\u001b[0;34m]\u001b[0m\u001b[0;34m)\u001b[0m\u001b[0;34m,\u001b[0m \u001b[0mpv_col\u001b[0m\u001b[0;34m)\u001b[0m\u001b[0;34m\u001b[0m\u001b[0;34m\u001b[0m\u001b[0m\n\u001b[0m\u001b[1;32m     13\u001b[0m         \u001b[0mhouse_id\u001b[0m \u001b[0;34m=\u001b[0m \u001b[0;34m\"E{0:03d}\"\u001b[0m\u001b[0;34m.\u001b[0m\u001b[0mformat\u001b[0m\u001b[0;34m(\u001b[0m\u001b[0mint\u001b[0m\u001b[0;34m(\u001b[0m\u001b[0mpv_col\u001b[0m\u001b[0;34m[\u001b[0m\u001b[0;36m0\u001b[0m\u001b[0;34m]\u001b[0m\u001b[0;34m)\u001b[0m\u001b[0;34m)\u001b[0m\u001b[0;34m\u001b[0m\u001b[0;34m\u001b[0m\u001b[0m\n\u001b[1;32m     14\u001b[0m         \u001b[0mprint\u001b[0m\u001b[0;34m(\u001b[0m\u001b[0;34m\"houseID\"\u001b[0m\u001b[0;34m,\u001b[0m \u001b[0mhouse_id\u001b[0m\u001b[0;34m)\u001b[0m\u001b[0;34m\u001b[0m\u001b[0;34m\u001b[0m\u001b[0m\n",
      "\u001b[0;31mIndexError\u001b[0m: invalid index to scalar variable."
     ]
    }
   ],
   "source": [
    "displayNames = {}\n",
    "pv_oist = PV_data()\n",
    "display(pv_oist[\"E212\"])\n"
   ]
  },
  {
   "cell_type": "code",
   "execution_count": 15,
   "id": "9ca4f83b",
   "metadata": {
    "ExecuteTime": {
     "end_time": "2022-01-26T19:02:44.614627Z",
     "start_time": "2022-01-26T19:02:44.576704Z"
    }
   },
   "outputs": [],
   "source": [
    "# weather\n",
    "def old_pvcUpdate_Sample():\n",
    "    count_h = float(count_s)/3600\n",
    "\n",
    "    weight = count_h-int(count_h)\n",
    "    print(\"weight: \", weight)\n",
    "    \n",
    "    step_now = (int((count_h) / 24)), int((count_h) % 24)\n",
    "    print(\"step_now: \", step_now)\n",
    "    \n",
    "    step_next = (int((count_h+1)/24)), int((count_h+1) % 24)\n",
    "    print(\"step_next:\", step_next)\n",
    "    \n",
    "    if int(count_h+1) >= sol.size:\n",
    "        logger.debug(\"no more solar radiation data\")\n",
    "        return False\n",
    "    for oesid in oesunits:\n",
    "        oesunits[oesid][\"emu\"][\"pvc_charge_power\"] = round((1-weight)*sol[step_now] + weight*sol[step_next], 2)  # sol[W]\n",
    "        print(\"pvc\", oesunits)\n",
    "        \n",
    "    print(\"sol[step_now]\", sol[step_now], \"\\n\", \"sol[step_next]\", sol[step_next])\n",
    "    print(\"pvc power\", round((1-weight)*sol[step_now] + weight*sol[step_next], 2))\n",
    "    print((1-weight)*sol[step_now] + weight*sol[step_next])\n",
    "    \n",
    "    return True"
   ]
  },
  {
   "cell_type": "code",
   "execution_count": 16,
   "id": "542462be",
   "metadata": {
    "ExecuteTime": {
     "end_time": "2022-01-26T19:02:47.890583Z",
     "start_time": "2022-01-26T19:02:47.856541Z"
    }
   },
   "outputs": [
    {
     "name": "stdout",
     "output_type": "stream",
     "text": [
      "count_h = 8750.5000 hours\n",
      "sol.size:  8760 \n",
      " data size is 365 days\n",
      "weight:  0.5\n",
      "step_now:  (364, 14)\n",
      "step_next: (364, 15)\n",
      "sol[step_now] 472.8 \n",
      " sol[step_next] 404.1\n",
      "pvc power 438.45\n",
      "438.45000000000005\n",
      "True\n"
     ]
    }
   ],
   "source": [
    "count_s = 525600 * 60 - 3600*9.5   # how many seconds have passed\n",
    "count_h = float(count_s) / 3600\n",
    "print(\"count_h = {:.4f} hours\".format(count_h))\n",
    "oesunits = {}\n",
    "sol = np.loadtxt('/Users/Huang/Documents/APIS/apis-emulator/data/input/Sample/sample_solar_data.csv', delimiter=',')\n",
    "print(\"sol.size: \", sol.size, \"\\n\", \"data size is {:.0f} days\".format(int(sol.size/24)))\n",
    "\n",
    "pvc = old_pvcUpdate_Sample()\n",
    "print(pvc)"
   ]
  },
  {
   "cell_type": "markdown",
   "id": "ca9d28f1",
   "metadata": {},
   "source": [
    "## OUR DATA update, solar rad"
   ]
  },
  {
   "cell_type": "code",
   "execution_count": 26,
   "id": "895620e6",
   "metadata": {
    "ExecuteTime": {
     "end_time": "2022-01-25T12:02:38.300475Z",
     "start_time": "2022-01-25T12:02:38.276816Z"
    }
   },
   "outputs": [],
   "source": [
    "def PVCUpdate():\n",
    "#     count_s = 3600*12 # how many seconds have passed\n",
    "    count_t = float(count_s)/30  # set counter for data which is collected every 30s\n",
    "    print(count_t)\n",
    "    weight = count_t-int(count_t)\n",
    "    print(\"weight: \", weight)\n",
    "\n",
    "    \n",
    "#     step_now = (int((count_h) / 24)), int((count_h) % 24)\n",
    "#     print(\"step_now: \", step_now)\n",
    "    \n",
    "#     step_next = (int((count_h+1)/24)), int((count_h+1) % 24)\n",
    "#     print(\"step_next:\", step_next)\n",
    "    \n",
    "    step_now =  (int((count_t) / 2880)+1) * int((count_t) % 2880)\n",
    "    print(\"step_now: \", step_now, \"\\n\", \"our_data[step_now]\", our_data[step_now])\n",
    "\n",
    "    step_next = (int((count_t+1) / 2880)+1) * int((count_t+1) % 2880)\n",
    "    print(\"step_next:\", step_next, \"\\n\", \"our_data[step_next]\", our_data[step_next])\n",
    "\n",
    "    if int(count_t+1) >= our_data.size:\n",
    "        logger.debug(\"no more our_data radiation data\")\n",
    "        return False\n",
    "    for oesid in oesunits:\n",
    "        oesunits[oesid][\"emu\"][\"pvc_charge_power\"] = round((1-weight)*our_data[step_now] + weight*our_data[step_next], 2)  # our_data[W]\n",
    "        print(\"pvc\", oesunits)\n",
    "        \n",
    "    print(\"our_data[step_now]\", our_data[step_now], \"\\n\", \"our_data[step_next]\", our_data[step_next])\n",
    "    print(\"pvc power\", round((1-weight)*our_data[step_now] + weight*our_data[step_next], 2))\n",
    "    print((1-weight)*our_data[step_now] + weight*our_data[step_next])\n",
    "    \n",
    "    return True\n",
    "    "
   ]
  },
  {
   "cell_type": "code",
   "execution_count": 27,
   "id": "6049b588",
   "metadata": {
    "ExecuteTime": {
     "end_time": "2022-01-25T12:02:46.100926Z",
     "start_time": "2022-01-25T12:02:44.576778Z"
    },
    "code_folding": []
   },
   "outputs": [
    {
     "name": "stdout",
     "output_type": "stream",
     "text": [
      "[0. 0. 0. ... 0. 0. 0.] data size is 956160 <class 'numpy.ndarray'>\n",
      "788.0\n",
      "1879.5\n",
      "weight:  0.5\n",
      "step_now:  1879 \n",
      " our_data[step_now] 255.0\n",
      "step_next: 1880 \n",
      " our_data[step_next] 233.0\n",
      "our_data[step_now] 255.0 \n",
      " our_data[step_next] 233.0\n",
      "pvc power 244.0\n",
      "244.0\n",
      "True\n"
     ]
    }
   ],
   "source": [
    "# test for one day raw data (every 30s)\n",
    "col = 4\n",
    "# our_data = np.loadtxt('/Users/Huang/Documents/DQNBattery/data/house212_2019_apis_all.csv', delimiter=',', skiprows=1, usecols=col)\n",
    "# print(type(our_data))\n",
    "our_data_all = pd.read_csv('/Users/Huang/Documents/DQNBattery/data/house212_2019_apis_all.csv')#, delimiter=',', skiprows=1, usecols=col)\n",
    "our_data_all = our_data_all.fillna(method=\"ffill\", inplace=False)\n",
    "our_data = our_data_all['pvc_charge_power'].values\n",
    "\n",
    "# data_h212 = np.loadtxt(\"/Users/Huang/Documents/DQNBattery/data/house212_2019_sift/house212_20190101.csv\")\n",
    "print(our_data, \"data size is\", our_data.size, type(our_data))  # 0~2879\n",
    "print(our_data[1566])\n",
    "# pvc_212 = data_h212[\"\"]\n",
    "# plt.plot(our_data)\n",
    "# plt.show()\n",
    "\n",
    "count_s = 3600*24 - 30*1000.5 # how many seconds have passed\n",
    "# count_t = float(count_s)/30  # set counter for data which is collected every 30s\n",
    "# print(count_t)\n",
    "# weight = count_t-int(count_t)\n",
    "# print(\"weight: \", weight)\n",
    "\n",
    "oesunits = {}\n",
    "\n",
    "pvc = PVCUpdate()\n",
    "print(pvc)\n"
   ]
  },
  {
   "cell_type": "markdown",
   "id": "d46df839",
   "metadata": {
    "ExecuteTime": {
     "end_time": "2022-01-25T08:02:02.716500Z",
     "start_time": "2022-01-25T08:02:02.707558Z"
    }
   },
   "source": [
    "## Our data updates, load"
   ]
  },
  {
   "cell_type": "code",
   "execution_count": 28,
   "id": "4db7896c",
   "metadata": {
    "ExecuteTime": {
     "end_time": "2022-01-25T12:02:56.009077Z",
     "start_time": "2022-01-25T12:02:55.986910Z"
    }
   },
   "outputs": [],
   "source": [
    "def LOADUpdate():\n",
    "#     count_s = 3600*12 # how many seconds have passed\n",
    "    count_t = float(count_s)/30  # set counter for data which is collected every 30s\n",
    "    print(count_t)\n",
    "    weight = count_t-int(count_t)\n",
    "    print(\"weight: \", weight)\n",
    "\n",
    "    step_now =  (int((count_t) / 2880)+1) * int((count_t) % 2880)\n",
    "    print(\"step_now: \", step_now, \"\\n\", \"our_data[step_now]\", our_data[step_now])\n",
    "\n",
    "    step_next = (int((count_t+1) / 2880)+1) * int((count_t+1) % 2880)\n",
    "    print(\"step_next:\", step_next, \"\\n\", \"our_data[step_next]\", our_data[step_next])\n",
    "\n",
    "    if int(count_t+1) >= our_data.size:\n",
    "        logger.debug(\"no more our_data load data\")\n",
    "        return False\n",
    "    for oesid in oesunits:\n",
    "        oesunits[oesid][\"emu\"][\"ups_output_power\"] = round((1-weight)*our_data[step_now] + weight*our_data[step_next], 2)  # our_data[W]\n",
    "        print(\"load\", oesunits)\n",
    "        \n",
    "    print(\"our_data[step_now]\", our_data[step_now], \"\\n\", \"our_data[step_next]\", our_data[step_next])\n",
    "    print(\"pvc power\", round((1-weight)*our_data[step_now] + weight*our_data[step_next], 2))\n",
    "    print((1-weight)*our_data[step_now] + weight*our_data[step_next])\n",
    "    \n",
    "    return True\n",
    "    "
   ]
  },
  {
   "cell_type": "code",
   "execution_count": 29,
   "id": "e3fcc809",
   "metadata": {
    "ExecuteTime": {
     "end_time": "2022-01-25T12:03:01.776848Z",
     "start_time": "2022-01-25T12:03:00.619315Z"
    }
   },
   "outputs": [
    {
     "name": "stdout",
     "output_type": "stream",
     "text": [
      "[158. 152. 155. ...   0.   0.   0.] data size is 956160 <class 'numpy.ndarray'>\n",
      "147.0\n",
      "1879.5\n",
      "weight:  0.5\n",
      "step_now:  1879 \n",
      " our_data[step_now] 116.0\n",
      "step_next: 1880 \n",
      " our_data[step_next] 115.0\n",
      "our_data[step_now] 116.0 \n",
      " our_data[step_next] 115.0\n",
      "pvc power 115.5\n",
      "115.5\n",
      "True\n"
     ]
    }
   ],
   "source": [
    "# test for one day raw data (every 30s)\n",
    "\n",
    "our_data_all = pd.read_csv('/Users/Huang/Documents/DQNBattery/data/house212_2019_apis_all.csv')\n",
    "our_data_all = our_data_all.fillna(method=\"ffill\", inplace=False)\n",
    "our_data = our_data_all['ups_output_power'].values\n",
    "\n",
    "# data_h212 = np.loadtxt(\"/Users/Huang/Documents/DQNBattery/data/house212_2019_sift/house212_20190101.csv\")\n",
    "print(our_data, \"data size is\", our_data.size, type(our_data))  # 0~2879\n",
    "print(our_data[1566])\n",
    "# pvc_212 = data_h212[\"\"]\n",
    "# plt.plot(our_data)\n",
    "# plt.show()\n",
    "\n",
    "count_s = 3600*24 - 30*1000.5 # how many seconds have passed\n",
    "# count_t = float(count_s)/30  # set counter for data which is collected every 30s\n",
    "# print(count_t)\n",
    "# weight = count_t-int(count_t)\n",
    "# print(\"weight: \", weight)\n",
    "\n",
    "oesunits = {}\n",
    "\n",
    "load = LOADUpdate()\n",
    "print(load)\n"
   ]
  },
  {
   "cell_type": "markdown",
   "id": "3c5ce0ea",
   "metadata": {},
   "source": [
    "# put all houses data into one big file\n",
    "\n",
    "**For the sake of limited size of the file, we just keep two values: pvc_charge_power and ups_output_power.\n",
    "The houseID will be added for different houses, timestamp will be kept.**"
   ]
  },
  {
   "cell_type": "code",
   "execution_count": 30,
   "id": "a33d92b5",
   "metadata": {
    "ExecuteTime": {
     "end_time": "2022-01-25T12:03:08.494691Z",
     "start_time": "2022-01-25T12:03:08.482434Z"
    }
   },
   "outputs": [],
   "source": [
    "# house 212, 213, 214, 215 four houses\n",
    "\n",
    "def file_name_csv(input_data, output_data_dir):\n",
    "\n",
    "    os.chdir(input_data)  # path of original csv data files\n",
    "    # name = os.path.splitext(raw_data_dir)[0]  # get file name\n",
    "    input_data = os.getcwd()  # read current file path\n",
    "\n",
    "    file_list = os.listdir(input_data)\n",
    "\n",
    "\n",
    "    new_path = output_data_dir\n",
    "    for path in file_list:\n",
    "        data = pd.read_csv(path)\n",
    "        df = pd.DataFrame(data, columns=[\"timestamp\",\n",
    "                                         \"pvc_charge_power\"\n",
    "                                         \"ups_output_power\",\n",
    "                                         ])\n",
    "        # export to csv files\n",
    "        df.to_csv(os.path.join(new_path, path), index=False)"
   ]
  },
  {
   "cell_type": "code",
   "execution_count": 31,
   "id": "7f29afd0",
   "metadata": {
    "ExecuteTime": {
     "end_time": "2022-01-25T12:03:15.500277Z",
     "start_time": "2022-01-25T12:03:15.484253Z"
    }
   },
   "outputs": [],
   "source": [
    "def get_one_house(input_file, houseID):\n",
    "    \n",
    "    data = pd.read_csv(input_file)\n",
    "    df = pd.DataFrame(data, columns=[\"timestamp\",\n",
    "                                     \"pvc_charge_power\"\n",
    "                                    ])\n",
    "#     houseID_212 = '212'\n",
    "    df.insert(0,'houseID', houseID)\n",
    "    output_data = df\n",
    "\n",
    "    return output_data"
   ]
  },
  {
   "cell_type": "code",
   "execution_count": 34,
   "id": "a5137197",
   "metadata": {
    "ExecuteTime": {
     "end_time": "2022-01-25T12:07:08.664199Z",
     "start_time": "2022-01-25T12:07:08.655692Z"
    }
   },
   "outputs": [],
   "source": [
    "def get_one_house_load(input_file, houseID):\n",
    "    \n",
    "    data = pd.read_csv(input_file)\n",
    "    df = pd.DataFrame(data, columns=[\"timestamp\",\n",
    "                                     \"ups_output_power\"\n",
    "                                    ])\n",
    "#     houseID_212 = '212'\n",
    "    df.insert(0,'houseID', houseID)\n",
    "    output_data = df\n",
    "\n",
    "    return output_data"
   ]
  },
  {
   "cell_type": "code",
   "execution_count": 32,
   "id": "a907bde3",
   "metadata": {
    "ExecuteTime": {
     "end_time": "2022-01-25T12:03:42.205605Z",
     "start_time": "2022-01-25T12:03:37.914297Z"
    }
   },
   "outputs": [
    {
     "name": "stdout",
     "output_type": "stream",
     "text": [
      "956160\n",
      "956160\n",
      "956160\n",
      "956160\n"
     ]
    }
   ],
   "source": [
    "input_dir = '/Users/Huang/Documents/DQNBattery/data'\n",
    "output_dir ='/Users/Huang/Documents//DQNBattery/data'\n",
    "os.chdir(input_dir) \n",
    "input_dir = os.getcwd()\n",
    "\n",
    "input_file_212 = input_dir + '/house212_2019_apis_all.csv'\n",
    "houseID_212 = '212'\n",
    "\n",
    "input_file_213 = input_dir + '/house213_2019_apis_all.csv'\n",
    "houseID_213 = '213'\n",
    "\n",
    "input_file_214 = input_dir + '/house214_2019_apis_all.csv'\n",
    "houseID_214 = '214'\n",
    "\n",
    "input_file_215 = input_dir + '/house215_2019_apis_all.csv'\n",
    "houseID_215 = '215'\n",
    "\n",
    "output_data_212 = get_one_house(input_file_212, houseID_212)\n",
    "output_data_213 = get_one_house(input_file_213, houseID_213)\n",
    "output_data_214 = get_one_house(input_file_214, houseID_214)\n",
    "output_data_215 = get_one_house(input_file_215, houseID_215)\n",
    "\n",
    "print(len(output_data_212))\n",
    "print(len(output_data_213))\n",
    "print(len(output_data_214))\n",
    "print(len(output_data_215))\n",
    "\n",
    "# export to one csv file\n",
    "\n",
    "# df.to_csv(os.path.join(new_path, path), index=False)"
   ]
  },
  {
   "cell_type": "code",
   "execution_count": 35,
   "id": "20d74573",
   "metadata": {
    "ExecuteTime": {
     "end_time": "2022-01-25T12:09:24.996848Z",
     "start_time": "2022-01-25T12:09:20.839140Z"
    }
   },
   "outputs": [],
   "source": [
    "output_loaddata_212 = get_one_house_load(input_file_212, houseID_212)\n",
    "output_loaddata_213 = get_one_house_load(input_file_213, houseID_213)\n",
    "output_loaddata_214 = get_one_house_load(input_file_214, houseID_214)\n",
    "output_loaddata_215 = get_one_house_load(input_file_215, houseID_215)"
   ]
  },
  {
   "cell_type": "markdown",
   "id": "6dd079ae",
   "metadata": {},
   "source": [
    "## export to one csv file\n",
    "\n",
    "df.to_csv(os.path.join(new_path, path), index=False)"
   ]
  },
  {
   "cell_type": "code",
   "execution_count": 33,
   "id": "85da46c0",
   "metadata": {
    "ExecuteTime": {
     "end_time": "2022-01-25T12:04:00.372733Z",
     "start_time": "2022-01-25T12:03:51.550150Z"
    }
   },
   "outputs": [],
   "source": [
    "output_all = output_data_212.append(output_data_213).append(output_data_214).append(output_data_215)\n",
    "# display(test[956150:956170])\n",
    "\n",
    "outputfile_name = 'fourhouses_2019_apis_solar.csv'\n",
    "output_all.to_csv(output_dir + '/' + outputfile_name, index=False)"
   ]
  },
  {
   "cell_type": "code",
   "execution_count": 36,
   "id": "d10ca16e",
   "metadata": {
    "ExecuteTime": {
     "end_time": "2022-01-25T12:10:36.295382Z",
     "start_time": "2022-01-25T12:10:23.438822Z"
    }
   },
   "outputs": [],
   "source": [
    "output_load_all = output_loaddata_212.append(output_loaddata_213).append(output_loaddata_214).append(output_loaddata_215)\n",
    "# display(test[956150:956170])\n",
    "\n",
    "outputfile_name2 = 'fourhouses_2019_apis_load.csv'\n",
    "output_all.to_csv(output_dir + '/' + outputfile_name2, index=False)"
   ]
  },
  {
   "cell_type": "code",
   "execution_count": null,
   "id": "41565702",
   "metadata": {},
   "outputs": [],
   "source": []
  }
 ],
 "metadata": {
  "interpreter": {
   "hash": "28f998abb3742933ebb5625715c7c7d7486a23d31ed97bd4ad4c899f148db130"
  },
  "kernelspec": {
   "display_name": "Python 3.7 (tensorflow)",
   "language": "python",
   "name": "tensorflow"
  },
  "language_info": {
   "codemirror_mode": {
    "name": "ipython",
    "version": 3
   },
   "file_extension": ".py",
   "mimetype": "text/x-python",
   "name": "python",
   "nbconvert_exporter": "python",
   "pygments_lexer": "ipython3",
   "version": "3.6.13"
  },
  "toc": {
   "base_numbering": 1,
   "nav_menu": {},
   "number_sections": true,
   "sideBar": true,
   "skip_h1_title": false,
   "title_cell": "Table of Contents",
   "title_sidebar": "Contents",
   "toc_cell": false,
   "toc_position": {
    "height": "calc(100% - 180px)",
    "left": "10px",
    "top": "150px",
    "width": "207.188px"
   },
   "toc_section_display": true,
   "toc_window_display": true
  }
 },
 "nbformat": 4,
 "nbformat_minor": 5
}
