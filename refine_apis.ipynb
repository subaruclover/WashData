{
 "cells": [
  {
   "cell_type": "markdown",
   "id": "9ecfa441",
   "metadata": {},
   "source": [
    "# Houses info\n",
    "<!-- ![landscape of faculty houses](landscape.png) -->\n",
    "<img src=\"landscape.png\" alt=\"landscape\" width=\"600\"/>\n",
    "load data and solar data, same data in a year/month (2019),\n",
    "house 212, 213, 214, 215 (205, 206, 208) pick these 4 houses to replace the sample data,\n",
    "only load data is needed (w.r.t the form of sample data, house ID needed)"
   ]
  },
  {
   "cell_type": "code",
   "execution_count": 1,
   "id": "e61d1b79",
   "metadata": {
    "ExecuteTime": {
     "end_time": "2022-01-25T07:02:06.882514Z",
     "start_time": "2022-01-25T07:02:04.728633Z"
    }
   },
   "outputs": [],
   "source": [
    "import os\n",
    "import pandas as pd\n",
    "import numpy as np\n",
    "\n",
    "import logging.config, datetime\n",
    "logger = logging.getLogger(__name__)\n",
    "\n",
    "import matplotlib.pyplot as plt\n",
    "%matplotlib inline"
   ]
  },
  {
   "cell_type": "code",
   "execution_count": 25,
   "id": "4beb3fc3",
   "metadata": {
    "ExecuteTime": {
     "end_time": "2022-01-25T07:46:39.733525Z",
     "start_time": "2022-01-25T07:46:39.707433Z"
    }
   },
   "outputs": [],
   "source": [
    "house212_2019 = '/Users/Huang/Documents/DQNBattery/data/house212_2019_sift'\n",
    "house213_2019 = '/Users/Huang/Documents/DQNBattery/data/house213_2019_sift'\n",
    "house214_2019 = '/Users/Huang/Documents/DQNBattery/data/house214_2019_sift'\n",
    "house215_2019 = '/Users/Huang/Documents/DQNBattery/data/house215_2019_sift'\n",
    "\n",
    "house205_2019 = '/Users/Huang/Documents/DQNBattery/data/house205_2019_sift'\n",
    "house206_2019 = '/Users/Huang/Documents/DQNBattery/data/house206_2019_sift'\n",
    "house208_2019 = '/Users/Huang/Documents/DQNBattery/data/house208_2019_sift'\n",
    "\n",
    "# weather \n",
    "weather_2019 = '/Users/Huang/Documents/DQNBattery/data/2019_hillside_weather'"
   ]
  },
  {
   "cell_type": "code",
   "execution_count": 26,
   "id": "684c4683",
   "metadata": {
    "ExecuteTime": {
     "end_time": "2022-01-25T07:46:42.935065Z",
     "start_time": "2022-01-25T07:46:42.910620Z"
    }
   },
   "outputs": [],
   "source": [
    "def get_file_house(foldername, houseID):\n",
    "    \n",
    "    file_list = []  # file name stored in file_list\n",
    "   \n",
    "    for root, dirs, files in os.walk(foldername):\n",
    "        for file in files:\n",
    "            dirname, filename = os.path.split(file)\n",
    "\n",
    "#             print(filename.split('2019', 1)[0])\n",
    "            if filename.split('_', 1)[0] == houseID:\n",
    "                filename = filename.split('_', 1)[1]        \n",
    "                file_list.append(filename.split('.', 1)[0])\n",
    "\n",
    "    file_list.sort()\n",
    "    \n",
    "    return file_list"
   ]
  },
  {
   "cell_type": "code",
   "execution_count": 27,
   "id": "a9ddffb3",
   "metadata": {
    "ExecuteTime": {
     "end_time": "2022-01-25T07:46:46.568469Z",
     "start_time": "2022-01-25T07:46:46.543482Z"
    }
   },
   "outputs": [],
   "source": [
    "def get_file_weather(foldername, houseID):\n",
    "    \n",
    "    file_list = []  # file name stored in file_list\n",
    "   \n",
    "    for root, dirs, files in os.walk(foldername):\n",
    "        for file in files:\n",
    "            dirname, filename = os.path.split(file)\n",
    "            \n",
    "#             print(filename)\n",
    "#             print(filename.split('2019', 1)[0])      \n",
    "\n",
    "            if filename.split('2019', 1)[0] == houseID:\n",
    "                filename = filename.split('weather', 1)[1]        \n",
    "                file_list.append(filename.split('.', 1)[0])\n",
    "\n",
    "    file_list.sort()\n",
    "    \n",
    "    return file_list"
   ]
  },
  {
   "cell_type": "code",
   "execution_count": 28,
   "id": "9e0fdeb6",
   "metadata": {
    "ExecuteTime": {
     "end_time": "2022-01-25T07:46:50.090135Z",
     "start_time": "2022-01-25T07:46:49.994268Z"
    }
   },
   "outputs": [
    {
     "name": "stdout",
     "output_type": "stream",
     "text": [
      "weather: 334 \n",
      " house212 344 \n",
      " house213 346 \n",
      " house214 334 \n",
      " house215 345\n"
     ]
    }
   ],
   "source": [
    "house212_files = get_file_house(house212_2019, \"house212\")\n",
    "house213_files = get_file_house(house213_2019, \"house213\")\n",
    "house214_files = get_file_house(house214_2019, \"house214\")\n",
    "house215_files = get_file_house(house215_2019, \"house215\")\n",
    "\n",
    "weather_files = get_file_weather(weather_2019, \"weather\")\n",
    "\n",
    "print(\"weather:\", len(weather_files), \"\\n\",\n",
    "      \"house212\", len(house212_files), \"\\n\",\n",
    "      \"house213\", len(house213_files), \"\\n\",\n",
    "      \"house214\", len(house214_files), \"\\n\",\n",
    "      \"house215\", len(house215_files))"
   ]
  },
  {
   "cell_type": "markdown",
   "id": "752ca6bc",
   "metadata": {},
   "source": [
    "# Get the common date files"
   ]
  },
  {
   "cell_type": "code",
   "execution_count": 29,
   "id": "ae23f8fe",
   "metadata": {
    "ExecuteTime": {
     "end_time": "2022-01-25T07:47:02.588922Z",
     "start_time": "2022-01-25T07:47:02.583248Z"
    }
   },
   "outputs": [
    {
     "name": "stdout",
     "output_type": "stream",
     "text": [
      "332\n"
     ]
    }
   ],
   "source": [
    "common = list(set(weather_files)&set(house212_files)&set(house213_files)&set(house214_files)&set(house215_files))\n",
    "print(len(common))"
   ]
  },
  {
   "cell_type": "code",
   "execution_count": 31,
   "id": "0e3ad106",
   "metadata": {
    "ExecuteTime": {
     "end_time": "2022-01-25T07:47:13.215310Z",
     "start_time": "2022-01-25T07:47:13.186733Z"
    }
   },
   "outputs": [],
   "source": [
    "common.sort()\n",
    "# print(common)"
   ]
  },
  {
   "cell_type": "markdown",
   "id": "cd50b4d5",
   "metadata": {},
   "source": [
    "# generate APIS data"
   ]
  },
  {
   "cell_type": "code",
   "execution_count": null,
   "id": "b930150b",
   "metadata": {
    "ExecuteTime": {
     "end_time": "2022-01-24T20:46:47.255863Z",
     "start_time": "2022-01-24T20:46:47.247863Z"
    }
   },
   "outputs": [],
   "source": [
    "def gener_apis(houseID, common_list, inputfile_dir, outputfile_dir, outputfile_name):\n",
    "    # join all common dates data into one single file for each node\n",
    "    \n",
    "    df = pd.read_csv(inputfile_dir + '/' + houseID + common_list[0] + \".csv\")\n",
    "\n",
    "    df.to_csv(outputfile_dir + '/' + outputfile_name, index=False)\n",
    "\n",
    "    for i in range(1, len(common_list)):\n",
    "        df = pd.read_csv(inputfile_dir + '/' + houseID + common_list[i] + \".csv\", error_bad_lines=False)\n",
    "        df.to_csv(outputfile_dir + '/' + outputfile_name, index=False, header=False, mode='a+')\n"
   ]
  },
  {
   "cell_type": "code",
   "execution_count": null,
   "id": "7ac37115",
   "metadata": {
    "ExecuteTime": {
     "end_time": "2022-01-24T20:47:07.199878Z",
     "start_time": "2022-01-24T20:46:50.849427Z"
    }
   },
   "outputs": [],
   "source": [
    "common_list = common\n",
    "\n",
    "house212_inputfile_dir = '/Users/Huang/Documents/DQNBattery/data/house212_2019_sift'\n",
    "house212_outputfile_dir = '/Users/Huang/Documents/DQNBattery/data'\n",
    "house212_outputfile_name = 'house212_2019_apis_all.csv'\n",
    "\n",
    "house212_apis = gener_apis(\"house212_\", common, house212_inputfile_dir, house212_outputfile_dir, house212_outputfile_name)\n"
   ]
  },
  {
   "cell_type": "code",
   "execution_count": null,
   "id": "0982a614",
   "metadata": {
    "ExecuteTime": {
     "end_time": "2022-01-24T20:47:25.465729Z",
     "start_time": "2022-01-24T20:47:07.209443Z"
    }
   },
   "outputs": [],
   "source": [
    "house213_inputfile_dir = '/Users/Huang/Documents/DQNBattery/data/house213_2019_sift'\n",
    "house213_outputfile_dir = '/Users/Huang/Documents/DQNBattery/data'\n",
    "house213_outputfile_name = 'house213_2019_apis_all.csv'\n",
    "\n",
    "house213_apis = gener_apis(\"house213_\", common, house213_inputfile_dir, house213_outputfile_dir, house213_outputfile_name)\n"
   ]
  },
  {
   "cell_type": "code",
   "execution_count": null,
   "id": "bae2e5d6",
   "metadata": {
    "ExecuteTime": {
     "end_time": "2022-01-24T20:47:41.168985Z",
     "start_time": "2022-01-24T20:47:25.628000Z"
    }
   },
   "outputs": [],
   "source": [
    "house214_inputfile_dir = '/Users/Huang/Documents/DQNBattery/data/house214_2019_sift'\n",
    "house214_outputfile_dir = '/Users/Huang/Documents/DQNBattery/data'\n",
    "house214_outputfile_name = 'house214_2019_apis_all.csv'\n",
    "\n",
    "house214_apis = gener_apis(\"house214_\", common, house214_inputfile_dir, house214_outputfile_dir, house214_outputfile_name)\n"
   ]
  },
  {
   "cell_type": "code",
   "execution_count": null,
   "id": "0abf1966",
   "metadata": {
    "ExecuteTime": {
     "end_time": "2022-01-24T20:47:56.858415Z",
     "start_time": "2022-01-24T20:47:41.172155Z"
    }
   },
   "outputs": [],
   "source": [
    "house215_inputfile_dir = '/Users/Huang/Documents/DQNBattery/data/house215_2019_sift'\n",
    "house215_outputfile_dir = '/Users/Huang/Documents/DQNBattery/data'\n",
    "house215_outputfile_name = 'house215_2019_apis_all.csv'\n",
    "\n",
    "house215_apis = gener_apis(\"house215_\", common, house215_inputfile_dir, house215_outputfile_dir, house215_outputfile_name)\n"
   ]
  },
  {
   "cell_type": "code",
   "execution_count": null,
   "id": "a3d31ef6",
   "metadata": {
    "ExecuteTime": {
     "end_time": "2022-01-24T20:48:04.442838Z",
     "start_time": "2022-01-24T20:47:56.868097Z"
    }
   },
   "outputs": [],
   "source": [
    "weather_inputfile_dir = '/Users/Huang/Documents/DQNBattery/data/2019_hillside_weather'\n",
    "weather_outputfile_dir = '/Users/Huang/Documents/DQNBattery/data'\n",
    "weather_outputfile_name = 'weather_2019_apis_all.csv'\n",
    "\n",
    "weather_apis = gener_apis(\"weather\", common, weather_inputfile_dir, weather_outputfile_dir, weather_outputfile_name)\n"
   ]
  },
  {
   "cell_type": "markdown",
   "id": "3cff725c",
   "metadata": {},
   "source": [
    "# take average value for every 30 mins"
   ]
  },
  {
   "cell_type": "code",
   "execution_count": null,
   "id": "2f36775d",
   "metadata": {
    "ExecuteTime": {
     "end_time": "2022-01-24T21:09:43.127461Z",
     "start_time": "2022-01-24T21:09:43.121517Z"
    }
   },
   "outputs": [],
   "source": [
    "def timeframe(timestep, inputdata):\n",
    "    # select the timestamp with every timestep mins\n",
    "    # slice data for every 15 minutes\n",
    "    # raw data recorded for each 30s, ~ slice data for every timestep*2 rows\n",
    "    step = np.arange(0, len(inputdata), timestep * 2)\n",
    "    outputdata = inputdata.loc[step, :]\n",
    "    outputdata.index = range(len(outputdata))  # do not keep original index\n",
    "    return outputdata"
   ]
  },
  {
   "cell_type": "code",
   "execution_count": null,
   "id": "f00a9ae3",
   "metadata": {
    "ExecuteTime": {
     "end_time": "2022-01-24T21:09:44.940649Z",
     "start_time": "2022-01-24T21:09:44.934754Z"
    }
   },
   "outputs": [],
   "source": [
    "def timeframe_avg(timestep, inputdata):\n",
    "    inputdata = inputdata.fillna(method='ffill', inplace=False)\n",
    "    avg = inputdata.groupby(inputdata.index // (timestep * 2)).mean()\n",
    "    timestamp = timeframe(timestep, inputdata)\n",
    "    time = timestamp[['timestamp']]\n",
    "    outputdata = pd.concat((time, avg), axis=1)\n",
    "    return outputdata"
   ]
  },
  {
   "cell_type": "code",
   "execution_count": null,
   "id": "69a5c92e",
   "metadata": {
    "ExecuteTime": {
     "end_time": "2022-01-24T21:09:51.463658Z",
     "start_time": "2022-01-24T21:09:49.594989Z"
    }
   },
   "outputs": [],
   "source": [
    "timestep = 30\n",
    "\n",
    "house212_ess_dir = '/Users/Huang/Documents/DQNBattery/data/house212_2019_apis_all.csv'\n",
    "house212_inputdata = pd.read_csv(house212_ess_dir)\n",
    "house212_outputdata = timeframe_avg(timestep, house212_inputdata)\n",
    "house212_outputdata.to_csv('/Users/Huang/Documents/APIS/apis-emulator/data/input/Sample/house212_2019_avg.csv', index=False)\n"
   ]
  },
  {
   "cell_type": "code",
   "execution_count": null,
   "id": "c2867121",
   "metadata": {
    "ExecuteTime": {
     "end_time": "2022-01-24T21:11:11.878972Z",
     "start_time": "2022-01-24T21:11:10.502956Z"
    }
   },
   "outputs": [],
   "source": [
    "house213_ess_dir = '/Users/Huang/Documents/DQNBattery/data/house213_2019_apis_all.csv'\n",
    "house213_inputdata = pd.read_csv(house213_ess_dir)\n",
    "house213_outputdata = timeframe_avg(timestep, house213_inputdata)\n",
    "house213_outputdata.to_csv('/Users/Huang/Documents/APIS/apis-emulator/data/input/Sample/house213_2019_avg.csv', index=False)\n"
   ]
  },
  {
   "cell_type": "code",
   "execution_count": null,
   "id": "1c6a44d3",
   "metadata": {
    "ExecuteTime": {
     "end_time": "2022-01-24T21:11:19.091683Z",
     "start_time": "2022-01-24T21:11:17.681988Z"
    }
   },
   "outputs": [],
   "source": [
    "house214_ess_dir = '/Users/Huang/Documents/DQNBattery/data/house214_2019_apis_all.csv'\n",
    "house214_inputdata = pd.read_csv(house214_ess_dir)\n",
    "house214_outputdata = timeframe_avg(timestep, house214_inputdata)\n",
    "house214_outputdata.to_csv('/Users/Huang/Documents/APIS/apis-emulator/data/input/Sample/house214_2019_avg.csv', index=False)\n"
   ]
  },
  {
   "cell_type": "code",
   "execution_count": null,
   "id": "7467ae98",
   "metadata": {
    "ExecuteTime": {
     "end_time": "2022-01-24T21:11:22.948367Z",
     "start_time": "2022-01-24T21:11:21.379776Z"
    }
   },
   "outputs": [],
   "source": [
    "house215_ess_dir = '/Users/Huang/Documents/DQNBattery/data/house215_2019_apis_all.csv'\n",
    "house215_inputdata = pd.read_csv(house215_ess_dir)\n",
    "house215_outputdata = timeframe_avg(timestep, house215_inputdata)\n",
    "house215_outputdata.to_csv('/Users/Huang/Documents/APIS/apis-emulator/data/input/Sample/house215_2019_avg.csv', index=False)\n"
   ]
  },
  {
   "cell_type": "code",
   "execution_count": null,
   "id": "903ae15d",
   "metadata": {
    "ExecuteTime": {
     "end_time": "2022-01-24T21:11:26.282964Z",
     "start_time": "2022-01-24T21:11:25.224203Z"
    }
   },
   "outputs": [],
   "source": [
    "weather_ess_dir = '/Users/Huang/Documents/DQNBattery/data/weather_2019_apis_all.csv'\n",
    "weather_inputdata = pd.read_csv(weather_ess_dir)\n",
    "weather_outputdata = timeframe_avg(timestep, weather_inputdata)\n",
    "weather_outputdata.to_csv('/Users/Huang/Documents/APIS/apis-emulator/data/input/Sample/weather_2019_avg.csv', index=False)\n"
   ]
  },
  {
   "cell_type": "markdown",
   "id": "e9678a3f",
   "metadata": {},
   "source": [
    "# put all data into one file"
   ]
  },
  {
   "cell_type": "code",
   "execution_count": null,
   "id": "fa2a601d",
   "metadata": {},
   "outputs": [],
   "source": [
    "# house 212, 213, 214, 215 four houses\n",
    "\n",
    "def file_name_csv(input_data, output_data_dir):\n",
    "\n",
    "    os.chdir(input_data)  # path of original csv data files\n",
    "    # name = os.path.splitext(raw_data_dir)[0]  # get file name\n",
    "    input_data = os.getcwd()  # read current file path\n",
    "\n",
    "    file_list = os.listdir(input_data)\n",
    "\n",
    "    new_path = output_data_dir\n",
    "    for path in file_list:\n",
    "        data = pd.read_csv(path)\n",
    "        df = pd.DataFrame(data, columns=[\"timestamp\",\n",
    "                                         \"pvc_charge_power\"\n",
    "                                         \"ups_output_power\",\n",
    "                                         ])\n",
    "        # export to csv files\n",
    "        df.to_csv(os.path.join(new_path, path), index=False)"
   ]
  },
  {
   "cell_type": "code",
   "execution_count": null,
   "id": "81f2a6a1",
   "metadata": {},
   "outputs": [],
   "source": []
  },
  {
   "cell_type": "markdown",
   "id": "9d24b3b2",
   "metadata": {
    "ExecuteTime": {
     "end_time": "2022-01-24T22:38:06.191906Z",
     "start_time": "2022-01-24T22:38:06.186383Z"
    }
   },
   "source": [
    "## leave the data with the same arrangement "
   ]
  },
  {
   "cell_type": "code",
   "execution_count": null,
   "id": "c97b832d",
   "metadata": {
    "ExecuteTime": {
     "end_time": "2022-01-24T22:44:09.902360Z",
     "start_time": "2022-01-24T22:44:09.738718Z"
    }
   },
   "outputs": [],
   "source": [
    "input_data = pd.read_csv(\"/Users/Huang/Documents/APIS/apis-emulator/data/input/Sample/house212_2019_avg.csv\") \n",
    "input_data = input_data.fillna(method=\"ffill\", inplace=False)\n",
    "df = pd.DataFrame(input_data, columns=[\"timestamp\", \"ups_output_power\"])\n",
    "\n",
    "df.rename(columns={\"timestamp\":\"Date\"}, inplace=True)\n",
    "# print(df.Date)\n",
    "df[\"Date\"] = pd.to_datetime(df.Date)\n",
    "\n",
    "# df['Date'] = pd.to_datetime(df['Date'], errors='coerce')\n",
    "# df[\"Date\"] = df[\"Date\"].dt.date\n",
    "\n",
    "# df[\"Time\"] = df[\"Date\"].dt.time\n",
    "df[\"Date\"] = df[\"Date\"].dt.strftime('%Y/%m/%d')\n",
    "\n",
    "display(df)\n",
    "\n",
    "\n",
    "# df3 = df.unstack(0)\n",
    "# print(df3)\n",
    "\n",
    "\n",
    "# new_path = output_data_dir\n",
    "\n",
    "\n",
    "# for path in file_list:\n",
    "#     data = pd.read_csv(path)\n",
    "#     df = pd.DataFrame(data, columns=[\"timestamp\",\n",
    "#                                      \"ups_output_power\",\n",
    "#                                      ])\n",
    "#     # export to csv files\n",
    "#     df.to_csv(os.path.join(new_path, path), index=False)"
   ]
  },
  {
   "cell_type": "code",
   "execution_count": null,
   "id": "6dc467ba",
   "metadata": {
    "ExecuteTime": {
     "end_time": "2022-01-24T22:51:20.294051Z",
     "start_time": "2022-01-24T22:51:20.276059Z"
    }
   },
   "outputs": [],
   "source": [
    "def old_loadDemand_Sample():\n",
    "    \n",
    "    global demand\n",
    "\n",
    "    demand = {}\n",
    "    # demand_data = np.genfromtxt('data/input/Sample/sample_load_data.csv', delimiter=',', names=True, dtype=None, encoding='utf-8')\n",
    "    cols = list(range(6, 52+1, 2))\n",
    "    cols.insert(0, 1)\n",
    "    # read column 2, col 7~53 for every 2 cols (1 hour per data point) from input data\n",
    "    # replace our own data files to the /Sample/ folder\n",
    "    demand_data = np.loadtxt('cdata/input/Sample/sample_load_data.csv', delimiter=',', skiprows=1, usecols=cols)\n",
    "    print(demand_data)\n",
    "    \n",
    "    for row in demand_data:\n",
    "        cus_id = \"E{0:03d}\".format(int(row[0]))\n",
    "        print(\"cus_id\", cus_id)\n",
    "        if not demand.get(cus_id):\n",
    "            demand[cus_id] = []\n",
    "        demand[cus_id].append(row[1:])\n",
    "    for cus_id in demand:\n",
    "        demand[cus_id] = np.array(demand[cus_id])\n",
    "        gl.displayNames[cus_id] = \"Sample_\"+cus_id\n",
    "\n",
    "    return demand"
   ]
  },
  {
   "cell_type": "code",
   "execution_count": null,
   "id": "c0b21e40",
   "metadata": {
    "ExecuteTime": {
     "end_time": "2022-01-24T22:52:14.936880Z",
     "start_time": "2022-01-24T22:51:56.144752Z"
    }
   },
   "outputs": [],
   "source": [
    "demandUpdate = old_loadDemand_Sample()\n"
   ]
  },
  {
   "cell_type": "code",
   "execution_count": null,
   "id": "8bfdf826",
   "metadata": {
    "ExecuteTime": {
     "end_time": "2022-01-25T02:32:33.640509Z",
     "start_time": "2022-01-25T02:32:33.632348Z"
    }
   },
   "outputs": [],
   "source": [
    "def old_loadDemand_Sample():\n",
    "    global demand\n",
    "\n",
    "    demand = {}\n",
    "    # demand_data = np.genfromtxt('data/input/Sample/sample_load_data.csv', delimiter=',', names=True, dtype=None, encoding='utf-8')\n",
    "    cols = list(range(6, 52+1, 2))\n",
    "    cols.insert(0, 1)\n",
    "    print(cols)\n",
    "    # read column 2, col 7~53 for every 2 cols (1 hour per data point) from input data\n",
    "    # replace our own data files to the /Sample/ folder\n",
    "    demand_data = np.loadtxt('/Users/Huang/Documents/APIS/apis-emulator/data/input/Sample/sample_load_data.csv', delimiter=',', skiprows=1, usecols=cols)\n",
    "#     print(demand_data)\n",
    "    \n",
    "    for row in demand_data:\n",
    "        print(int(row[0]), row)\n",
    "        cus_id = \"E{0:03d}\".format(int(row[0]))\n",
    "        print(\"cus_id\", cus_id)\n",
    "        if not demand.get(cus_id):\n",
    "            demand[cus_id] = []\n",
    "        demand[cus_id].append(row[1:])\n",
    "#         print(demand[cus_id])\n",
    "        \n",
    "    print(\"all id\", demand)\n",
    "    \n",
    "    for cus_id in demand:\n",
    "        demand[cus_id] = np.array(demand[cus_id])\n",
    "        displayNames[cus_id] = \"Sample_\"+cus_id\n",
    "\n",
    "    return demand"
   ]
  },
  {
   "cell_type": "code",
   "execution_count": null,
   "id": "0c0cc45f",
   "metadata": {
    "ExecuteTime": {
     "end_time": "2022-01-25T02:33:16.596044Z",
     "start_time": "2022-01-25T02:32:35.546498Z"
    }
   },
   "outputs": [],
   "source": [
    "displayNames = {}\n",
    "sample_load = old_loadDemand_Sample()\n",
    "display(sample_load[\"E001\"])\n",
    "print(len(sample_load[\"E001\"]))"
   ]
  },
  {
   "cell_type": "code",
   "execution_count": null,
   "id": "3304e356",
   "metadata": {
    "ExecuteTime": {
     "end_time": "2022-01-25T02:18:01.436509Z",
     "start_time": "2022-01-25T02:18:01.411900Z"
    }
   },
   "outputs": [],
   "source": [
    "def PV_data():  # load house's PV production data\n",
    "    global pv\n",
    "\n",
    "    col = 7 #list(range(2, 6, 1)), ups_output_power\n",
    "#     col.insert(0, 0)\n",
    "    print(col)\n",
    "    our_data = np.loadtxt('/Users/Huang/Documents/APIS/apis-emulator/data/input/Sample/house214_2019_avg.csv', delimiter=',', skiprows=1, usecols=col)\n",
    "    # get the pvc_charge_power column (3rd), house 214, 2019\n",
    "    # pv = our_data[:, 2]\n",
    "\n",
    "    pv = {}\n",
    "\n",
    "    day_len = int(len(our_data) / 48)\n",
    "\n",
    "    for load_col in our_data:\n",
    "        house_id = \"E{0:03d}\".format(int(load_col[0]))\n",
    "        if not pv.get(house_id):\n",
    "            pv[house_id] = []\n",
    "\n",
    "    for day in range(day_len):\n",
    "        pv[house_id].append(our_data[day * 48:(day + 1) * 48, 2])\n",
    "\n",
    "    for house_id in pv:\n",
    "        pv[house_id] = np.array(pv[house_id])\n",
    "\n",
    "    pv = pv[house_id]\n",
    "\n",
    "    return pv"
   ]
  },
  {
   "cell_type": "code",
   "execution_count": null,
   "id": "d97826f3",
   "metadata": {
    "ExecuteTime": {
     "end_time": "2022-01-25T02:18:29.228526Z",
     "start_time": "2022-01-25T02:18:28.873690Z"
    }
   },
   "outputs": [],
   "source": [
    "load = PV_data()\n",
    "print(load)"
   ]
  },
  {
   "cell_type": "code",
   "execution_count": 2,
   "id": "2a22829b",
   "metadata": {
    "ExecuteTime": {
     "end_time": "2022-01-25T07:04:18.968904Z",
     "start_time": "2022-01-25T07:04:18.922132Z"
    }
   },
   "outputs": [],
   "source": [
    "# weather\n",
    "def old_pvcUpdate_Sample():\n",
    "    count_h = float(count_s)/3600\n",
    "\n",
    "    weight = count_h-int(count_h)\n",
    "    print(\"weight: \", weight)\n",
    "    \n",
    "    step_now = (int((count_h) / 24)), int((count_h) % 24)\n",
    "    print(\"step_now: \", step_now)\n",
    "    \n",
    "    step_next = (int((count_h+1)/24)), int((count_h+1) % 24)\n",
    "    print(\"step_next:\", step_next)\n",
    "    \n",
    "    if int(count_h+1) >= sol.size:\n",
    "        logger.debug(\"no more solar radiation data\")\n",
    "        return False\n",
    "    for oesid in oesunits:\n",
    "        oesunits[oesid][\"emu\"][\"pvc_charge_power\"] = round((1-weight)*sol[step_now] + weight*sol[step_next], 2)  # sol[W]\n",
    "        print(\"pvc\", oesunits)\n",
    "        \n",
    "    print(\"sol[step_now]\", sol[step_now], \"\\n\", \"sol[step_next]\", sol[step_next])\n",
    "    print(\"pvc power\", round((1-weight)*sol[step_now] + weight*sol[step_next], 2))\n",
    "    print((1-weight)*sol[step_now] + weight*sol[step_next])\n",
    "    \n",
    "    return True"
   ]
  },
  {
   "cell_type": "code",
   "execution_count": 3,
   "id": "21495134",
   "metadata": {
    "ExecuteTime": {
     "end_time": "2022-01-25T07:04:24.254928Z",
     "start_time": "2022-01-25T07:04:24.225286Z"
    }
   },
   "outputs": [
    {
     "name": "stdout",
     "output_type": "stream",
     "text": [
      "count_h = 8750.5000 hours\n",
      "sol.size:  8760 \n",
      " data size is 365 days\n",
      "weight:  0.5\n",
      "step_now:  (364, 14)\n",
      "step_next: (364, 15)\n",
      "sol[step_now] 472.8 \n",
      " sol[step_next] 404.1\n",
      "pvc power 438.45\n",
      "438.45000000000005\n",
      "True\n"
     ]
    }
   ],
   "source": [
    "count_s = 525600 * 60 - 3600*9.5   # how many seconds have passed\n",
    "count_h = float(count_s) / 3600\n",
    "print(\"count_h = {:.4f} hours\".format(count_h))\n",
    "oesunits = {}\n",
    "sol = np.loadtxt('/Users/Huang/Documents/APIS/apis-emulator/data/input/Sample/sample_solar_data.csv', delimiter=',')\n",
    "print(\"sol.size: \", sol.size, \"\\n\", \"data size is {:.0f} days\".format(int(sol.size/24)))\n",
    "\n",
    "pvc = old_pvcUpdate_Sample()\n",
    "print(pvc)"
   ]
  },
  {
   "cell_type": "markdown",
   "id": "25f4fc52",
   "metadata": {},
   "source": [
    "## OUR DATA update, solar rad"
   ]
  },
  {
   "cell_type": "code",
   "execution_count": 37,
   "id": "3e1f2e37",
   "metadata": {
    "ExecuteTime": {
     "end_time": "2022-01-25T08:02:52.191546Z",
     "start_time": "2022-01-25T08:02:52.172487Z"
    }
   },
   "outputs": [],
   "source": [
    "def PVCUpdate():\n",
    "#     count_s = 3600*12 # how many seconds have passed\n",
    "    count_t = float(count_s)/30  # set counter for data which is collected every 30s\n",
    "    print(count_t)\n",
    "    weight = count_t-int(count_t)\n",
    "    print(\"weight: \", weight)\n",
    "\n",
    "    \n",
    "#     step_now = (int((count_h) / 24)), int((count_h) % 24)\n",
    "#     print(\"step_now: \", step_now)\n",
    "    \n",
    "#     step_next = (int((count_h+1)/24)), int((count_h+1) % 24)\n",
    "#     print(\"step_next:\", step_next)\n",
    "    \n",
    "    step_now =  (int((count_t) / 2880)+1) * int((count_t) % 2880)\n",
    "    print(\"step_now: \", step_now, \"\\n\", \"our_data[step_now]\", our_data[step_now])\n",
    "\n",
    "    step_next = (int((count_t+1) / 2880)+1) * int((count_t+1) % 2880)\n",
    "    print(\"step_next:\", step_next, \"\\n\", \"our_data[step_next]\", our_data[step_next])\n",
    "\n",
    "    if int(count_t+1) >= our_data.size:\n",
    "        logger.debug(\"no more our_data radiation data\")\n",
    "        return False\n",
    "    for oesid in oesunits:\n",
    "        oesunits[oesid][\"emu\"][\"pvc_charge_power\"] = round((1-weight)*our_data[step_now] + weight*our_data[step_next], 2)  # our_data[W]\n",
    "        print(\"pvc\", oesunits)\n",
    "        \n",
    "    print(\"our_data[step_now]\", our_data[step_now], \"\\n\", \"our_data[step_next]\", our_data[step_next])\n",
    "    print(\"pvc power\", round((1-weight)*our_data[step_now] + weight*our_data[step_next], 2))\n",
    "    print((1-weight)*our_data[step_now] + weight*our_data[step_next])\n",
    "    \n",
    "    return True\n",
    "    "
   ]
  },
  {
   "cell_type": "code",
   "execution_count": 78,
   "id": "3a677ed6",
   "metadata": {
    "ExecuteTime": {
     "end_time": "2022-01-25T08:58:39.658566Z",
     "start_time": "2022-01-25T08:58:37.666987Z"
    },
    "code_folding": []
   },
   "outputs": [
    {
     "name": "stdout",
     "output_type": "stream",
     "text": [
      "[0. 0. 0. ... 0. 0. 0.] data size is 956160 <class 'numpy.ndarray'>\n",
      "788.0\n",
      "1879.5\n",
      "weight:  0.5\n",
      "step_now:  1879 \n",
      " our_data[step_now] 255.0\n",
      "step_next: 1880 \n",
      " our_data[step_next] 233.0\n",
      "our_data[step_now] 255.0 \n",
      " our_data[step_next] 233.0\n",
      "pvc power 244.0\n",
      "244.0\n",
      "True\n"
     ]
    }
   ],
   "source": [
    "# test for one day raw data (every 30s)\n",
    "col = 4\n",
    "# our_data = np.loadtxt('/Users/Huang/Documents/DQNBattery/data/house212_2019_apis_all.csv', delimiter=',', skiprows=1, usecols=col)\n",
    "# print(type(our_data))\n",
    "our_data_all = pd.read_csv('/Users/Huang/Documents/DQNBattery/data/house212_2019_apis_all.csv')#, delimiter=',', skiprows=1, usecols=col)\n",
    "our_data_all = our_data_all.fillna(method=\"ffill\", inplace=False)\n",
    "our_data = our_data_all['pvc_charge_power'].values\n",
    "\n",
    "# data_h212 = np.loadtxt(\"/Users/Huang/Documents/DQNBattery/data/house212_2019_sift/house212_20190101.csv\")\n",
    "print(our_data, \"data size is\", our_data.size, type(our_data))  # 0~2879\n",
    "print(our_data[1566])\n",
    "# pvc_212 = data_h212[\"\"]\n",
    "# plt.plot(our_data)\n",
    "# plt.show()\n",
    "\n",
    "count_s = 3600*24 - 30*1000.5 # how many seconds have passed\n",
    "# count_t = float(count_s)/30  # set counter for data which is collected every 30s\n",
    "# print(count_t)\n",
    "# weight = count_t-int(count_t)\n",
    "# print(\"weight: \", weight)\n",
    "\n",
    "oesunits = {}\n",
    "\n",
    "pvc = PVCUpdate()\n",
    "print(pvc)\n"
   ]
  },
  {
   "cell_type": "markdown",
   "id": "c4e267bc",
   "metadata": {
    "ExecuteTime": {
     "end_time": "2022-01-25T08:02:02.716500Z",
     "start_time": "2022-01-25T08:02:02.707558Z"
    }
   },
   "source": [
    "## Our data updates, load"
   ]
  },
  {
   "cell_type": "code",
   "execution_count": 80,
   "id": "fb92794f",
   "metadata": {
    "ExecuteTime": {
     "end_time": "2022-01-25T09:04:26.341051Z",
     "start_time": "2022-01-25T09:04:26.329399Z"
    }
   },
   "outputs": [],
   "source": [
    "def LOADUpdate():\n",
    "#     count_s = 3600*12 # how many seconds have passed\n",
    "    count_t = float(count_s)/30  # set counter for data which is collected every 30s\n",
    "    print(count_t)\n",
    "    weight = count_t-int(count_t)\n",
    "    print(\"weight: \", weight)\n",
    "\n",
    "    step_now =  (int((count_t) / 2880)+1) * int((count_t) % 2880)\n",
    "    print(\"step_now: \", step_now, \"\\n\", \"our_data[step_now]\", our_data[step_now])\n",
    "\n",
    "    step_next = (int((count_t+1) / 2880)+1) * int((count_t+1) % 2880)\n",
    "    print(\"step_next:\", step_next, \"\\n\", \"our_data[step_next]\", our_data[step_next])\n",
    "\n",
    "    if int(count_t+1) >= our_data.size:\n",
    "        logger.debug(\"no more our_data load data\")\n",
    "        return False\n",
    "    for oesid in oesunits:\n",
    "        oesunits[oesid][\"emu\"][\"ups_output_power\"] = round((1-weight)*our_data[step_now] + weight*our_data[step_next], 2)  # our_data[W]\n",
    "        print(\"load\", oesunits)\n",
    "        \n",
    "    print(\"our_data[step_now]\", our_data[step_now], \"\\n\", \"our_data[step_next]\", our_data[step_next])\n",
    "    print(\"pvc power\", round((1-weight)*our_data[step_now] + weight*our_data[step_next], 2))\n",
    "    print((1-weight)*our_data[step_now] + weight*our_data[step_next])\n",
    "    \n",
    "    return True\n",
    "    "
   ]
  },
  {
   "cell_type": "code",
   "execution_count": 81,
   "id": "cf0e2f5c",
   "metadata": {
    "ExecuteTime": {
     "end_time": "2022-01-25T09:04:32.071413Z",
     "start_time": "2022-01-25T09:04:30.220710Z"
    }
   },
   "outputs": [
    {
     "name": "stdout",
     "output_type": "stream",
     "text": [
      "[158. 152. 155. ...   0.   0.   0.] data size is 956160 <class 'numpy.ndarray'>\n",
      "147.0\n",
      "1879.5\n",
      "weight:  0.5\n",
      "step_now:  1879 \n",
      " our_data[step_now] 116.0\n",
      "step_next: 1880 \n",
      " our_data[step_next] 115.0\n",
      "our_data[step_now] 116.0 \n",
      " our_data[step_next] 115.0\n",
      "pvc power 115.5\n",
      "115.5\n",
      "True\n"
     ]
    }
   ],
   "source": [
    "# test for one day raw data (every 30s)\n",
    "\n",
    "our_data_all = pd.read_csv('/Users/Huang/Documents/DQNBattery/data/house212_2019_apis_all.csv')\n",
    "our_data_all = our_data_all.fillna(method=\"ffill\", inplace=False)\n",
    "our_data = our_data_all['ups_output_power'].values\n",
    "\n",
    "# data_h212 = np.loadtxt(\"/Users/Huang/Documents/DQNBattery/data/house212_2019_sift/house212_20190101.csv\")\n",
    "print(our_data, \"data size is\", our_data.size, type(our_data))  # 0~2879\n",
    "print(our_data[1566])\n",
    "# pvc_212 = data_h212[\"\"]\n",
    "# plt.plot(our_data)\n",
    "# plt.show()\n",
    "\n",
    "count_s = 3600*24 - 30*1000.5 # how many seconds have passed\n",
    "# count_t = float(count_s)/30  # set counter for data which is collected every 30s\n",
    "# print(count_t)\n",
    "# weight = count_t-int(count_t)\n",
    "# print(\"weight: \", weight)\n",
    "\n",
    "oesunits = {}\n",
    "\n",
    "load = LOADUpdate()\n",
    "print(load)\n"
   ]
  },
  {
   "cell_type": "code",
   "execution_count": null,
   "id": "aa8d6b9e",
   "metadata": {},
   "outputs": [],
   "source": []
  }
 ],
 "metadata": {
  "kernelspec": {
   "display_name": "Python 3.7 (tensorflow)",
   "language": "python",
   "name": "tensorflow"
  },
  "language_info": {
   "codemirror_mode": {
    "name": "ipython",
    "version": 3
   },
   "file_extension": ".py",
   "mimetype": "text/x-python",
   "name": "python",
   "nbconvert_exporter": "python",
   "pygments_lexer": "ipython3",
   "version": "3.6.13"
  },
  "toc": {
   "base_numbering": 1,
   "nav_menu": {},
   "number_sections": true,
   "sideBar": true,
   "skip_h1_title": false,
   "title_cell": "Table of Contents",
   "title_sidebar": "Contents",
   "toc_cell": false,
   "toc_position": {
    "height": "calc(100% - 180px)",
    "left": "10px",
    "top": "150px",
    "width": "207.188px"
   },
   "toc_section_display": true,
   "toc_window_display": true
  }
 },
 "nbformat": 4,
 "nbformat_minor": 5
}
